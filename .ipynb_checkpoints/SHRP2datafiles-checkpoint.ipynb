{
 "cells": [
  {
   "cell_type": "code",
   "execution_count": 1,
   "metadata": {},
   "outputs": [
    {
     "name": "stderr",
     "output_type": "stream",
     "text": [
      "/Users/raviagrawal/miniconda3/lib/python3.6/importlib/_bootstrap.py:219: RuntimeWarning: numpy.dtype size changed, may indicate binary incompatibility. Expected 96, got 88\n",
      "  return f(*args, **kwds)\n",
      "/Users/raviagrawal/miniconda3/lib/python3.6/importlib/_bootstrap.py:219: RuntimeWarning: numpy.dtype size changed, may indicate binary incompatibility. Expected 96, got 88\n",
      "  return f(*args, **kwds)\n"
     ]
    }
   ],
   "source": [
    "# import\n",
    "import pandas as pd\n",
    "import numpy as np\n",
    "import glob\n",
    "import warnings\n",
    "warnings.filterwarnings('ignore')\n",
    "#import matplotlib.pyplot as plt\n",
    "import itertools\n",
    "import numpy as np\n",
    "\n",
    "import seaborn as sns\n",
    "import matplotlib.pyplot as plt\n",
    "# Machine Learning libraries.\n",
    "from sklearn import preprocessing\n",
    "from sklearn.linear_model import LogisticRegression\n",
    "from sklearn.model_selection import train_test_split\n",
    "from sklearn.metrics import accuracy_score\n",
    "from sklearn.metrics import confusion_matrix\n",
    "from sklearn.metrics import precision_recall_fscore_support\n",
    "from sklearn.metrics import classification_report\n",
    "from sklearn.decomposition import PCA\n"
   ]
  },
  {
   "cell_type": "code",
   "execution_count": 2,
   "metadata": {},
   "outputs": [
    {
     "name": "stdout",
     "output_type": "stream",
     "text": [
      "example\n"
     ]
    },
    {
     "data": {
      "text/plain": [
       "'./csv/File_ID_819087_Index_33564154.csv'"
      ]
     },
     "execution_count": 2,
     "metadata": {},
     "output_type": "execute_result"
    }
   ],
   "source": [
    "# Helper function to locate full path of file with file_id\n",
    "files_lookup = {}\n",
    "for files in glob.glob(\"./csv/*.csv\"):\n",
    "    files_lookup[files.split(\"_\")[2]] = files\n",
    "print(\"example\")\n",
    "files_lookup[\"819087\"]"
   ]
  },
  {
   "cell_type": "code",
   "execution_count": 3,
   "metadata": {},
   "outputs": [],
   "source": [
    "#Files to be loaded\n",
    "driverDemo =  pd.read_excel(\"InSight Tables_Keys/DriverDemographic.xlsx\")\n",
    "tripsum =  pd.read_excel(\"InSight Tables_Keys/TripSummaryMeasures.xlsx\")\n",
    "event =  pd.read_excel(\"InSight Tables_Keys/eventDetails.xlsx\")\n",
    "eventUpdate = pd.read_excel(\"InSight Tables_Keys/eventDetailsUpdate.xlsx\")\n",
    "visualCognitive = pd.read_excel(\"InSight Tables_Keys/VisualAndCognitiveTests.xlsx\")\n",
    "medical = pd.read_excel('InSight Tables_Keys/MedicalConditions&MedicationsData.xlsx')\n",
    "clockDrawingTests = pd.read_excel(\"InSight Tables_Keys/clockDrawingTests.xlsx\")\n",
    "sleepTable = pd.read_excel(\"InSight Tables_Keys/SleepHabitsQuestionnaire.xlsx\")\n",
    "DriverExit = pd.read_excel(\"InSight Tables_Keys/DriverExitInterview.xlsx\")\n",
    "DrivingHistory = pd.read_excel(\"InSight Tables_Keys/DrivingHistory.xlsx\")\n",
    "DrivingBehavior = pd.read_excel(\"InSight Tables_Keys/DriverBehaviorQuestionnaire.xlsx\")"
   ]
  },
  {
   "cell_type": "code",
   "execution_count": 4,
   "metadata": {},
   "outputs": [],
   "source": [
    "# Driving Behaviour\n",
    "DrivingBehavior.fillna(0, inplace=True)\n",
    "\n",
    "# pass on the turning vehicle \n",
    "DrivingBehavior.passTrnVeh[DrivingBehavior.passTrnVeh == 'Never'] = 0\n",
    "DrivingBehavior.passTrnVeh[DrivingBehavior.passTrnVeh == 'Occasionally'] = 1\n",
    "DrivingBehavior.passTrnVeh[DrivingBehavior.passTrnVeh == 'Hardly Ever'] = 2\n",
    " \n",
    "# Road Rage\n",
    "DrivingBehavior.rage[DrivingBehavior.rage == 'Never'] = 0\n",
    "DrivingBehavior.rage[DrivingBehavior.rage == 'Occasionally'] = 1\n",
    "DrivingBehavior.rage[DrivingBehavior.rage == 'Quite Often'] = 2\n",
    "DrivingBehavior.rage[DrivingBehavior.rage == 'Hardly Ever'] = 3\n",
    "\n",
    "# Wrong Way\n",
    "DrivingBehavior.wrngWay[DrivingBehavior.wrngWay == 'Never'] = 0\n",
    "DrivingBehavior.wrngWay[DrivingBehavior.wrngWay == 'Occasionally'] = 1\n",
    "DrivingBehavior.wrngWay[DrivingBehavior.wrngWay == 'Hardly Ever'] = 2\n",
    "\n",
    "# Miss lead vehicle\n",
    "DrivingBehavior.missLead[DrivingBehavior.missLead == 'Never'] = 0\n",
    "DrivingBehavior.missLead[DrivingBehavior.missLead == 'Occasionally'] = 1\n",
    "DrivingBehavior.missLead[DrivingBehavior.missLead == 'Hardly Ever'] = 2\n",
    "\n",
    "# Wrong lane at the intersection\n",
    "DrivingBehavior.wrngLnInt[DrivingBehavior.wrngLnInt == 'Never'] = 0\n",
    "DrivingBehavior.wrngLnInt[DrivingBehavior.wrngLnInt == 'Occasionally'] = 1\n",
    "DrivingBehavior.wrngLnInt[DrivingBehavior.wrngLnInt == 'Quite Often'] = 2\n",
    "DrivingBehavior.wrngLnInt[DrivingBehavior.wrngLnInt == 'Hardly Ever'] = 3"
   ]
  },
  {
   "cell_type": "code",
   "execution_count": 5,
   "metadata": {},
   "outputs": [],
   "source": [
    "# Driving History\n",
    "DrivingHistory = DrivingHistory[[\"anonymousParticipantID\", 'numViol','numCrash']]\n",
    "DrivingHistory.fillna(0, inplace=True)\n",
    "\n",
    "DrivingHistory.numViol[DrivingHistory.numViol == '0'] = 0\n",
    "DrivingHistory.numViol[DrivingHistory.numViol == '1'] = 1\n",
    "DrivingHistory.numViol[DrivingHistory.numViol == '2 or More'] = 2\n",
    "\n",
    "DrivingHistory.numCrash[DrivingHistory.numCrash == '0'] = 0\n",
    "DrivingHistory.numCrash[DrivingHistory.numCrash == '1'] = 1\n",
    "DrivingHistory.numCrash[DrivingHistory.numCrash == '2 or More'] = 2"
   ]
  },
  {
   "cell_type": "code",
   "execution_count": 6,
   "metadata": {},
   "outputs": [],
   "source": [
    "# Driving Exit \n",
    "DriverExit.fillna(0, inplace=True)\n",
    "a = []\n",
    "for i in DriverExit.driverRestriction:\n",
    "    if i:\n",
    "        if \"left\" in i:\n",
    "            a.append(2)\n",
    "        \n",
    "        else:\n",
    "            a.append(1)\n",
    "    else:\n",
    "        a.append(0)\n",
    "        \n",
    "DriverExit.driverRestriction = a        \n",
    "DriverExit = DriverExit[[\"anonymousParticipantID\", \"driverRestriction\"]]"
   ]
  },
  {
   "cell_type": "code",
   "execution_count": 7,
   "metadata": {},
   "outputs": [
    {
     "name": "stdout",
     "output_type": "stream",
     "text": [
      "Near Crash:  296\n",
      "Crash:  81\n"
     ]
    }
   ],
   "source": [
    "print(\"Near Crash: \", len(event[event.eventSeverity1 == \"Near-Crash\"]))\n",
    "print(\"Crash: \", len(event[event.eventSeverity1 == \"Crash\"]))"
   ]
  },
  {
   "cell_type": "code",
   "execution_count": 8,
   "metadata": {},
   "outputs": [],
   "source": [
    "# Sleep Table processing \n",
    "sleepTable = sleepTable.drop([\"currWorkStat\", \"nodOffWhlDrvngFreq\", \"slpDur\", 'awkWllBng', 'awkFnctng', 'awkSlpiness'], axis = 1)\n",
    "sleepTable.fillna(0 , inplace=True)\n",
    "\n",
    "sleepTable.slpSched[sleepTable.slpSched == \"N\"] = 0\n",
    "sleepTable.slpSched[sleepTable.slpSched != 0] = 1\n",
    "\n",
    "# Sleep type\n",
    "sleepTable.slperTyp[sleepTable.slperTyp == \"Light\"] = 1\n",
    "sleepTable.slperTyp[sleepTable.slperTyp == \"Normal\"] = 2\n",
    "sleepTable.slperTyp[sleepTable.slperTyp == \"Heavy\"] = 3\n",
    "\n",
    "# nodOffWhlDrvng\n",
    "sleepTable.nodOffWhlDrvng[sleepTable.nodOffWhlDrvng == \"N\"] = 0\n",
    "sleepTable.nodOffWhlDrvng[sleepTable.nodOffWhlDrvng != 0] = 1\n",
    "\n",
    "#qltyofSlp\n",
    "sleepTable.qltyofSlp[sleepTable.qltyofSlp == \"Satisfactory\"] = 1\n",
    "sleepTable.qltyofSlp[(sleepTable.qltyofSlp != 1) & (sleepTable.qltyofSlp != 0)] = 2\n"
   ]
  },
  {
   "cell_type": "code",
   "execution_count": 9,
   "metadata": {},
   "outputs": [],
   "source": [
    "# Visual Table processing \n",
    "visualCognitive = visualCognitive[[\"anonymousParticipantID\", \"dhiVisualSearchScore\", \"dhiUFOVScore\"]]\n",
    "visualCognitive.fillna(3, inplace=True)\n",
    "\n",
    "visualCognitive.dhiVisualSearchScore[visualCognitive.dhiVisualSearchScore == \"none\"] = 0\n",
    "visualCognitive.dhiVisualSearchScore[visualCognitive.dhiVisualSearchScore == \"mild\"] = 1\n",
    "visualCognitive.dhiVisualSearchScore[visualCognitive.dhiVisualSearchScore == \"serious\"] = 2\n",
    "\n",
    "visualCognitive.dhiUFOVScore[visualCognitive.dhiUFOVScore == \"none\"] = 0\n",
    "visualCognitive.dhiUFOVScore[visualCognitive.dhiUFOVScore == \"mild\"] = 1\n",
    "visualCognitive.dhiUFOVScore[visualCognitive.dhiUFOVScore == \"serious\"] = 2"
   ]
  },
  {
   "cell_type": "code",
   "execution_count": 10,
   "metadata": {},
   "outputs": [],
   "source": [
    "# Processing the medical related data bases\n",
    "medical = medical[[\"anonymousParticipantID\", \"hear\", \"heart\",\"resp\", \"brain\", \"vasc\", \"nrvsandSlp\", \"metab\",\n",
    "                   \"limFlex\", \"sevArthr\", \"psych\", \"multMedConds\",\n",
    "                    \"multMeds\"]]\n",
    "medical.fillna(0, inplace=True)"
   ]
  },
  {
   "cell_type": "code",
   "execution_count": 11,
   "metadata": {},
   "outputs": [],
   "source": [
    "# hear Either have hear problem or not \n",
    "medical.hear[medical.hear != 0] = 1\n",
    "\n",
    "# Heart Either have heart problem or not \n",
    "medical.heart[medical.heart != 0] = 1\n",
    "\n",
    "# Resp\n",
    "medical.resp[medical.resp == \"Asthma;\"] = 1\n",
    "medical.resp[medical.resp == \"Chronic Obstructive Pulmonary Disease (COPD);\"] = 2\n",
    "\n",
    "#brain either have or not \n",
    "medical.brain[medical.brain != 0] = 1\n",
    "\n",
    "#vascular\n",
    "medical.vasc[medical.vasc != 0] = 1\n",
    "\n",
    "#nervous system\n",
    "medical.nrvsandSlp[medical.nrvsandSlp != 0] = 1\n",
    "\n",
    "# Metab\n",
    "medical.metab[medical.metab == 'Hypothyroidism;'] = 1\n",
    "medical.metab[medical.metab == 'Hyperthyroidism;'] = 1\n",
    "medical.metab[(medical.metab != 0) & (medical.metab != 1)] = 2\n",
    "\n",
    "# limited flex\n",
    "medical.limFlex[medical.limFlex == \"N\"] = 0\n",
    "medical.limFlex[medical.limFlex != 0] = 1\n",
    "\n",
    "# sevArthr\n",
    "medical.sevArthr[medical.sevArthr == \"N\"] = 0\n",
    "medical.sevArthr[medical.sevArthr != 0] = 1\n",
    "\n",
    "# psych\n",
    "medical.psych[medical.psych != 0] = 1\n",
    "\n",
    "# multMedConds\n",
    "medical.multMedConds[medical.multMedConds == \"N\"] = 0\n",
    "medical.multMedConds[medical.multMedConds != 0] = 1\n",
    "\n",
    "#multMeds\n",
    "medical.multMeds[medical.multMeds == \"N\"] = 0\n",
    "medical.multMeds[medical.multMeds != 0] = 1\n"
   ]
  },
  {
   "cell_type": "code",
   "execution_count": 12,
   "metadata": {},
   "outputs": [],
   "source": [
    "def DrivingBehaviour_databases(id):\n",
    "    id = tripsum[tripsum[\"displayTripID\"] == id]['anonymousParticipantID'].values[0]\n",
    "    passTrnVeh = DrivingBehavior[DrivingBehavior.anonymousParticipantID == id][\"passTrnVeh\"].values[0]\n",
    "    rage = DrivingBehavior[DrivingBehavior.anonymousParticipantID == id][\"rage\"].values[0]\n",
    "    wrngWay = DrivingBehavior[DrivingBehavior.anonymousParticipantID == id][\"wrngWay\"].values[0]\n",
    "    missLead = DrivingBehavior[DrivingBehavior.anonymousParticipantID == id][\"missLead\"].values[0]\n",
    "    wrngLnInt = DrivingBehavior[DrivingBehavior.anonymousParticipantID == id][\"wrngLnInt\"].values[0]\n",
    "\n",
    "    return passTrnVeh, rage, wrngWay, missLead, wrngLnInt"
   ]
  },
  {
   "cell_type": "code",
   "execution_count": 13,
   "metadata": {},
   "outputs": [],
   "source": [
    "def DrivingHistory_databases(id):\n",
    "    id = tripsum[tripsum[\"displayTripID\"] == id]['anonymousParticipantID'].values[0]\n",
    "    numViol = DrivingHistory[DrivingHistory.anonymousParticipantID == id][\"numViol\"].values[0]\n",
    "    numCrash = DrivingHistory[DrivingHistory.anonymousParticipantID == id][\"numCrash\"].values[0]\n",
    "    return numViol, numCrash"
   ]
  },
  {
   "cell_type": "code",
   "execution_count": 14,
   "metadata": {},
   "outputs": [],
   "source": [
    "def Driver_databases(id):\n",
    "    id = tripsum[tripsum[\"displayTripID\"] == id]['anonymousParticipantID'].values[0]\n",
    "    driverRestriction = DriverExit[DriverExit.anonymousParticipantID == id][\"driverRestriction\"].values[0]\n",
    "    return driverRestriction"
   ]
  },
  {
   "cell_type": "code",
   "execution_count": 15,
   "metadata": {},
   "outputs": [],
   "source": [
    "def sleep_databases(id):\n",
    "    id = tripsum[tripsum[\"displayTripID\"] == id]['anonymousParticipantID'].values[0]\n",
    "    temp = sleepTable[sleepTable.anonymousParticipantID == id]\n",
    "    slpSched = temp[\"slpSched\"].values[0]\n",
    "    slperTyp = temp[\"slperTyp\"].values[0]\n",
    "    nodOffWhlDrvng = temp[\"nodOffWhlDrvng\"].values[0]\n",
    "    qltyofSlp = temp[\"qltyofSlp\"].values[0]\n",
    "    return slpSched, slperTyp, nodOffWhlDrvng, qltyofSlp"
   ]
  },
  {
   "cell_type": "code",
   "execution_count": 16,
   "metadata": {},
   "outputs": [],
   "source": [
    "def getCrashStatus(ids):\n",
    "    crash_status = event[event.displayTripId==ids].eventSeverity1.values[0]\n",
    "    return crash_status"
   ]
  },
  {
   "cell_type": "code",
   "execution_count": 17,
   "metadata": {},
   "outputs": [],
   "source": [
    "def clock_databases(id):\n",
    "    id = tripsum[tripsum[\"displayTripID\"] == id]['anonymousParticipantID'].values[0]\n",
    "    temp_data = clockDrawingTests[clockDrawingTests.anonymousParticipantID == id][\"clockDrawingScore\"].values[0]\n",
    "    return temp_data"
   ]
  },
  {
   "cell_type": "code",
   "execution_count": 18,
   "metadata": {},
   "outputs": [],
   "source": [
    "def medical_databases(id):\n",
    "    id = tripsum[tripsum[\"displayTripID\"] == id]['anonymousParticipantID'].values[0]\n",
    "    temp_data = medical[medical.anonymousParticipantID == id]\n",
    "    hear = temp_data[\"hear\"].values[0]\n",
    "    heart = temp_data[\"heart\"].values[0]\n",
    "    resp = temp_data[\"resp\"].values[0]\n",
    "    brain = temp_data[\"brain\"].values[0]\n",
    "    vasc = temp_data[\"vasc\"].values[0]\n",
    "    nrvsandSlp = temp_data[\"nrvsandSlp\"].values[0]\n",
    "    metab = temp_data[\"metab\"].values[0]\n",
    "    limFlex = temp_data[\"limFlex\"].values[0]\n",
    "    sevArthr = temp_data[\"sevArthr\"].values[0]\n",
    "    psych = temp_data[\"psych\"].values[0]\n",
    "    multMedConds = temp_data[\"multMedConds\"].values[0]\n",
    "    multMeds = temp_data[\"multMeds\"].values[0]\n",
    "    return hear, heart, resp, brain, vasc, nrvsandSlp, metab, limFlex, sevArthr, psych, multMedConds, multMeds"
   ]
  },
  {
   "cell_type": "code",
   "execution_count": 19,
   "metadata": {},
   "outputs": [],
   "source": [
    "def visual_databases(id):\n",
    "    id = tripsum[tripsum[\"displayTripID\"] == id]['anonymousParticipantID'].values[0]\n",
    "    temp_data = visualCognitive[visualCognitive['anonymousParticipantID'] == id]\n",
    "    dhiVisual = temp_data[\"dhiVisualSearchScore\"].values[0]\n",
    "    dhiFOV = temp_data[\"dhiUFOVScore\"].values[0]\n",
    "    return dhiVisual, dhiFOV "
   ]
  },
  {
   "cell_type": "code",
   "execution_count": 20,
   "metadata": {},
   "outputs": [
    {
     "name": "stdout",
     "output_type": "stream",
     "text": [
      "Age of the person is:  (49, 1)\n"
     ]
    }
   ],
   "source": [
    "def get_age(id):\n",
    "    # Function to print the age of person\n",
    "    a = tripsum[tripsum[\"displayTripID\"] == id]['anonymousParticipantID']\n",
    "    a_string = driverDemo[driverDemo[\"anonymousParticipantID\"] == a.values[0]].ageGroup.values[0]\n",
    "    gender = driverDemo[driverDemo[\"anonymousParticipantID\"] == a.values[0]].sex.values[0]\n",
    "    gender = 0 if gender == \"M\" else 1\n",
    "    a_string = a_string.split(\"-\")\n",
    "    return int(max(a_string)), gender\n",
    "print(\"Age of the person is: \", get_age(14767568))"
   ]
  },
  {
   "cell_type": "code",
   "execution_count": 21,
   "metadata": {},
   "outputs": [
    {
     "name": "stdout",
     "output_type": "stream",
     "text": [
      "('Starting in traffic lane', 'Safe and legal', 'Other vehicle ahead - slowed and stopped 2 seconds or less')\n"
     ]
    }
   ],
   "source": [
    "def getEventUpdate(tripid):\n",
    "    preIncedent = eventUpdate[eventUpdate.displayTripId == tripid]['preIncidentManeuver'].values[0]\n",
    "    maneuver  = eventUpdate[eventUpdate.displayTripId == tripid]['maneuverJudgment'].values[0]\n",
    "    precipiting = eventUpdate[eventUpdate.displayTripId == tripid]['precipitatingEvent'].values[0]\n",
    "    return preIncedent, maneuver, precipiting\n",
    "\n",
    "# Examples\n",
    "print(getEventUpdate(4952738))"
   ]
  },
  {
   "cell_type": "code",
   "execution_count": 22,
   "metadata": {},
   "outputs": [],
   "source": [
    "coded_files = pd.read_excel(\"SHRP2 Data Recording_File_download_from_Qualtric_May4_2018_tz.xlsx\", header = 0)\n",
    "\n",
    "#Droping the unneccessary columns\n",
    "coded_files = coded_files.drop(['StartDate', 'EndDate', 'Status', 'IPAddress', 'Progress',\n",
    "       'Duration (in seconds)', 'Finished', 'RecordedDate', 'ResponseId',\n",
    "       'RecipientLastName', 'RecipientFirstName', 'RecipientEmail',\n",
    "       'ExternalReference', 'LocationLatitude', 'LocationLongitude',\n",
    "       'DistributionChannel', 'UserLanguage', 'Scorer', 'Scorer - Topics',  'comment'], axis = 1)\n"
   ]
  },
  {
   "cell_type": "code",
   "execution_count": 23,
   "metadata": {},
   "outputs": [
    {
     "name": "stdout",
     "output_type": "stream",
     "text": [
      "872\n"
     ]
    }
   ],
   "source": [
    "print(coded_files.shape[0])\n",
    "# Removing the initial test values\n",
    "coded_files = coded_files[8:]"
   ]
  },
  {
   "cell_type": "code",
   "execution_count": 24,
   "metadata": {},
   "outputs": [
    {
     "name": "stdout",
     "output_type": "stream",
     "text": [
      "Number of crashes:  (14, 20)\n"
     ]
    },
    {
     "data": {
      "text/plain": [
       "(745, 20)"
      ]
     },
     "execution_count": 24,
     "metadata": {},
     "output_type": "execute_result"
    }
   ],
   "source": [
    "\n",
    "# printing the number of crashes\n",
    "print(\"Number of crashes: \",coded_files[coded_files.crash == 2].shape)\n",
    "\n",
    "# Not Selecting incomplete videos\n",
    "coded_files = coded_files[(coded_files[\"incomplete_video\"] != 2)]\n",
    "coded_files.shape"
   ]
  },
  {
   "cell_type": "code",
   "execution_count": 25,
   "metadata": {},
   "outputs": [],
   "source": [
    "# Few new column added\n",
    "coded_files[\"Avg_Acceleration\"]  = None\n",
    "coded_files[\"std_Acceleration\"]  = None\n",
    "coded_files[\"Avg_speed\"]  = None\n",
    "coded_files[\"std_speed\"]  = None\n",
    "coded_files[\"max_speed\"] = None\n",
    "coded_files[\"max_acceleration\"] = None\n",
    "\n",
    "\n",
    "coded_files[\"6_Avg_Acceleration\"]  = None\n",
    "coded_files[\"6_std_Acceleration\"]  = None\n",
    "coded_files[\"6_Avg_speed\"]  = None\n",
    "coded_files[\"6_std_speed\"]  = None\n",
    "\n",
    "coded_files[\"age\"] = None\n",
    "\n",
    "coded_files[\"crashStatus\"] = None\n",
    "\n",
    "# addding data from eventDetailsupdate\n",
    "coded_files['preIncidentManeuver'] = None\n",
    "coded_files['maneuverJudgment'] = None\n",
    "coded_files['precipitatingEvent'] = None\n",
    "\n",
    "# Gender\n",
    "coded_files[\"gender\"] = None\n",
    "\n",
    "# Adding medial values\n",
    "coded_files[\"hear\"]= None\n",
    "coded_files[\"heart\"]= None\n",
    "coded_files[\"resp\"]= None\n",
    "coded_files[\"brain\"]= None\n",
    "coded_files[\"vasc\"]= None\n",
    "coded_files[\"nrvsandSlp\"]= None\n",
    "coded_files[\"metab\"]= None\n",
    "coded_files[\"limFlex\"]= None\n",
    "coded_files[\"sevArthr\"]= None\n",
    "coded_files[\"psych\"]= None\n",
    "coded_files[\"multMedConds\"]= None\n",
    "coded_files[\"multMeds\"] = None\n",
    "\n",
    "# Visual\n",
    "coded_files[\"dhiVisual\"] = None\n",
    "coded_files[\"dhiFOV\"] = None\n",
    "\n",
    "# clockDrawaing\n",
    "coded_files[\"clockDrawaing\"] = None\n",
    "\n",
    "# sleep \n",
    "coded_files[\"slpSched\"] = None\n",
    "coded_files[\"slperTyp\"] = None\n",
    "coded_files[\"nodOffWhlDrvng\"] = None\n",
    "coded_files[\"qltyofSlp\"] = None\n",
    "\n",
    "\n",
    "# Driver Exit\n",
    "coded_files[\"driverRestriction\"] = None\n",
    "\n",
    "# Driving History\n",
    "coded_files[\"numViol\"] = None\n",
    "coded_files[\"numCrash\"] = None\n",
    "\n",
    "# Drivers behaviour\n",
    "coded_files[\"passTrnVeh\"] = None\n",
    "coded_files[\"rage\"] = None\n",
    "coded_files[\"wrngWay\"] = None\n",
    "coded_files[\"missLead\"] = None\n",
    "coded_files[\"wrngLnInt\"] = None\n"
   ]
  },
  {
   "cell_type": "code",
   "execution_count": 26,
   "metadata": {
    "scrolled": true
   },
   "outputs": [
    {
     "name": "stderr",
     "output_type": "stream",
     "text": [
      "  0%|          | 2/745 [00:00<01:47,  6.92it/s]"
     ]
    },
    {
     "name": "stdout",
     "output_type": "stream",
     "text": [
      "948646\n"
     ]
    },
    {
     "name": "stderr",
     "output_type": "stream",
     "text": [
      "  1%|          | 4/745 [00:00<01:52,  6.57it/s]"
     ]
    },
    {
     "name": "stdout",
     "output_type": "stream",
     "text": [
      "1091854\n",
      "1091854\n"
     ]
    },
    {
     "name": "stderr",
     "output_type": "stream",
     "text": [
      "  1%|          | 8/745 [00:01<01:48,  6.77it/s]"
     ]
    },
    {
     "name": "stdout",
     "output_type": "stream",
     "text": [
      "1223152\n"
     ]
    },
    {
     "name": "stderr",
     "output_type": "stream",
     "text": [
      "  2%|▏         | 14/745 [00:01<01:40,  7.29it/s]"
     ]
    },
    {
     "name": "stdout",
     "output_type": "stream",
     "text": [
      "1886090\n",
      "1886090\n",
      "1886090 69\n",
      "1886090\n",
      "1886090\n",
      "1886090\n"
     ]
    },
    {
     "name": "stderr",
     "output_type": "stream",
     "text": [
      "  3%|▎         | 19/745 [00:02<01:40,  7.22it/s]"
     ]
    },
    {
     "name": "stdout",
     "output_type": "stream",
     "text": [
      "2788984\n"
     ]
    },
    {
     "name": "stderr",
     "output_type": "stream",
     "text": [
      "  3%|▎         | 22/745 [00:03<01:39,  7.26it/s]"
     ]
    },
    {
     "name": "stdout",
     "output_type": "stream",
     "text": [
      "3427530\n",
      "3427530\n",
      "3427530 44\n",
      "3427530\n",
      "3427530\n",
      "3427530\n"
     ]
    },
    {
     "name": "stderr",
     "output_type": "stream",
     "text": [
      "  4%|▍         | 29/745 [00:03<01:37,  7.31it/s]"
     ]
    },
    {
     "name": "stdout",
     "output_type": "stream",
     "text": [
      "4168959\n",
      "4192514\n"
     ]
    },
    {
     "name": "stderr",
     "output_type": "stream",
     "text": [
      "  5%|▍         | 36/745 [00:04<01:36,  7.36it/s]"
     ]
    },
    {
     "name": "stdout",
     "output_type": "stream",
     "text": [
      "4552153\n",
      "4674016\n"
     ]
    },
    {
     "name": "stderr",
     "output_type": "stream",
     "text": [
      "  5%|▌         | 38/745 [00:05<01:36,  7.35it/s]"
     ]
    },
    {
     "name": "stdout",
     "output_type": "stream",
     "text": [
      "4952738\n"
     ]
    },
    {
     "name": "stderr",
     "output_type": "stream",
     "text": [
      "  5%|▌         | 40/745 [00:05<01:35,  7.34it/s]"
     ]
    },
    {
     "name": "stdout",
     "output_type": "stream",
     "text": [
      "5002322\n",
      "5008191\n"
     ]
    },
    {
     "name": "stderr",
     "output_type": "stream",
     "text": [
      "  6%|▋         | 48/745 [00:06<01:34,  7.36it/s]"
     ]
    },
    {
     "name": "stdout",
     "output_type": "stream",
     "text": [
      "5473012\n",
      "5473528\n"
     ]
    },
    {
     "name": "stderr",
     "output_type": "stream",
     "text": [
      "  7%|▋         | 52/745 [00:07<01:34,  7.37it/s]"
     ]
    },
    {
     "name": "stdout",
     "output_type": "stream",
     "text": [
      "5703466\n",
      "5710292\n"
     ]
    },
    {
     "name": "stderr",
     "output_type": "stream",
     "text": [
      "  7%|▋         | 54/745 [00:07<01:33,  7.36it/s]"
     ]
    },
    {
     "name": "stdout",
     "output_type": "stream",
     "text": [
      "5859824\n"
     ]
    },
    {
     "name": "stderr",
     "output_type": "stream",
     "text": [
      " 11%|█▏        | 84/745 [00:12<01:40,  6.55it/s]"
     ]
    },
    {
     "name": "stdout",
     "output_type": "stream",
     "text": [
      "7386734\n"
     ]
    },
    {
     "name": "stderr",
     "output_type": "stream",
     "text": [
      " 14%|█▍        | 107/745 [00:16<01:40,  6.35it/s]"
     ]
    },
    {
     "name": "stdout",
     "output_type": "stream",
     "text": [
      "9229239\n",
      "9229239\n",
      "9229239 44\n",
      "9229239\n",
      "9229239\n",
      "9229239\n"
     ]
    },
    {
     "name": "stderr",
     "output_type": "stream",
     "text": [
      " 15%|█▍        | 110/745 [00:17<01:40,  6.33it/s]"
     ]
    },
    {
     "name": "stdout",
     "output_type": "stream",
     "text": [
      "9286376\n",
      "9348666\n"
     ]
    },
    {
     "name": "stderr",
     "output_type": "stream",
     "text": [
      " 19%|█▊        | 138/745 [00:22<01:37,  6.21it/s]"
     ]
    },
    {
     "name": "stdout",
     "output_type": "stream",
     "text": [
      "10872941\n",
      "10872941\n",
      "10872941 34\n",
      "10872941\n",
      "10872941\n",
      "10872941\n"
     ]
    },
    {
     "name": "stderr",
     "output_type": "stream",
     "text": [
      " 19%|█▉        | 142/745 [00:22<01:36,  6.23it/s]"
     ]
    },
    {
     "name": "stdout",
     "output_type": "stream",
     "text": [
      "10969618\n"
     ]
    },
    {
     "name": "stderr",
     "output_type": "stream",
     "text": [
      " 21%|██        | 153/745 [00:24<01:34,  6.28it/s]"
     ]
    },
    {
     "name": "stdout",
     "output_type": "stream",
     "text": [
      "11527437\n"
     ]
    },
    {
     "name": "stderr",
     "output_type": "stream",
     "text": [
      " 21%|██        | 158/745 [00:25<01:33,  6.31it/s]"
     ]
    },
    {
     "name": "stdout",
     "output_type": "stream",
     "text": [
      "11986285\n",
      "12040852\n"
     ]
    },
    {
     "name": "stderr",
     "output_type": "stream",
     "text": [
      " 21%|██▏       | 160/745 [00:25<01:32,  6.32it/s]"
     ]
    },
    {
     "name": "stdout",
     "output_type": "stream",
     "text": [
      "12048041\n",
      "12070537\n"
     ]
    },
    {
     "name": "stderr",
     "output_type": "stream",
     "text": [
      " 23%|██▎       | 171/745 [00:26<01:30,  6.37it/s]"
     ]
    },
    {
     "name": "stdout",
     "output_type": "stream",
     "text": [
      "12522821\n"
     ]
    },
    {
     "name": "stderr",
     "output_type": "stream",
     "text": [
      " 24%|██▎       | 176/745 [00:27<01:29,  6.39it/s]"
     ]
    },
    {
     "name": "stdout",
     "output_type": "stream",
     "text": [
      "12846754\n",
      "12846754\n"
     ]
    },
    {
     "name": "stderr",
     "output_type": "stream",
     "text": [
      " 24%|██▍       | 181/745 [00:28<01:27,  6.42it/s]"
     ]
    },
    {
     "name": "stdout",
     "output_type": "stream",
     "text": [
      "13233621\n",
      "13233621\n",
      "13233621 79\n",
      "13233621\n",
      "13233621\n",
      "13233621\n"
     ]
    },
    {
     "name": "stderr",
     "output_type": "stream",
     "text": [
      " 26%|██▌       | 195/745 [00:30<01:24,  6.48it/s]"
     ]
    },
    {
     "name": "stdout",
     "output_type": "stream",
     "text": [
      "14767568\n",
      "14767568\n",
      "14767568 49\n",
      "14767568\n",
      "14767568\n",
      "14767568\n"
     ]
    },
    {
     "name": "stderr",
     "output_type": "stream",
     "text": [
      " 27%|██▋       | 204/745 [00:31<01:23,  6.49it/s]"
     ]
    },
    {
     "name": "stdout",
     "output_type": "stream",
     "text": [
      "17167916\n"
     ]
    },
    {
     "name": "stderr",
     "output_type": "stream",
     "text": [
      " 28%|██▊       | 207/745 [00:31<01:22,  6.51it/s]"
     ]
    },
    {
     "name": "stdout",
     "output_type": "stream",
     "text": [
      "17871786\n"
     ]
    },
    {
     "name": "stderr",
     "output_type": "stream",
     "text": [
      " 29%|██▊       | 213/745 [00:32<01:21,  6.52it/s]"
     ]
    },
    {
     "name": "stdout",
     "output_type": "stream",
     "text": [
      "18373637\n"
     ]
    },
    {
     "name": "stderr",
     "output_type": "stream",
     "text": [
      " 29%|██▉       | 216/745 [00:33<01:20,  6.53it/s]"
     ]
    },
    {
     "name": "stdout",
     "output_type": "stream",
     "text": [
      "18480146\n"
     ]
    },
    {
     "name": "stderr",
     "output_type": "stream",
     "text": [
      " 29%|██▉       | 218/745 [00:33<01:20,  6.54it/s]"
     ]
    },
    {
     "name": "stdout",
     "output_type": "stream",
     "text": [
      "18575173\n"
     ]
    },
    {
     "name": "stderr",
     "output_type": "stream",
     "text": [
      " 31%|███       | 229/745 [00:34<01:18,  6.57it/s]"
     ]
    },
    {
     "name": "stdout",
     "output_type": "stream",
     "text": [
      "19258592\n",
      "19258592\n",
      "19258592 74\n",
      "19258592\n",
      "19258592\n",
      "19258592\n"
     ]
    },
    {
     "name": "stderr",
     "output_type": "stream",
     "text": [
      " 32%|███▏      | 241/745 [00:36<01:16,  6.60it/s]"
     ]
    },
    {
     "name": "stdout",
     "output_type": "stream",
     "text": [
      "20367004\n"
     ]
    },
    {
     "name": "stderr",
     "output_type": "stream",
     "text": [
      " 33%|███▎      | 245/745 [00:37<01:15,  6.61it/s]"
     ]
    },
    {
     "name": "stdout",
     "output_type": "stream",
     "text": [
      "20523850\n",
      "20523850\n",
      "20523850\n",
      "20695026\n"
     ]
    },
    {
     "name": "stderr",
     "output_type": "stream",
     "text": [
      " 33%|███▎      | 249/745 [00:37<01:14,  6.62it/s]"
     ]
    },
    {
     "name": "stdout",
     "output_type": "stream",
     "text": [
      "20935950\n"
     ]
    },
    {
     "name": "stderr",
     "output_type": "stream",
     "text": [
      " 34%|███▍      | 254/745 [00:38<01:14,  6.62it/s]"
     ]
    },
    {
     "name": "stdout",
     "output_type": "stream",
     "text": [
      "21302892\n"
     ]
    },
    {
     "name": "stderr",
     "output_type": "stream",
     "text": [
      " 35%|███▌      | 262/745 [00:39<01:13,  6.61it/s]"
     ]
    },
    {
     "name": "stdout",
     "output_type": "stream",
     "text": [
      "21907473\n"
     ]
    },
    {
     "name": "stderr",
     "output_type": "stream",
     "text": [
      " 36%|███▌      | 265/745 [00:40<01:12,  6.62it/s]"
     ]
    },
    {
     "name": "stdout",
     "output_type": "stream",
     "text": [
      "22064857\n"
     ]
    },
    {
     "name": "stderr",
     "output_type": "stream",
     "text": [
      " 36%|███▌      | 270/745 [00:40<01:11,  6.64it/s]"
     ]
    },
    {
     "name": "stdout",
     "output_type": "stream",
     "text": [
      "22318977\n"
     ]
    },
    {
     "name": "stderr",
     "output_type": "stream",
     "text": [
      " 37%|███▋      | 277/745 [00:41<01:10,  6.64it/s]"
     ]
    },
    {
     "name": "stdout",
     "output_type": "stream",
     "text": [
      "23078381\n",
      "23079821\n"
     ]
    },
    {
     "name": "stderr",
     "output_type": "stream",
     "text": [
      " 38%|███▊      | 284/745 [00:42<01:09,  6.65it/s]"
     ]
    },
    {
     "name": "stdout",
     "output_type": "stream",
     "text": [
      "23350129\n"
     ]
    },
    {
     "name": "stderr",
     "output_type": "stream",
     "text": [
      " 41%|████      | 306/745 [00:45<01:05,  6.70it/s]"
     ]
    },
    {
     "name": "stdout",
     "output_type": "stream",
     "text": [
      "24936068\n",
      "24947414\n"
     ]
    },
    {
     "name": "stderr",
     "output_type": "stream",
     "text": [
      " 42%|████▏     | 312/745 [00:46<01:04,  6.71it/s]"
     ]
    },
    {
     "name": "stdout",
     "output_type": "stream",
     "text": [
      "25326083\n",
      "25578649\n"
     ]
    },
    {
     "name": "stderr",
     "output_type": "stream",
     "text": [
      " 42%|████▏     | 315/745 [00:46<01:04,  6.71it/s]"
     ]
    },
    {
     "name": "stdout",
     "output_type": "stream",
     "text": [
      "25658565\n"
     ]
    },
    {
     "name": "stderr",
     "output_type": "stream",
     "text": [
      " 45%|████▍     | 333/745 [00:49<01:01,  6.75it/s]"
     ]
    },
    {
     "name": "stdout",
     "output_type": "stream",
     "text": [
      "26440464\n",
      "26440464\n",
      "26440464 74\n",
      "26440464\n",
      "26440464\n",
      "26440464\n"
     ]
    },
    {
     "name": "stderr",
     "output_type": "stream",
     "text": [
      " 47%|████▋     | 348/745 [00:51<00:58,  6.77it/s]"
     ]
    },
    {
     "name": "stdout",
     "output_type": "stream",
     "text": [
      "28479818\n"
     ]
    },
    {
     "name": "stderr",
     "output_type": "stream",
     "text": [
      " 48%|████▊     | 356/745 [00:52<00:57,  6.78it/s]"
     ]
    },
    {
     "name": "stdout",
     "output_type": "stream",
     "text": [
      "28965781\n"
     ]
    },
    {
     "name": "stderr",
     "output_type": "stream",
     "text": [
      " 49%|████▊     | 363/745 [00:53<00:56,  6.79it/s]"
     ]
    },
    {
     "name": "stdout",
     "output_type": "stream",
     "text": [
      "30098809\n",
      "30276960\n",
      "30276960\n",
      "30276960 74\n",
      "30276960\n",
      "30276960\n",
      "30276960\n"
     ]
    },
    {
     "name": "stderr",
     "output_type": "stream",
     "text": [
      " 52%|█████▏    | 391/745 [00:57<00:51,  6.82it/s]"
     ]
    },
    {
     "name": "stdout",
     "output_type": "stream",
     "text": [
      "35822613\n",
      "35822613\n",
      "35822613 69\n",
      "35822613\n",
      "35822613\n",
      "35822613\n"
     ]
    },
    {
     "name": "stderr",
     "output_type": "stream",
     "text": [
      " 53%|█████▎    | 397/745 [00:58<00:51,  6.82it/s]"
     ]
    },
    {
     "name": "stdout",
     "output_type": "stream",
     "text": [
      "36829896\n"
     ]
    },
    {
     "name": "stderr",
     "output_type": "stream",
     "text": [
      " 55%|█████▍    | 408/745 [00:59<00:49,  6.83it/s]"
     ]
    },
    {
     "name": "stdout",
     "output_type": "stream",
     "text": [
      "38383358\n",
      "38514553\n"
     ]
    },
    {
     "name": "stderr",
     "output_type": "stream",
     "text": [
      " 55%|█████▌    | 413/745 [01:00<00:48,  6.83it/s]"
     ]
    },
    {
     "name": "stdout",
     "output_type": "stream",
     "text": [
      "39134577\n"
     ]
    },
    {
     "name": "stderr",
     "output_type": "stream",
     "text": [
      " 59%|█████▉    | 441/745 [01:04<00:44,  6.85it/s]"
     ]
    },
    {
     "name": "stdout",
     "output_type": "stream",
     "text": [
      "44281249\n",
      "44605695\n"
     ]
    },
    {
     "name": "stderr",
     "output_type": "stream",
     "text": [
      " 59%|█████▉    | 443/745 [01:04<00:44,  6.86it/s]"
     ]
    },
    {
     "name": "stdout",
     "output_type": "stream",
     "text": [
      "44613872\n",
      "44642655\n"
     ]
    },
    {
     "name": "stderr",
     "output_type": "stream",
     "text": [
      " 60%|██████    | 450/745 [01:05<00:42,  6.86it/s]"
     ]
    },
    {
     "name": "stdout",
     "output_type": "stream",
     "text": [
      "46047004\n"
     ]
    },
    {
     "name": "stderr",
     "output_type": "stream",
     "text": [
      " 62%|██████▏   | 459/745 [01:06<00:41,  6.85it/s]"
     ]
    },
    {
     "name": "stdout",
     "output_type": "stream",
     "text": [
      "47600999\n"
     ]
    },
    {
     "name": "stderr",
     "output_type": "stream",
     "text": [
      " 62%|██████▏   | 461/745 [01:07<00:41,  6.86it/s]"
     ]
    },
    {
     "name": "stdout",
     "output_type": "stream",
     "text": [
      "48143659\n",
      "48165904\n"
     ]
    },
    {
     "name": "stderr",
     "output_type": "stream",
     "text": [
      " 62%|██████▏   | 463/745 [01:07<00:41,  6.86it/s]"
     ]
    },
    {
     "name": "stdout",
     "output_type": "stream",
     "text": [
      "48185447\n",
      "48190636\n",
      "48409141\n",
      "48409141\n",
      "48409141"
     ]
    },
    {
     "name": "stderr",
     "output_type": "stream",
     "text": [
      " 63%|██████▎   | 466/745 [01:07<00:40,  6.87it/s]"
     ]
    },
    {
     "name": "stdout",
     "output_type": "stream",
     "text": [
      " 69\n",
      "48409141\n",
      "48409141\n",
      "48409141\n",
      "49170795\n"
     ]
    },
    {
     "name": "stderr",
     "output_type": "stream",
     "text": [
      " 65%|██████▍   | 482/745 [01:09<00:38,  6.90it/s]"
     ]
    },
    {
     "name": "stdout",
     "output_type": "stream",
     "text": [
      "51117906\n",
      "51117906\n",
      "51117906 69\n",
      "51117906\n",
      "51117906\n",
      "51117906\n",
      "51228648\n",
      "51228648\n",
      "51228648 69\n",
      "51228648\n",
      "51228648\n",
      "51228648\n"
     ]
    },
    {
     "name": "stderr",
     "output_type": "stream",
     "text": [
      " 65%|██████▌   | 486/745 [01:10<00:37,  6.90it/s]"
     ]
    },
    {
     "name": "stdout",
     "output_type": "stream",
     "text": [
      "51906220\n"
     ]
    },
    {
     "name": "stderr",
     "output_type": "stream",
     "text": [
      " 66%|██████▋   | 495/745 [01:11<00:36,  6.89it/s]"
     ]
    },
    {
     "name": "stdout",
     "output_type": "stream",
     "text": [
      "53962006\n",
      "54041277\n"
     ]
    },
    {
     "name": "stderr",
     "output_type": "stream",
     "text": [
      " 70%|███████   | 523/745 [01:16<00:32,  6.87it/s]"
     ]
    },
    {
     "name": "stdout",
     "output_type": "stream",
     "text": [
      "58768279\n",
      "58941885\n"
     ]
    },
    {
     "name": "stderr",
     "output_type": "stream",
     "text": [
      " 71%|███████   | 530/745 [01:17<00:31,  6.88it/s]"
     ]
    },
    {
     "name": "stdout",
     "output_type": "stream",
     "text": [
      "61015492\n",
      "61015492\n",
      "61015492 79\n",
      "61015492\n",
      "61015492\n",
      "61015492\n",
      "61145175\n",
      "61145175\n"
     ]
    },
    {
     "name": "stderr",
     "output_type": "stream",
     "text": [
      " 72%|███████▏  | 535/745 [01:17<00:30,  6.87it/s]"
     ]
    },
    {
     "name": "stdout",
     "output_type": "stream",
     "text": [
      "61823600\n",
      "61823600\n",
      "61823600 34\n",
      "61823600\n",
      "61823600\n",
      "61823600\n"
     ]
    },
    {
     "name": "stderr",
     "output_type": "stream",
     "text": [
      " 72%|███████▏  | 539/745 [01:18<00:30,  6.87it/s]"
     ]
    },
    {
     "name": "stdout",
     "output_type": "stream",
     "text": [
      "62537802\n"
     ]
    },
    {
     "name": "stderr",
     "output_type": "stream",
     "text": [
      " 73%|███████▎  | 542/745 [01:19<00:29,  6.85it/s]"
     ]
    },
    {
     "name": "stdout",
     "output_type": "stream",
     "text": [
      "62838731\n"
     ]
    },
    {
     "name": "stderr",
     "output_type": "stream",
     "text": [
      " 73%|███████▎  | 545/745 [01:19<00:29,  6.85it/s]"
     ]
    },
    {
     "name": "stdout",
     "output_type": "stream",
     "text": [
      "63614125\n",
      "63614125\n",
      "63614125\n"
     ]
    },
    {
     "name": "stderr",
     "output_type": "stream",
     "text": [
      " 74%|███████▎  | 548/745 [01:20<00:28,  6.84it/s]"
     ]
    },
    {
     "name": "stdout",
     "output_type": "stream",
     "text": [
      "64495331\n"
     ]
    },
    {
     "name": "stderr",
     "output_type": "stream",
     "text": [
      " 75%|███████▌  | 560/745 [01:22<00:27,  6.77it/s]"
     ]
    },
    {
     "name": "stdout",
     "output_type": "stream",
     "text": [
      "66216429\n"
     ]
    },
    {
     "name": "stderr",
     "output_type": "stream",
     "text": [
      " 76%|███████▌  | 568/745 [01:24<00:26,  6.72it/s]"
     ]
    },
    {
     "name": "stdout",
     "output_type": "stream",
     "text": [
      "67132839\n",
      "67132839\n",
      "67132839 34\n",
      "67132839\n",
      "67132839\n",
      "67132839\n"
     ]
    },
    {
     "name": "stderr",
     "output_type": "stream",
     "text": [
      " 77%|███████▋  | 577/745 [01:26<00:25,  6.70it/s]"
     ]
    },
    {
     "name": "stdout",
     "output_type": "stream",
     "text": [
      "68896633\n",
      "68896633\n",
      "68896633 49\n",
      "68896633\n",
      "68896633\n",
      "68896633\n"
     ]
    },
    {
     "name": "stderr",
     "output_type": "stream",
     "text": [
      " 79%|███████▊  | 586/745 [01:27<00:23,  6.67it/s]"
     ]
    },
    {
     "name": "stdout",
     "output_type": "stream",
     "text": [
      "69628702\n"
     ]
    },
    {
     "name": "stderr",
     "output_type": "stream",
     "text": [
      " 79%|███████▉  | 588/745 [01:28<00:23,  6.66it/s]"
     ]
    },
    {
     "name": "stdout",
     "output_type": "stream",
     "text": [
      "70304290\n"
     ]
    },
    {
     "name": "stderr",
     "output_type": "stream",
     "text": [
      " 80%|████████  | 597/745 [01:29<00:22,  6.64it/s]"
     ]
    },
    {
     "name": "stdout",
     "output_type": "stream",
     "text": [
      "72137111\n",
      "72408114\n"
     ]
    },
    {
     "name": "stderr",
     "output_type": "stream",
     "text": [
      " 81%|████████  | 603/745 [01:31<00:21,  6.61it/s]"
     ]
    },
    {
     "name": "stdout",
     "output_type": "stream",
     "text": [
      "72566228\n"
     ]
    },
    {
     "name": "stderr",
     "output_type": "stream",
     "text": [
      " 82%|████████▏ | 609/745 [01:32<00:20,  6.60it/s]"
     ]
    },
    {
     "name": "stdout",
     "output_type": "stream",
     "text": [
      "73361448\n"
     ]
    },
    {
     "name": "stderr",
     "output_type": "stream",
     "text": [
      " 82%|████████▏ | 611/745 [01:32<00:20,  6.60it/s]"
     ]
    },
    {
     "name": "stdout",
     "output_type": "stream",
     "text": [
      "73458760\n",
      "73458760\n",
      "73458760 44\n",
      "73458760\n",
      "73458760\n",
      "73458760\n"
     ]
    },
    {
     "name": "stderr",
     "output_type": "stream",
     "text": [
      " 82%|████████▏ | 613/745 [01:33<00:20,  6.59it/s]"
     ]
    },
    {
     "name": "stdout",
     "output_type": "stream",
     "text": [
      "73591589\n"
     ]
    },
    {
     "name": "stderr",
     "output_type": "stream",
     "text": [
      " 83%|████████▎ | 618/745 [01:33<00:19,  6.58it/s]"
     ]
    },
    {
     "name": "stdout",
     "output_type": "stream",
     "text": [
      "74111727\n",
      "74111727\n",
      "74111727 69\n",
      "74111727\n",
      "74111727\n",
      "74111727\n"
     ]
    },
    {
     "name": "stderr",
     "output_type": "stream",
     "text": [
      " 86%|████████▌ | 641/745 [01:38<00:15,  6.52it/s]"
     ]
    },
    {
     "name": "stdout",
     "output_type": "stream",
     "text": [
      "78573828\n"
     ]
    },
    {
     "name": "stderr",
     "output_type": "stream",
     "text": [
      " 89%|████████▊ | 660/745 [01:41<00:13,  6.53it/s]"
     ]
    },
    {
     "name": "stdout",
     "output_type": "stream",
     "text": [
      "83466516\n"
     ]
    },
    {
     "name": "stderr",
     "output_type": "stream",
     "text": [
      " 90%|█████████ | 672/745 [01:43<00:11,  6.52it/s]"
     ]
    },
    {
     "name": "stdout",
     "output_type": "stream",
     "text": [
      "84357414\n",
      "84357414\n",
      "84357414 39\n",
      "84357414\n",
      "84357414\n",
      "84357414\n",
      "84359571\n",
      "84359571\n",
      "84359571 39\n",
      "84359571\n",
      "84359571\n",
      "84359571\n",
      "84381738\n",
      "84381738\n",
      "84381738 39\n",
      "84381738\n",
      "84381738\n",
      "84381738\n",
      "84542615\n"
     ]
    },
    {
     "name": "stderr",
     "output_type": "stream",
     "text": [
      " 91%|█████████ | 678/745 [01:43<00:10,  6.52it/s]"
     ]
    },
    {
     "name": "stdout",
     "output_type": "stream",
     "text": [
      "85339935\n",
      "85339935\n",
      "85339935 34\n",
      "85339935\n",
      "85339935\n",
      "85339935\n"
     ]
    },
    {
     "name": "stderr",
     "output_type": "stream",
     "text": [
      " 91%|█████████▏| 681/745 [01:44<00:09,  6.53it/s]"
     ]
    },
    {
     "name": "stdout",
     "output_type": "stream",
     "text": [
      "85652584\n",
      "85652584\n",
      "85652584 44\n",
      "85652584\n",
      "85652584\n",
      "85652584\n"
     ]
    },
    {
     "name": "stderr",
     "output_type": "stream",
     "text": [
      " 93%|█████████▎| 694/745 [01:46<00:07,  6.53it/s]"
     ]
    },
    {
     "name": "stdout",
     "output_type": "stream",
     "text": [
      "93709931\n"
     ]
    },
    {
     "name": "stderr",
     "output_type": "stream",
     "text": [
      " 95%|█████████▍| 705/745 [01:48<00:06,  6.53it/s]"
     ]
    },
    {
     "name": "stdout",
     "output_type": "stream",
     "text": [
      "95408376\n",
      "95408376\n",
      "95408376 69\n",
      "95408376\n",
      "95408376\n",
      "95408376\n"
     ]
    },
    {
     "name": "stderr",
     "output_type": "stream",
     "text": [
      " 95%|█████████▌| 708/745 [01:48<00:05,  6.53it/s]"
     ]
    },
    {
     "name": "stdout",
     "output_type": "stream",
     "text": [
      "96302421\n"
     ]
    },
    {
     "name": "stderr",
     "output_type": "stream",
     "text": [
      " 96%|█████████▌| 712/745 [01:48<00:05,  6.54it/s]"
     ]
    },
    {
     "name": "stdout",
     "output_type": "stream",
     "text": [
      "97329354\n",
      "97329354\n",
      "97329354 34\n",
      "97329354\n",
      "97329354\n",
      "97329354\n"
     ]
    },
    {
     "name": "stderr",
     "output_type": "stream",
     "text": [
      " 96%|█████████▌| 715/745 [01:49<00:04,  6.54it/s]"
     ]
    },
    {
     "name": "stdout",
     "output_type": "stream",
     "text": [
      "98235356\n",
      "98235356\n"
     ]
    },
    {
     "name": "stderr",
     "output_type": "stream",
     "text": [
      " 97%|█████████▋| 723/745 [01:51<00:03,  6.51it/s]"
     ]
    },
    {
     "name": "stdout",
     "output_type": "stream",
     "text": [
      "100489346\n"
     ]
    },
    {
     "name": "stderr",
     "output_type": "stream",
     "text": [
      "100%|██████████| 745/745 [01:54<00:00,  6.48it/s]\n"
     ]
    }
   ],
   "source": [
    "from tqdm import tqdm\n",
    "not_found = []\n",
    "for files in tqdm(coded_files.File_id):\n",
    "    # Reading time \n",
    "    time_enter = coded_files[coded_files.File_id==files][\"time_of_entering\"]\n",
    "    time_leave = coded_files[coded_files.File_id==files][\"time_of_exiting\"]\n",
    "\n",
    "    # Reading files\n",
    "    try:\n",
    "        current_vehicle_data = pd.read_csv(files_lookup[str(files)])\n",
    "    except:\n",
    "        not_found.append(files)\n",
    "        continue\n",
    "    coded_files[\"crashStatus\"][coded_files.File_id==files] = getCrashStatus(files)\n",
    "    age, gender = get_age(files)\n",
    "    coded_files[\"age\"][coded_files.File_id==files] = age\n",
    "    coded_files[\"gender\"][coded_files.File_id==files] = gender\n",
    "    \n",
    "    \n",
    "    preIncedent, maneuver, precipiting = getEventUpdate(int(files))\n",
    "    \n",
    "    coded_files['preIncidentManeuver'][coded_files.File_id==files] = preIncedent\n",
    "    coded_files['maneuverJudgment'][coded_files.File_id==files] = maneuver\n",
    "    coded_files['precipitatingEvent'][coded_files.File_id==files] = precipiting\n",
    "    # Will update only if the time is not nan or other faulty file\n",
    "    \n",
    "    #clock update\n",
    "    try:\n",
    "        clockDraw = clock_databases(int(files))\n",
    "        coded_files[\"clockDrawaing\"][coded_files.File_id==files] = clockDraw\n",
    "    except:\n",
    "        print(files)\n",
    "    \n",
    "    # medical\n",
    "    try:\n",
    "        hear, heart, resp, brain, vasc, nrvsandSlp, metab, limFlex, sevArthr, psych, multMedConds, multMeds = medical_databases(int(files))\n",
    "        coded_files[\"hear\"][coded_files.File_id==files]= hear\n",
    "        coded_files[\"heart\"][coded_files.File_id==files]= heart\n",
    "        coded_files[\"resp\"][coded_files.File_id==files]= resp\n",
    "        coded_files[\"brain\"][coded_files.File_id==files]= brain\n",
    "        coded_files[\"vasc\"][coded_files.File_id==files]= vasc\n",
    "        coded_files[\"nrvsandSlp\"][coded_files.File_id==files]= nrvsandSlp\n",
    "        coded_files[\"metab\"][coded_files.File_id==files]= metab\n",
    "        coded_files[\"limFlex\"][coded_files.File_id==files]= limFlex\n",
    "        coded_files[\"sevArthr\"][coded_files.File_id==files]= sevArthr\n",
    "        coded_files[\"psych\"][coded_files.File_id==files]= psych\n",
    "        coded_files[\"multMedConds\"][coded_files.File_id==files]= multMedConds\n",
    "        coded_files[\"multMeds\"][coded_files.File_id==files] = multMeds\n",
    "    except:\n",
    "        print(files)\n",
    "    \n",
    "    #visual\n",
    "    try:\n",
    "        dhiVisual, dhiFOV = visual_databases(int(files))\n",
    "        coded_files[\"dhiVisual\"][coded_files.File_id==files] = dhiVisual\n",
    "        coded_files[\"dhiFOV\"][coded_files.File_id==files] = dhiFOV\n",
    "    except:\n",
    "        print(files, age)\n",
    "    \n",
    "    \n",
    "    # sleep\n",
    "    try:\n",
    "        slpSched, slperTyp, nodOffWhlDrvng, qltyofSlp = sleep_databases(int(files))\n",
    "        coded_files[\"slpSched\"][coded_files.File_id==files] = slpSched\n",
    "        coded_files[\"slperTyp\"][coded_files.File_id==files] = slperTyp\n",
    "        coded_files[\"nodOffWhlDrvng\"][coded_files.File_id==files] = nodOffWhlDrvng\n",
    "        coded_files[\"qltyofSlp\"][coded_files.File_id==files] = qltyofSlp\n",
    "    except:\n",
    "        print(files)\n",
    "    \n",
    "    try:\n",
    "        driverRestriction = Driver_databases(int(files))\n",
    "        coded_files[\"driverRestriction\"][coded_files.File_id==files] = driverRestriction\n",
    "    except:\n",
    "        print(files)\n",
    "        \n",
    "    try:\n",
    "        numViol, numCrash = DrivingHistory_databases(int(files))\n",
    "        coded_files[\"numViol\"][coded_files.File_id==files] = numViol\n",
    "        coded_files[\"numCrash\"][coded_files.File_id==files] = numCrash\n",
    "    except:\n",
    "        print(files)\n",
    "        \n",
    "    try:\n",
    "        passTrnVeh, rage, wrngWay, missLead, wrngLnInt = DrivingBehaviour_databases(int(files))\n",
    "        coded_files[\"passTrnVeh\"][coded_files.File_id==files] = passTrnVeh\n",
    "        coded_files[\"rage\"][coded_files.File_id==files] = rage\n",
    "        coded_files[\"wrngWay\"][coded_files.File_id==files] = wrngWay\n",
    "        coded_files[\"missLead\"][coded_files.File_id==files] = missLead\n",
    "        coded_files[\"wrngLnInt\"][coded_files.File_id==files] = wrngLnInt\n",
    "        \n",
    "    except:\n",
    "        print(files)\n",
    "\n",
    "    if not (time_enter.isnull().values[0]) and (files != 16990196) and (files != 16990196):\n",
    "        # Converting the time to int\n",
    "        \n",
    "        time_enter = int(time_enter.values[0])\n",
    "        time_leave = int(time_leave.values[0])\n",
    "        \n",
    "        # Average and std in the intersection\n",
    "        average_curr_vech_data = current_vehicle_data[(current_vehicle_data['vtti.timestamp'] >= time_enter) & (current_vehicle_data['vtti.timestamp'] <= time_leave)].mean()\n",
    "        std_curr_vech_data = current_vehicle_data[(current_vehicle_data['vtti.timestamp'] >= time_enter) & (current_vehicle_data['vtti.timestamp'] <= time_leave)].std()\n",
    "        \n",
    "        # Max of speed and acceleration\n",
    "        max_curr_vech_data = current_vehicle_data[(current_vehicle_data['vtti.timestamp'] >= time_enter) & (current_vehicle_data['vtti.timestamp'] <= time_leave)].max()\n",
    "        \n",
    "        coded_files[\"Avg_Acceleration\"][coded_files.File_id==files] = abs(average_curr_vech_data[\"vtti.accel_x\"])\n",
    "        coded_files[\"std_Acceleration\"][coded_files.File_id==files] = abs(std_curr_vech_data[\"vtti.accel_x\"])\n",
    "        coded_files[\"Avg_speed\"][coded_files.File_id==files] = average_curr_vech_data[\"vtti.speed_network\"]\n",
    "        coded_files[\"std_speed\"][coded_files.File_id==files] = std_curr_vech_data[\"vtti.speed_network\"]\n",
    "\n",
    "        coded_files[\"max_speed\"][coded_files.File_id==files] =  max_curr_vech_data[\"vtti.speed_network\"]\n",
    "        coded_files[\"max_acceleration\"][coded_files.File_id==files] =  max_curr_vech_data[\"vtti.accel_x\"]\n",
    "        \n",
    "        # Average and std 6 second before the intersection and all the way to the end\n",
    "        larger_average_curr_vech_data = current_vehicle_data[(current_vehicle_data['vtti.timestamp'] >=(time_enter - 6000)) & (current_vehicle_data['vtti.timestamp'] <= time_leave)].mean()\n",
    "        larger_std_curr_vech_data = current_vehicle_data[(current_vehicle_data['vtti.timestamp'] >=(time_enter - 6000)) & (current_vehicle_data['vtti.timestamp'] <= time_leave)].std()\n",
    "        \n",
    "        coded_files[\"6_Avg_Acceleration\"][coded_files.File_id==files] = abs(larger_average_curr_vech_data[\"vtti.accel_x\"])\n",
    "        coded_files[\"6_std_Acceleration\"][coded_files.File_id==files] = abs(larger_std_curr_vech_data[\"vtti.accel_x\"])\n",
    "        coded_files[\"6_Avg_speed\"][coded_files.File_id==files] = larger_average_curr_vech_data[\"vtti.speed_network\"]\n",
    "        coded_files[\"6_std_speed\"][coded_files.File_id==files] = larger_std_curr_vech_data[\"vtti.speed_network\"]\n",
    "        \n",
    "        "
   ]
  },
  {
   "cell_type": "code",
   "execution_count": 27,
   "metadata": {},
   "outputs": [
    {
     "data": {
      "text/plain": [
       "[nan, nan]"
      ]
     },
     "execution_count": 27,
     "metadata": {},
     "output_type": "execute_result"
    }
   ],
   "source": [
    "not_found"
   ]
  },
  {
   "cell_type": "code",
   "execution_count": 28,
   "metadata": {},
   "outputs": [],
   "source": [
    "leftTurn = coded_files[coded_files.vehicle_movement==2]"
   ]
  },
  {
   "cell_type": "code",
   "execution_count": 29,
   "metadata": {},
   "outputs": [],
   "source": [
    "leftTurn.to_excel(\"leftturn_new.xlsx\")"
   ]
  },
  {
   "cell_type": "code",
   "execution_count": null,
   "metadata": {
    "scrolled": true
   },
   "outputs": [],
   "source": [
    "leftTurn.shape"
   ]
  },
  {
   "cell_type": "code",
   "execution_count": null,
   "metadata": {},
   "outputs": [],
   "source": [
    "leftTurn.to_excel(\"leftturn.xlsx\")"
   ]
  },
  {
   "cell_type": "code",
   "execution_count": null,
   "metadata": {},
   "outputs": [],
   "source": [
    "leftTurn = pd.read_excel(\"leftturn.xlsx\")"
   ]
  },
  {
   "cell_type": "code",
   "execution_count": null,
   "metadata": {
    "scrolled": false
   },
   "outputs": [],
   "source": [
    "leftTurn.head(5)"
   ]
  },
  {
   "cell_type": "code",
   "execution_count": null,
   "metadata": {},
   "outputs": [],
   "source": [
    "data = leftTurn.drop([\"File_id\",\"time_of_entering\",\"time_of_exiting\",\"precipitatingEvent\",\"preIncidentManeuver\", \"crash\", \"maneuverJudgment\", \"incomplete_video\", \"vehicle_movement\", 'intersection_type'], axis = 1)"
   ]
  },
  {
   "cell_type": "code",
   "execution_count": null,
   "metadata": {},
   "outputs": [],
   "source": [
    "data.columns"
   ]
  },
  {
   "cell_type": "markdown",
   "metadata": {},
   "source": [
    "#  "
   ]
  },
  {
   "cell_type": "code",
   "execution_count": null,
   "metadata": {},
   "outputs": [],
   "source": [
    "coded_files.dropna(inplace=True)"
   ]
  },
  {
   "cell_type": "code",
   "execution_count": null,
   "metadata": {},
   "outputs": [],
   "source": [
    "coded_files.columns"
   ]
  },
  {
   "cell_type": "code",
   "execution_count": null,
   "metadata": {},
   "outputs": [],
   "source": [
    "coded_files = coded_files[[ 'age',\n",
    "       'crashStatus' ,'hear', 'heart', 'resp', 'brain', 'vasc',\n",
    "       'nrvsandSlp', 'metab', 'limFlex', 'sevArthr', 'psych', 'multMedConds',\n",
    "       'multMeds']]"
   ]
  },
  {
   "cell_type": "markdown",
   "metadata": {},
   "source": [
    "# Helper Function to fit to the classifier, print training and validation accuracy, precision, recall, f1 Score, Confusion Matrix."
   ]
  },
  {
   "cell_type": "markdown",
   "metadata": {},
   "source": [
    "#  "
   ]
  },
  {
   "cell_type": "code",
   "execution_count": null,
   "metadata": {},
   "outputs": [],
   "source": []
  },
  {
   "cell_type": "code",
   "execution_count": null,
   "metadata": {},
   "outputs": [],
   "source": [
    "y = data[\"crashStatus\"]\n",
    "data = data.drop( 'crashStatus', axis=1)\n",
    "y[y==\"Balanced-Sample Baseline\"] = False\n",
    "y[y != False] = True\n",
    "y  = np.asarray(y,dtype=np.float64)\n",
    "filledData = data.where(pd.notna(data), data.mean(), axis='columns')\n",
    "filledData = (filledData - filledData.mean())/filledData.std()\n",
    "print(\"Number of crashs events: \", sum(y))\n",
    "print(\"Class Balance with Crash and no Crash: \", sum(y)/len(y))\n",
    "# from sklearn.feature_selection import SelectKBest,f_classif\n",
    "# selector = SelectKBest(f_classif, k=10).fit(filledData,y)\n",
    "# featurefilledData = selector.transform(filledData)\n",
    "X_train, X_test, y_train, y_test = train_test_split(filledData, y, train_size=0.7)"
   ]
  },
  {
   "cell_type": "code",
   "execution_count": null,
   "metadata": {},
   "outputs": [],
   "source": [
    "def plot_confusion_matrix(cm, classes,\n",
    "                          normalize=False,\n",
    "                          title='Confusion matrix',\n",
    "                          cmap=plt.cm.Blues):\n",
    "    \"\"\"\n",
    "    This function prints and plots the confusion matrix.\n",
    "    Normalization can be applied by setting `normalize=True`.\n",
    "    \"\"\"\n",
    "    if normalize:\n",
    "        cm = cm.astype('float') / cm.sum(axis=1)[:, np.newaxis]\n",
    "        print(\"Normalized confusion matrix\")\n",
    "    else:\n",
    "        print('Confusion matrix, without normalization')\n",
    "\n",
    "    print(cm)\n",
    "\n",
    "    plt.imshow(cm, interpolation='nearest', cmap=cmap)\n",
    "    plt.title(title)\n",
    "    plt.colorbar()\n",
    "    tick_marks = np.arange(len(classes))\n",
    "    plt.xticks(tick_marks, classes, rotation=45)\n",
    "    plt.yticks(tick_marks, classes)\n",
    "\n",
    "    fmt = '.2f' if normalize else 'd'\n",
    "    thresh = cm.max() / 2.\n",
    "    for i, j in itertools.product(range(cm.shape[0]), range(cm.shape[1])):\n",
    "        plt.text(j, i, format(cm[i, j], fmt),\n",
    "                 horizontalalignment=\"center\",\n",
    "                 color=\"white\" if cm[i, j] > thresh else \"black\")\n",
    "\n",
    "    plt.tight_layout()\n",
    "    plt.ylabel('True label')\n",
    "    plt.xlabel('Predicted label')\n",
    "\n",
    "    \n",
    "\n",
    "\n",
    "def Classifier_performance(clf, target_names, y, filledData=filledData, X_train=X_train, X_test=X_test, y_train=y_train, y_test=y_test, title=\"Prediction confusion matrix\"):\n",
    "    clf.fit(X_train, y_train)\n",
    "    y_pred = clf.predict(X_test)\n",
    "    Y_train_pred = clf.predict(X_train)\n",
    "    print(\"Training Accuracy Score: \", accuracy_score(Y_train_pred , y_train))\n",
    "    print(\"validation Accuracy Score:\", accuracy_score(y_pred, y_test))\n",
    "    print(\"Classification Report: \")\n",
    "    print(classification_report(y_test, y_pred, target_names=target_names))\n",
    "    cm = confusion_matrix(y_test, y_pred)\n",
    "    # Plot normalized confusion matrix\n",
    "    #plt.figure()\n",
    "    plot_confusion_matrix(cm, classes=target_names, normalize=False,\n",
    "                          title=title)\n",
    "\n",
    "    plt.show()\n",
    "    plt.close()\n",
    "    \n",
    "    pca = PCA(n_components=2)\n",
    "    filledData_lower = pca.fit_transform(filledData)\n",
    "    y = pd.Series(y)\n",
    "    filledData_lower = pd.DataFrame(filledData_lower)\n",
    "    filledData_lower['labels'] = y.values\n",
    "    X = filledData_lower\n",
    "    y = filledData_lower[\"labels\"]\n",
    "    y  = np.asarray(y,dtype=np.float64)\n",
    "    crash = filledData_lower[filledData_lower[\"labels\"] == 1]\n",
    "    no_crash = filledData_lower[filledData_lower[\"labels\"] == 0]\n",
    "    plt.plot(crash[0], crash[1], \"*\", label=target_names[0])\n",
    "    plt.plot(no_crash[0], no_crash[1], \"o\", label=target_names[1])\n",
    "    plt.legend()\n",
    "    plt.show()\n",
    "    plt.close()"
   ]
  },
  {
   "cell_type": "markdown",
   "metadata": {},
   "source": [
    "# Predicting Crash risk of all the drivers using oridinary least square penality considering crash and near crash as one entry."
   ]
  },
  {
   "cell_type": "code",
   "execution_count": null,
   "metadata": {},
   "outputs": [],
   "source": [
    "clf = LogisticRegression(max_iter=1000, penalty='l1')"
   ]
  },
  {
   "cell_type": "code",
   "execution_count": null,
   "metadata": {
    "scrolled": false
   },
   "outputs": [],
   "source": [
    "Classifier_performance(clf, [\"No_crash\", \"Crash\"], y, filledData=filledData, X_train=X_train, X_test=X_test, y_train=y_train, y_test=y_test )"
   ]
  },
  {
   "cell_type": "code",
   "execution_count": null,
   "metadata": {
    "scrolled": false
   },
   "outputs": [],
   "source": [
    "import statsmodels.api as sm\n",
    "from scipy import stats\n",
    "est = sm.OLS(y, filledData.astype(float))\n",
    "est2 = est.fit()\n",
    "print(est2.summary())"
   ]
  },
  {
   "cell_type": "markdown",
   "metadata": {},
   "source": [
    "#  "
   ]
  },
  {
   "cell_type": "markdown",
   "metadata": {},
   "source": [
    "# Predicting Crash risk for including just crash and baseline condition. (Near crash not considered) using the vehicle profile from both young and old driver.\n"
   ]
  },
  {
   "cell_type": "code",
   "execution_count": null,
   "metadata": {},
   "outputs": [],
   "source": [
    "leftTurn = pd.read_excel(\"leftturn.xlsx\")\n",
    "\n",
    "# removing the near crash files.\n",
    "leftTurn = leftTurn[leftTurn[\"crashStatus\"] != 'Near-Crash'] \n",
    "\n",
    "data = leftTurn.drop([\"File_id\",\"time_of_entering\",\"time_of_exiting\",\"precipitatingEvent\",\n",
    "                      \"preIncidentManeuver\", \"crash\", \"maneuverJudgment\", \"incomplete_video\", \n",
    "                      \"vehicle_movement\", 'intersection_type'], axis = 1)\n",
    "\n",
    "# baselines = data[data[\"crashStatus\"]==\"Balanced-Sample Baseline\"][:60]\n",
    "# crash = data[data[\"crashStatus\"]==\"Crash\"]\n",
    "# data = pd.concat([baselines, crash])\n",
    "\n",
    "y = data[\"crashStatus\"]\n",
    "data = data.drop( 'crashStatus', axis=1)\n",
    "y[y==\"Balanced-Sample Baseline\"] = False\n",
    "y[y != False] = True\n",
    "y  = np.asarray(y,dtype=np.float64)\n",
    "filledData = data.where(pd.notna(data), data.mean(), axis='columns')\n",
    "filledData = (filledData - filledData.mean())/filledData.std()\n",
    "print(\"Number of crashs events: \", sum(y))\n",
    "print(\"Class Balance with Crash and Baseline Condition: \", sum(y)/len(y))\n",
    "# from sklearn.feature_selection import SelectKBest,f_classif\n",
    "# selector = SelectKBest(f_classif, k=10).fit(filledData,y)\n",
    "# featurefilledData = selector.transform(filledData)\n",
    "X_train, X_test, y_train, y_test = train_test_split(filledData, y, train_size=0.7)"
   ]
  },
  {
   "cell_type": "code",
   "execution_count": null,
   "metadata": {},
   "outputs": [],
   "source": [
    "clf = LogisticRegression(max_iter=100, penalty='l1')"
   ]
  },
  {
   "cell_type": "code",
   "execution_count": null,
   "metadata": {},
   "outputs": [],
   "source": [
    "Classifier_performance(clf, [\"No_crash\", \"Crash\"], y, filledData=filledData, X_train=X_train, X_test=X_test, y_train=y_train, y_test=y_test )"
   ]
  },
  {
   "cell_type": "markdown",
   "metadata": {},
   "source": [
    "#  "
   ]
  },
  {
   "cell_type": "code",
   "execution_count": null,
   "metadata": {},
   "outputs": [],
   "source": [
    "import statsmodels.api as sm\n",
    "from scipy import stats\n",
    "est = sm.OLS(y, filledData.astype(float))\n",
    "est2 = est.fit()\n",
    "print(est2.summary())"
   ]
  },
  {
   "cell_type": "markdown",
   "metadata": {},
   "source": [
    "#  "
   ]
  },
  {
   "cell_type": "markdown",
   "metadata": {},
   "source": [
    "# Predicting if the driver is young or old from their driving data all 275 data used"
   ]
  },
  {
   "cell_type": "code",
   "execution_count": null,
   "metadata": {},
   "outputs": [],
   "source": [
    "# leftTurn = pd.read_excel(\"leftturn.xlsx\")\n",
    "data = leftTurn.drop([\"File_id\",\"time_of_entering\",\"time_of_exiting\",\"precipitatingEvent\",\n",
    "                      \"preIncidentManeuver\", \"crash\", \"maneuverJudgment\", \"incomplete_video\", \n",
    "                      \"vehicle_movement\", 'intersection_type', \"crashStatus\"], axis = 1)\n",
    "\n",
    "filledData = data.where(pd.notna(data), data.mean(), axis='columns')\n",
    "filledData = (filledData - filledData.mean())/filledData.std()\n",
    "y = leftTurn[\"age\"]\n",
    "y[y >= 65] = True\n",
    "y[y != True] = False\n",
    "y  = np.asarray(y,dtype=np.float64)"
   ]
  },
  {
   "cell_type": "code",
   "execution_count": null,
   "metadata": {},
   "outputs": [],
   "source": [
    "filledData = filledData.drop([\"age\"], axis =1)"
   ]
  },
  {
   "cell_type": "code",
   "execution_count": null,
   "metadata": {},
   "outputs": [],
   "source": [
    "print(\"Number of old drivers: \", sum(y))\n",
    "print(\"Class Balance with old drivers and young driver: \", sum(y)/len(y))"
   ]
  },
  {
   "cell_type": "code",
   "execution_count": null,
   "metadata": {},
   "outputs": [],
   "source": [
    "# from sklearn.feature_selection import SelectKBest,f_classif\n",
    "# selector = SelectKBest(f_classif, k=\"all\").fit(filledData,y)\n",
    "# featurefilledData = selector.transform(filledData)\n",
    "#featurefilledData.shape"
   ]
  },
  {
   "cell_type": "code",
   "execution_count": null,
   "metadata": {},
   "outputs": [],
   "source": [
    "X_train, X_test, y_train, y_test = train_test_split(filledData, y, train_size=0.7)"
   ]
  },
  {
   "cell_type": "code",
   "execution_count": null,
   "metadata": {},
   "outputs": [],
   "source": [
    "clf = LogisticRegression(max_iter=1000, penalty='l1')"
   ]
  },
  {
   "cell_type": "code",
   "execution_count": null,
   "metadata": {},
   "outputs": [],
   "source": [
    "Classifier_performance(clf, [\"Young\", \"Old\"], y, filledData=filledData, X_train=X_train, X_test=X_test, y_train=y_train, y_test=y_test )"
   ]
  },
  {
   "cell_type": "code",
   "execution_count": null,
   "metadata": {
    "scrolled": false
   },
   "outputs": [],
   "source": [
    "import statsmodels.api as sm\n",
    "from scipy import stats\n",
    "est = sm.OLS(y, filledData.astype(float))\n",
    "est2 = est.fit()\n",
    "print(est2.summary())"
   ]
  },
  {
   "cell_type": "markdown",
   "metadata": {},
   "source": [
    "#  "
   ]
  },
  {
   "cell_type": "markdown",
   "metadata": {},
   "source": [
    "#  Model to predict old driver at risk of crash or not"
   ]
  },
  {
   "cell_type": "code",
   "execution_count": null,
   "metadata": {
    "scrolled": true
   },
   "outputs": [],
   "source": [
    "leftTurn = pd.read_excel(\"leftturn.xlsx\")\n",
    "\n",
    "old_crash = leftTurn[(leftTurn[\"age\"]>=65) & ((leftTurn[\"crashStatus\"]==\"Crash\"))]\n",
    "old_baseline = leftTurn[(leftTurn[\"age\"]>=65) & (leftTurn[\"crashStatus\"]==\"Balanced-Sample Baseline\")][:30]\n",
    "leftTurn = pd.concat([old_crash, old_baseline])\n",
    "data = leftTurn.drop([\"File_id\",\"time_of_entering\",\"time_of_exiting\",\"precipitatingEvent\",\n",
    "                      \"preIncidentManeuver\", \"crash\", \"maneuverJudgment\", \"incomplete_video\", \n",
    "                      \"vehicle_movement\", 'intersection_type'], axis = 1)\n",
    "\n",
    "y = data[\"crashStatus\"]\n",
    "data = data.drop( 'crashStatus', axis=1)\n",
    "y[y==\"Balanced-Sample Baseline\"] = False\n",
    "y[y != False] = True\n",
    "y  = np.asarray(y,dtype=np.float64)\n",
    "filledData = data.where(pd.notna(data), data.mean(), axis='columns')\n",
    "filledData = (filledData - filledData.mean())/(filledData.std()+1e-4)\n",
    "print(\"Number of crashs events: \", sum(y))\n",
    "print(\"Class Balance with Crash and Baseline Condition: \", sum(y)/len(y))\n",
    "# from sklearn.feature_selection import SelectKBest,f_classif\n",
    "# selector = SelectKBest(f_classif, k=10).fit(filledData,y)\n",
    "# featurefilledData = selector.transform(filledData)\n",
    "X_train, X_test, y_train, y_test = train_test_split(filledData, y, train_size=0.7)"
   ]
  },
  {
   "cell_type": "code",
   "execution_count": null,
   "metadata": {
    "scrolled": false
   },
   "outputs": [],
   "source": [
    "clf = LogisticRegression(max_iter=100, penalty='l1')\n",
    "Classifier_performance(clf, [\"Old driver not at risk\", \"Old drivers at risk\"], y, filledData=filledData, X_train=X_train, X_test=X_test, y_train=y_train, y_test=y_test )"
   ]
  },
  {
   "cell_type": "code",
   "execution_count": null,
   "metadata": {},
   "outputs": [],
   "source": [
    "est = sm.OLS(y, filledData.astype(float))\n",
    "est2 = est.fit()\n",
    "print(est2.summary())"
   ]
  },
  {
   "cell_type": "markdown",
   "metadata": {},
   "source": [
    "#  "
   ]
  },
  {
   "cell_type": "markdown",
   "metadata": {},
   "source": [
    "#  Young drivers at the crash risk or not "
   ]
  },
  {
   "cell_type": "code",
   "execution_count": null,
   "metadata": {},
   "outputs": [],
   "source": [
    "leftTurn = pd.read_excel(\"leftturn.xlsx\")\n",
    "\n",
    "young_crash = leftTurn[(leftTurn[\"age\"]<=65) & ((leftTurn[\"crashStatus\"]==\"Crash\"))]\n",
    "young_baseline = leftTurn[(leftTurn[\"age\"]<=65) & (leftTurn[\"crashStatus\"]==\"Balanced-Sample Baseline\")][:20]\n",
    "leftTurn = pd.concat([young_crash, young_baseline])\n",
    "data = leftTurn.drop([\"File_id\",\"time_of_entering\",\"time_of_exiting\",\"precipitatingEvent\",\n",
    "                      \"preIncidentManeuver\", \"crash\", \"maneuverJudgment\", \"incomplete_video\", \n",
    "                      \"vehicle_movement\", 'intersection_type'], axis = 1)\n",
    "\n",
    "y = data[\"crashStatus\"]\n",
    "data = data.drop( 'crashStatus', axis=1)\n",
    "y[y==\"Balanced-Sample Baseline\"] = False\n",
    "y[y != False] = True\n",
    "y  = np.asarray(y,dtype=np.float64)\n",
    "filledData = data.where(pd.notna(data), data.mean(), axis='columns')\n",
    "filledData = (filledData - filledData.mean())/(filledData.std()+1e-8)\n",
    "print(\"Number of crashs events: \", sum(y))\n",
    "print(\"Class Balance with Crash and Baseline Condition: \", sum(y)/len(y))\n",
    "# from sklearn.feature_selection import SelectKBest,f_classif\n",
    "# selector = SelectKBest(f_classif, k=10).fit(filledData,y)\n",
    "# featurefilledData = selector.transform(filledData)\n",
    "X_train, X_test, y_train, y_test = train_test_split(filledData, y, train_size=0.7)"
   ]
  },
  {
   "cell_type": "code",
   "execution_count": null,
   "metadata": {},
   "outputs": [],
   "source": [
    "clf = LogisticRegression(max_iter=100, penalty='l1')\n",
    "Classifier_performance(clf, [\"Old driver not at risk\", \"Old drivers at risk\"], y, filledData=filledData, X_train=X_train, X_test=X_test, y_train=y_train, y_test=y_test )"
   ]
  },
  {
   "cell_type": "code",
   "execution_count": null,
   "metadata": {},
   "outputs": [],
   "source": [
    "est = sm.OLS(y, filledData.astype(float))\n",
    "est2 = est.fit()\n",
    "print(est2.summary())"
   ]
  },
  {
   "cell_type": "markdown",
   "metadata": {},
   "source": [
    "#  "
   ]
  }
 ],
 "metadata": {
  "kernelspec": {
   "display_name": "Python 3",
   "language": "python",
   "name": "python3"
  },
  "language_info": {
   "codemirror_mode": {
    "name": "ipython",
    "version": 3
   },
   "file_extension": ".py",
   "mimetype": "text/x-python",
   "name": "python",
   "nbconvert_exporter": "python",
   "pygments_lexer": "ipython3",
   "version": "3.6.3"
  }
 },
 "nbformat": 4,
 "nbformat_minor": 2
}
