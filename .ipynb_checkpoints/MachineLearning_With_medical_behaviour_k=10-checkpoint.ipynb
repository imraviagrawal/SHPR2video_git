{
 "cells": [
  {
   "cell_type": "code",
   "execution_count": 1,
   "metadata": {},
   "outputs": [
    {
     "name": "stderr",
     "output_type": "stream",
     "text": [
      "/Users/raviagrawal/miniconda3/lib/python3.6/importlib/_bootstrap.py:219: RuntimeWarning: numpy.dtype size changed, may indicate binary incompatibility. Expected 96, got 88\n",
      "  return f(*args, **kwds)\n",
      "/Users/raviagrawal/miniconda3/lib/python3.6/importlib/_bootstrap.py:219: RuntimeWarning: numpy.dtype size changed, may indicate binary incompatibility. Expected 96, got 88\n",
      "  return f(*args, **kwds)\n"
     ]
    }
   ],
   "source": [
    "# import\n",
    "import pandas as pd\n",
    "import numpy as np\n",
    "import glob\n",
    "import warnings\n",
    "warnings.filterwarnings('ignore')\n",
    "#import matplotlib.pyplot as plt\n",
    "import itertools\n",
    "import numpy as np\n",
    "import statsmodels.api as sm\n",
    "from scipy import stats\n",
    "import seaborn as sns\n",
    "import matplotlib.pyplot as plt\n",
    "# Machine Learning libraries.\n",
    "from sklearn import preprocessing\n",
    "from sklearn.linear_model import LogisticRegression\n",
    "from sklearn.model_selection import train_test_split\n",
    "from sklearn.metrics import accuracy_score\n",
    "from sklearn.metrics import confusion_matrix\n",
    "from sklearn.metrics import precision_recall_fscore_support\n",
    "from sklearn.metrics import classification_report\n",
    "from sklearn.decomposition import PCA\n",
    "from sklearn.feature_selection import SelectKBest,f_classif"
   ]
  },
  {
   "cell_type": "code",
   "execution_count": 2,
   "metadata": {},
   "outputs": [],
   "source": [
    "k=10"
   ]
  },
  {
   "cell_type": "code",
   "execution_count": 3,
   "metadata": {},
   "outputs": [],
   "source": [
    "def plot_confusion_matrix(cm, classes,\n",
    "                          normalize=False,\n",
    "                          title='Confusion matrix',\n",
    "                          cmap=plt.cm.Blues):\n",
    "    \"\"\"\n",
    "    This function prints and plots the confusion matrix.\n",
    "    Normalization can be applied by setting `normalize=True`.\n",
    "    \"\"\"\n",
    "    if normalize:\n",
    "        cm = cm.astype('float') / cm.sum(axis=1)[:, np.newaxis]\n",
    "        print(\"Normalized confusion matrix\")\n",
    "    else:\n",
    "        print('Confusion matrix, without normalization')\n",
    "\n",
    "    print(cm)\n",
    "\n",
    "    plt.imshow(cm, interpolation='nearest', cmap=cmap)\n",
    "    plt.title(title)\n",
    "    plt.colorbar()\n",
    "    tick_marks = np.arange(len(classes))\n",
    "    plt.xticks(tick_marks, classes, rotation=45)\n",
    "    plt.yticks(tick_marks, classes)\n",
    "\n",
    "    fmt = '.2f' if normalize else 'd'\n",
    "    thresh = cm.max() / 2.\n",
    "    for i, j in itertools.product(range(cm.shape[0]), range(cm.shape[1])):\n",
    "        plt.text(j, i, format(cm[i, j], fmt),\n",
    "                 horizontalalignment=\"center\",\n",
    "                 color=\"white\" if cm[i, j] > thresh else \"black\")\n",
    "\n",
    "    plt.tight_layout()\n",
    "    plt.ylabel('True label')\n",
    "    plt.xlabel('Predicted label')\n",
    "\n",
    "    \n",
    "\n",
    "\n",
    "def Classifier_performance(clf, target_names, y, filledData, X_train, X_test, y_train, y_test, title=\"confusion matrix\"):\n",
    "    # Fitting the training data\n",
    "    clf.fit(X_train, y_train)\n",
    "    \n",
    "    # Predicting the data\n",
    "    y_pred = clf.predict(X_test)\n",
    "    Y_train_pred = clf.predict(X_train)\n",
    "    \n",
    "    # Printing the accuracies and confusion matrix\n",
    "    print(\"Training Accuracy Score: \", accuracy_score(Y_train_pred , y_train))\n",
    "    print(\"validation Accuracy Score:\", accuracy_score(y_pred, y_test))\n",
    "    print(\"Classification Report: \")\n",
    "    print(classification_report(y_test, y_pred, target_names=target_names))\n",
    "    cm = confusion_matrix(y_test, y_pred)\n",
    "    # Plot normalized confusion matrix\n",
    "    #plt.figure()\n",
    "    plot_confusion_matrix(cm, classes=target_names, normalize=False,\n",
    "                          title=title)\n",
    "\n",
    "    plt.show()\n",
    "    plt.close()\n",
    "    \n",
    "    # Showing the lower dimension data projection using PCA\n",
    "    pca = PCA(n_components=2)\n",
    "    \n",
    "    # Fitting and transformed the data\n",
    "    filledData_lower = pca.fit_transform(filledData)\n",
    "    y = pd.Series(y)\n",
    "    filledData_lower = pd.DataFrame(filledData_lower)\n",
    "    filledData_lower['labels'] = y.values\n",
    "    \n",
    "    # Creating the figure\n",
    "    fig = plt.figure(figsize = (8,8))\n",
    "    ax = fig.add_subplot(1,1,1) \n",
    "    ax.set_xlabel('Principal Component 1', fontsize = 15) # X Axis\n",
    "    ax.set_ylabel('Principal Component 2', fontsize = 15) # Y Axis\n",
    "    ax.set_title('2 component PCA', fontsize = 20) # Title\n",
    "    crash = filledData_lower[filledData_lower[\"labels\"] == 1]\n",
    "    no_crash = filledData_lower[filledData_lower[\"labels\"] == 0]\n",
    "    ax.plot(crash[0], crash[1], \"*\", label=target_names[0])\n",
    "    ax.plot(no_crash[0], no_crash[1], \"o\", label=target_names[1])\n",
    "    plt.legend()\n",
    "    plt.show()\n",
    "    plt.close()"
   ]
  },
  {
   "cell_type": "code",
   "execution_count": 4,
   "metadata": {},
   "outputs": [],
   "source": [
    "leftTurn = pd.read_excel(\"leftturn_new.xlsx\")\n",
    "data = leftTurn.drop([\"File_id\",\"time_of_entering\",\"time_of_exiting\",\"precipitatingEvent\",\"preIncidentManeuver\",\"crashStatus\", \"crash\", \"maneuverJudgment\", \"incomplete_video\", \"vehicle_movement\"], axis = 1)"
   ]
  },
  {
   "cell_type": "code",
   "execution_count": 5,
   "metadata": {},
   "outputs": [],
   "source": [
    "# Filling empty value in the questionary variable with zero\n",
    "temp = data[['hear', 'heart', 'resp',\n",
    "       'brain', 'vasc', 'nrvsandSlp', 'metab', 'limFlex', 'sevArthr', 'psych',\n",
    "       'multMedConds', 'multMeds', 'dhiVisual', 'dhiFOV', 'clockDrawaing',\n",
    "       'slpSched', 'slperTyp', 'nodOffWhlDrvng', 'qltyofSlp',\n",
    "       'driverRestriction', 'numViol', 'numCrash', 'passTrnVeh', 'rage',\n",
    "       'wrngWay', 'missLead', 'wrngLnInt']]\n",
    "temp.fillna(0, inplace = True)\n",
    "temp = temp.replace(\"(null)\", 0)\n",
    "data[['hear', 'heart', 'resp',\n",
    "       'brain', 'vasc', 'nrvsandSlp', 'metab', 'limFlex', 'sevArthr', 'psych',\n",
    "       'multMedConds', 'multMeds', 'dhiVisual', 'dhiFOV', 'clockDrawaing',\n",
    "       'slpSched', 'slperTyp', 'nodOffWhlDrvng', 'qltyofSlp',\n",
    "       'driverRestriction', 'numViol', 'numCrash', 'passTrnVeh', 'rage',\n",
    "       'wrngWay', 'missLead', 'wrngLnInt']] = temp\n",
    "# inputing Average value in the vehicle attributies\n",
    "temp = data[['Avg_Acceleration',\n",
    "       'std_Acceleration', 'Avg_speed', 'std_speed', 'max_speed',\n",
    "       'max_acceleration', '6_Avg_Acceleration', '6_std_Acceleration',\n",
    "       '6_Avg_speed', '6_std_speed', \"age\"]]\n",
    "\n",
    "temp = temp.where(pd.notna(temp), temp.mean(), axis='columns')\n",
    "temp = (temp - temp.mean())/temp.std()\n",
    "\n",
    "data[['Avg_Acceleration',\n",
    "       'std_Acceleration', 'Avg_speed', 'std_speed', 'max_speed',\n",
    "       'max_acceleration', '6_Avg_Acceleration', '6_std_Acceleration',\n",
    "       '6_Avg_speed', '6_std_speed', \"age\"]] = temp\n",
    "\n",
    "# Filling Qualtrics Varible with 1\n",
    "filledData = data.fillna(1)"
   ]
  },
  {
   "cell_type": "code",
   "execution_count": 6,
   "metadata": {},
   "outputs": [
    {
     "name": "stdout",
     "output_type": "stream",
     "text": [
      "Number of crashs events:  145.0\n",
      "Class Balance with Crash and no Crash:  0.506993006993007\n"
     ]
    }
   ],
   "source": [
    "# Getting the crash Status\n",
    "y = leftTurn[\"crashStatus\"]\n",
    "\n",
    "# Crash and near crash as one field \n",
    "y[y==\"Balanced-Sample Baseline\"] = False\n",
    "y[y != False] = True\n",
    "y  = np.asarray(y,dtype=np.float64)\n",
    "print(\"Number of crashs events: \", sum(y))\n",
    "print(\"Class Balance with Crash and no Crash: \", sum(y)/len(y))\n",
    "# from sklearn.feature_selection import SelectKBest,f_classif\n",
    "# selector = SelectKBest(f_classif, k=10).fit(filledData,y)\n",
    "# featurefilledData = selector.transform(filledData)\n",
    "\n",
    "selector = SelectKBest(f_classif, k=k).fit(filledData, y)\n",
    "columns = filledData.columns[selector.get_support()]\n",
    "filledData = filledData[np.array(columns)]\n",
    "\n",
    "# Traing test split of the data \n",
    "X_train, X_test, y_train, y_test = train_test_split(filledData, y, train_size=0.8, random_state=42)"
   ]
  },
  {
   "cell_type": "markdown",
   "metadata": {},
   "source": [
    "# Predicting Crash risk of all the drivers using Support Vector Machine considering crash and near crash as one entry."
   ]
  },
  {
   "cell_type": "code",
   "execution_count": 7,
   "metadata": {},
   "outputs": [
    {
     "name": "stderr",
     "output_type": "stream",
     "text": [
      "/Users/raviagrawal/miniconda3/lib/python3.6/site-packages/sklearn/ensemble/weight_boosting.py:29: DeprecationWarning: numpy.core.umath_tests is an internal NumPy module and should not be imported. It will be removed in a future NumPy release.\n",
      "  from numpy.core.umath_tests import inner1d\n"
     ]
    }
   ],
   "source": [
    "# Loading neccesary library for the support vector machine\n",
    "from sklearn import svm\n",
    "from sklearn.model_selection import GridSearchCV\n",
    "from sklearn.ensemble import RandomForestClassifier"
   ]
  },
  {
   "cell_type": "code",
   "execution_count": 8,
   "metadata": {},
   "outputs": [
    {
     "name": "stdout",
     "output_type": "stream",
     "text": [
      "Training Accuracy Score:  0.7324561403508771\n",
      "validation Accuracy Score: 0.603448275862069\n",
      "Classification Report: \n",
      "             precision    recall  f1-score   support\n",
      "\n",
      "   No_crash       0.61      0.74      0.67        31\n",
      "      Crash       0.60      0.44      0.51        27\n",
      "\n",
      "avg / total       0.60      0.60      0.59        58\n",
      "\n",
      "Confusion matrix, without normalization\n",
      "[[23  8]\n",
      " [15 12]]\n"
     ]
    },
    {
     "data": {
      "image/png": "[encoded data removed]",
      "text/plain": [
       "<Figure size 432x288 with 2 Axes>"
      ]
     },
     "metadata": {},
     "output_type": "display_data"
    },
    {
     "data": {
      "image/png": "[encoded data removed]",
      "text/plain": [
       "<Figure size 576x576 with 1 Axes>"
      ]
     },
     "metadata": {},
     "output_type": "display_data"
    }
   ],
   "source": [
    "clf = LogisticRegression( penalty='l1')\n",
    "Classifier_performance(clf, [\"No_crash\", \"Crash\"], y, filledData=filledData, X_train=X_train, X_test=X_test, y_train=y_train, y_test=y_test )"
   ]
  },
  {
   "cell_type": "markdown",
   "metadata": {},
   "source": [
    "# Support Vector Machine Learning Model to predict crash and no crash risk"
   ]
  },
  {
   "cell_type": "code",
   "execution_count": 9,
   "metadata": {
    "scrolled": false
   },
   "outputs": [
    {
     "name": "stdout",
     "output_type": "stream",
     "text": [
      "Training Accuracy Score:  0.7675438596491229\n",
      "validation Accuracy Score: 0.6551724137931034\n",
      "Classification Report: \n",
      "             precision    recall  f1-score   support\n",
      "\n",
      "   No_crash       0.63      0.84      0.72        31\n",
      "      Crash       0.71      0.44      0.55        27\n",
      "\n",
      "avg / total       0.67      0.66      0.64        58\n",
      "\n",
      "Confusion matrix, without normalization\n",
      "[[26  5]\n",
      " [15 12]]\n"
     ]
    },
    {
     "data": {
      "image/png": "[encoded data removed]",
      "text/plain": [
       "<Figure size 432x288 with 2 Axes>"
      ]
     },
     "metadata": {},
     "output_type": "display_data"
    },
    {
     "data": {
      "image/png": "[encoded data removed]",
      "text/plain": [
       "<Figure size 576x576 with 1 Axes>"
      ]
     },
     "metadata": {},
     "output_type": "display_data"
    }
   ],
   "source": [
    "parameters = {'kernel':('linear', 'rbf', 'poly'), 'C':[1, 5, 10, 0.5, 0.25, 0.125, 0.065], \"degree\":[3, 5, 7, 9, 15]}\n",
    "svc = svm.SVC()\n",
    "clf = GridSearchCV(svc, parameters, cv=3)\n",
    "Classifier_performance(clf, [\"No_crash\", \"Crash\"], y, filledData=filledData, X_train=X_train, X_test=X_test, y_train=y_train, y_test=y_test )"
   ]
  },
  {
   "cell_type": "code",
   "execution_count": 10,
   "metadata": {},
   "outputs": [
    {
     "data": {
      "text/plain": [
       "SVC(C=1, cache_size=200, class_weight=None, coef0=0.0,\n",
       "  decision_function_shape='ovr', degree=3, gamma='auto', kernel='rbf',\n",
       "  max_iter=-1, probability=False, random_state=None, shrinking=True,\n",
       "  tol=0.001, verbose=False)"
      ]
     },
     "execution_count": 10,
     "metadata": {},
     "output_type": "execute_result"
    }
   ],
   "source": [
    "clf.best_estimator_"
   ]
  },
  {
   "cell_type": "markdown",
   "metadata": {},
   "source": [
    "#  Random Forest Based Machine Learning Models\n"
   ]
  },
  {
   "cell_type": "code",
   "execution_count": null,
   "metadata": {
    "scrolled": false
   },
   "outputs": [],
   "source": [
    "parameters = {\"n_estimators\":[1, 5, 10, 25, 50, 100, 250], \"criterion\":[\"gini\", \"entropy\"], \"max_depth\":[5, 10, 26, 50, 100]}\n",
    "rf = RandomForestClassifier()\n",
    "clf = GridSearchCV(rf, parameters, cv=7)\n",
    "Classifier_performance(clf, [\"No_crash\", \"Crash\"], y, filledData=filledData, X_train=X_train, X_test=X_test, y_train=y_train, y_test=y_test )"
   ]
  },
  {
   "cell_type": "code",
   "execution_count": null,
   "metadata": {},
   "outputs": [],
   "source": [
    "est = sm.OLS(y, filledData.astype(float))\n",
    "est2 = est.fit()\n",
    "print(est2.summary())"
   ]
  },
  {
   "cell_type": "markdown",
   "metadata": {},
   "source": [
    "# Predicting Crash risk for including just crash and baseline condition. (Near crash not considered) using the vehicle profile from both young and old driver."
   ]
  },
  {
   "cell_type": "code",
   "execution_count": null,
   "metadata": {},
   "outputs": [],
   "source": [
    "leftTurn = pd.read_excel(\"leftturn_new.xlsx\")\n",
    "\n",
    "# removing the near crash files.\n",
    "leftTurn = leftTurn[leftTurn[\"crashStatus\"] != 'Near-Crash'] \n",
    "\n",
    "data = leftTurn.drop([\"File_id\",\"time_of_entering\",\"time_of_exiting\",\"precipitatingEvent\",\n",
    "                      \"preIncidentManeuver\", \"crash\", \"maneuverJudgment\", \"incomplete_video\", \n",
    "                      \"vehicle_movement\", 'intersection_type'], axis = 1)\n",
    "\n",
    "\n",
    "# Filling empty value in the questionary variable with zero\n",
    "temp = data[['hear', 'heart', 'resp',\n",
    "       'brain', 'vasc', 'nrvsandSlp', 'metab', 'limFlex', 'sevArthr', 'psych',\n",
    "       'multMedConds', 'multMeds', 'dhiVisual', 'dhiFOV', 'clockDrawaing',\n",
    "       'slpSched', 'slperTyp', 'nodOffWhlDrvng', 'qltyofSlp',\n",
    "       'driverRestriction', 'numViol', 'numCrash', 'passTrnVeh', 'rage',\n",
    "       'wrngWay', 'missLead', 'wrngLnInt']]\n",
    "temp.fillna(0, inplace = True)\n",
    "temp = temp.replace(\"(null)\", 0)\n",
    "data[['hear', 'heart', 'resp',\n",
    "       'brain', 'vasc', 'nrvsandSlp', 'metab', 'limFlex', 'sevArthr', 'psych',\n",
    "       'multMedConds', 'multMeds', 'dhiVisual', 'dhiFOV', 'clockDrawaing',\n",
    "       'slpSched', 'slperTyp', 'nodOffWhlDrvng', 'qltyofSlp',\n",
    "       'driverRestriction', 'numViol', 'numCrash', 'passTrnVeh', 'rage',\n",
    "       'wrngWay', 'missLead', 'wrngLnInt']] = temp\n",
    "# inputing Average value in the vehicle attributies\n",
    "temp = data[['Avg_Acceleration',\n",
    "       'std_Acceleration', 'Avg_speed', 'std_speed', 'max_speed',\n",
    "       'max_acceleration', '6_Avg_Acceleration', '6_std_Acceleration',\n",
    "       '6_Avg_speed', '6_std_speed', \"age\"]]\n",
    "\n",
    "temp = temp.where(pd.notna(temp), temp.mean(), axis='columns')\n",
    "temp = (temp - temp.mean())/temp.std()\n",
    "\n",
    "data[['Avg_Acceleration',\n",
    "       'std_Acceleration', 'Avg_speed', 'std_speed', 'max_speed',\n",
    "       'max_acceleration', '6_Avg_Acceleration', '6_std_Acceleration',\n",
    "       '6_Avg_speed', '6_std_speed', \"age\"]] = temp\n",
    "\n",
    "# Filling Qualtrics Varible with 1\n",
    "\n",
    "\n",
    "y = data[\"crashStatus\"]\n",
    "data = data.drop( 'crashStatus', axis=1)\n",
    "y[y==\"Balanced-Sample Baseline\"] = False\n",
    "y[y != False] = True\n",
    "y  = np.asarray(y,dtype=np.float64)\n",
    "filledData = data.fillna(1)\n",
    "\n",
    "print(\"Number of crashs events: \", sum(y))\n",
    "print(\"Class Balance with Crash and Baseline Condition: \", sum(y)/len(y))\n",
    "\n",
    "selector = SelectKBest(f_classif, k=k).fit(filledData, y)\n",
    "columns = filledData.columns[selector.get_support()]\n",
    "filledData = filledData[np.array(columns)]\n",
    "\n",
    "X_train, X_test, y_train, y_test = train_test_split(filledData, y, train_size=0.7, random_state=42)"
   ]
  },
  {
   "cell_type": "code",
   "execution_count": null,
   "metadata": {},
   "outputs": [],
   "source": [
    "clf = LogisticRegression(max_iter=100, penalty='l1')\n",
    "Classifier_performance(clf, [\"No_crash\", \"Crash\"], y, filledData=filledData, X_train=X_train, X_test=X_test, y_train=y_train, y_test=y_test )"
   ]
  },
  {
   "cell_type": "markdown",
   "metadata": {},
   "source": [
    "# SVM Based model :\n",
    "    Predicting Crash risk for including just crash and baseline condition. (Near crash not considered) using the vehicle profile from both young and old driver."
   ]
  },
  {
   "cell_type": "code",
   "execution_count": null,
   "metadata": {},
   "outputs": [],
   "source": [
    "parameters = {'kernel':('linear', 'rbf', 'poly'), 'C':[1, 5, 10, 0.5, 0.25, 0.125, 0.065], \"degree\":[3, 5, 7, 9, 15]}\n",
    "svc = svm.SVC()\n",
    "clf = GridSearchCV(svc, parameters, cv=3)\n",
    "Classifier_performance(clf, [\"No_crash\", \"Crash\"], y, filledData=filledData, X_train=X_train, X_test=X_test, y_train=y_train, y_test=y_test )"
   ]
  },
  {
   "cell_type": "markdown",
   "metadata": {},
   "source": [
    "# Random Forest Based Machine Learning Models¶:\n",
    "    Predicting Crash risk for including just crash and baseline condition. (Near crash not considered) using the vehicle profile from both young and old driver."
   ]
  },
  {
   "cell_type": "code",
   "execution_count": null,
   "metadata": {},
   "outputs": [],
   "source": [
    "parameters = {\"n_estimators\":[1, 5, 10, 25, 50, 100, 250], \"criterion\":[\"gini\", \"entropy\"], \"max_depth\":[5, 10, 26, 50, 100]}\n",
    "rf = RandomForestClassifier()\n",
    "clf = GridSearchCV(rf, parameters, cv=7)\n",
    "Classifier_performance(clf, [\"No_crash\", \"Crash\"], y, filledData=filledData, X_train=X_train, X_test=X_test, y_train=y_train, y_test=y_test )"
   ]
  },
  {
   "cell_type": "code",
   "execution_count": null,
   "metadata": {},
   "outputs": [],
   "source": [
    "est = sm.OLS(y, filledData.astype(float))\n",
    "est2 = est.fit()\n",
    "print(est2.summary())"
   ]
  },
  {
   "cell_type": "markdown",
   "metadata": {},
   "source": [
    "# Predicting if the driver is young or old from their driving data all 275 data used\n"
   ]
  },
  {
   "cell_type": "code",
   "execution_count": null,
   "metadata": {},
   "outputs": [],
   "source": [
    "leftTurn = pd.read_excel(\"leftturn_new.xlsx\")\n",
    "data = leftTurn.drop([\"File_id\",\"time_of_entering\",\"time_of_exiting\",\"precipitatingEvent\",\n",
    "                      \"preIncidentManeuver\", \"crash\", \"maneuverJudgment\", \"incomplete_video\", \n",
    "                      \"vehicle_movement\", 'intersection_type', \"crashStatus\", \"age\"], axis = 1)\n",
    "\n",
    "# Filling empty value in the questionary variable with zero\n",
    "temp = data[['hear', 'heart', 'resp',\n",
    "       'brain', 'vasc', 'nrvsandSlp', 'metab', 'limFlex', 'sevArthr', 'psych',\n",
    "       'multMedConds', 'multMeds', 'dhiVisual', 'dhiFOV', 'clockDrawaing',\n",
    "       'slpSched', 'slperTyp', 'nodOffWhlDrvng', 'qltyofSlp',\n",
    "       'driverRestriction', 'numViol', 'numCrash', 'passTrnVeh', 'rage',\n",
    "       'wrngWay', 'missLead', 'wrngLnInt']]\n",
    "temp.fillna(0, inplace = True)\n",
    "temp = temp.replace(\"(null)\", 0)\n",
    "data[['hear', 'heart', 'resp',\n",
    "       'brain', 'vasc', 'nrvsandSlp', 'metab', 'limFlex', 'sevArthr', 'psych',\n",
    "       'multMedConds', 'multMeds', 'dhiVisual', 'dhiFOV', 'clockDrawaing',\n",
    "       'slpSched', 'slperTyp', 'nodOffWhlDrvng', 'qltyofSlp',\n",
    "       'driverRestriction', 'numViol', 'numCrash', 'passTrnVeh', 'rage',\n",
    "       'wrngWay', 'missLead', 'wrngLnInt']] = temp\n",
    "# inputing Average value in the vehicle attributies\n",
    "temp = data[['Avg_Acceleration',\n",
    "       'std_Acceleration', 'Avg_speed', 'std_speed', 'max_speed',\n",
    "       'max_acceleration', '6_Avg_Acceleration', '6_std_Acceleration',\n",
    "       '6_Avg_speed', '6_std_speed']]\n",
    "\n",
    "temp = temp.where(pd.notna(temp), temp.mean(), axis='columns')\n",
    "temp = (temp - temp.mean())/temp.std()\n",
    "\n",
    "data[['Avg_Acceleration',\n",
    "       'std_Acceleration', 'Avg_speed', 'std_speed', 'max_speed',\n",
    "       'max_acceleration', '6_Avg_Acceleration', '6_std_Acceleration',\n",
    "       '6_Avg_speed', '6_std_speed']] = temp\n",
    "\n",
    "# Filling Qualtrics Varible with 1\n",
    "filledData = data.fillna(1)\n",
    "\n",
    "y = leftTurn[\"age\"]\n",
    "y[y >= 65] = True\n",
    "y[y != True] = False\n",
    "y  = np.asarray(y,dtype=np.float64)\n",
    "print(\"Number of old drivers: \", sum(y))\n",
    "print(\"Class Balance with old drivers and young driver: \", sum(y)/len(y))\n",
    "\n",
    "selector = SelectKBest(f_classif, k=k).fit(filledData, y)\n",
    "columns = filledData.columns[selector.get_support()]\n",
    "filledData = filledData[np.array(columns)]\n",
    "\n",
    "X_train, X_test, y_train, y_test = train_test_split(filledData, y, train_size=0.7, random_state=42)"
   ]
  },
  {
   "cell_type": "code",
   "execution_count": null,
   "metadata": {},
   "outputs": [],
   "source": [
    "clf = LogisticRegression(max_iter=1000, penalty='l1')\n",
    "Classifier_performance(clf, [\"Young\", \"Old\"], y, filledData=filledData, X_train=X_train, X_test=X_test, y_train=y_train, y_test=y_test )"
   ]
  },
  {
   "cell_type": "markdown",
   "metadata": {},
   "source": [
    "# SVM Based model :\n",
    "Predicting if the driver is young or old from their driving data all 275 data used¶"
   ]
  },
  {
   "cell_type": "code",
   "execution_count": null,
   "metadata": {},
   "outputs": [],
   "source": [
    "parameters = {'kernel':('linear', 'rbf', 'poly'), 'C':[1, 5, 10, 0.5, 0.25, 0.125, 0.065], \"degree\":[3, 5, 7, 9, 15]}\n",
    "svc = svm.SVC()\n",
    "clf = GridSearchCV(svc, parameters, cv=3)\n",
    "Classifier_performance(clf, [\"Young\", \"Old\"], y, filledData=filledData, X_train=X_train, X_test=X_test, y_train=y_train, y_test=y_test )"
   ]
  },
  {
   "cell_type": "markdown",
   "metadata": {},
   "source": [
    "# Random Forest Based Machine Learning Models¶:\n",
    "Predicting Crash risk for including just crash and baseline condition. (Near crash not considered) using the vehicle profile from both young and old driver."
   ]
  },
  {
   "cell_type": "code",
   "execution_count": null,
   "metadata": {
    "scrolled": false
   },
   "outputs": [],
   "source": [
    "parameters = {\"n_estimators\":[1, 5, 10, 25, 50, 100, 250], \"criterion\":[\"gini\", \"entropy\"], \"max_depth\":[5, 10, 26, 50, 100]}\n",
    "rf = RandomForestClassifier()\n",
    "clf = GridSearchCV(rf, parameters, cv=7)\n",
    "Classifier_performance(clf, [\"Young\", \"Old\"], y, filledData=filledData, X_train=X_train, X_test=X_test, y_train=y_train, y_test=y_test )"
   ]
  },
  {
   "cell_type": "code",
   "execution_count": null,
   "metadata": {},
   "outputs": [],
   "source": [
    "est = sm.OLS(y, filledData.astype(float))\n",
    "est2 = est.fit()\n",
    "print(est2.summary())"
   ]
  },
  {
   "cell_type": "markdown",
   "metadata": {},
   "source": [
    "# Model to predict old driver at risk of crash or not"
   ]
  },
  {
   "cell_type": "code",
   "execution_count": null,
   "metadata": {},
   "outputs": [],
   "source": [
    "leftTurn = pd.read_excel(\"leftturn_new.xlsx\")\n",
    "\n",
    "old_crash = leftTurn[(leftTurn[\"age\"]>=65) & ((leftTurn[\"crashStatus\"]==\"Crash\"))]\n",
    "old_baseline = leftTurn[(leftTurn[\"age\"]>=65) & (leftTurn[\"crashStatus\"]==\"Balanced-Sample Baseline\")][:30]\n",
    "leftTurn = pd.concat([old_crash, old_baseline])\n",
    "data = leftTurn.drop([\"File_id\",\"time_of_entering\",\"time_of_exiting\",\"precipitatingEvent\",\n",
    "                      \"preIncidentManeuver\", \"crash\", \"maneuverJudgment\", \"incomplete_video\", \n",
    "                      \"vehicle_movement\", 'intersection_type'], axis = 1)\n",
    "\n",
    "# Filling empty value in the questionary variable with zero\n",
    "temp = data[['hear', 'heart', 'resp',\n",
    "       'brain', 'vasc', 'nrvsandSlp', 'metab', 'limFlex', 'sevArthr', 'psych',\n",
    "       'multMedConds', 'multMeds', 'dhiVisual', 'dhiFOV', 'clockDrawaing',\n",
    "       'slpSched', 'slperTyp', 'nodOffWhlDrvng', 'qltyofSlp',\n",
    "       'driverRestriction', 'numViol', 'numCrash', 'passTrnVeh', 'rage',\n",
    "       'wrngWay', 'missLead', 'wrngLnInt']]\n",
    "temp.fillna(0, inplace = True)\n",
    "temp = temp.replace(\"(null)\", 0)\n",
    "data[['hear', 'heart', 'resp',\n",
    "       'brain', 'vasc', 'nrvsandSlp', 'metab', 'limFlex', 'sevArthr', 'psych',\n",
    "       'multMedConds', 'multMeds', 'dhiVisual', 'dhiFOV', 'clockDrawaing',\n",
    "       'slpSched', 'slperTyp', 'nodOffWhlDrvng', 'qltyofSlp',\n",
    "       'driverRestriction', 'numViol', 'numCrash', 'passTrnVeh', 'rage',\n",
    "       'wrngWay', 'missLead', 'wrngLnInt']] = temp\n",
    "# inputing Average value in the vehicle attributies\n",
    "temp = data[['Avg_Acceleration',\n",
    "       'std_Acceleration', 'Avg_speed', 'std_speed', 'max_speed',\n",
    "       'max_acceleration', '6_Avg_Acceleration', '6_std_Acceleration',\n",
    "       '6_Avg_speed', '6_std_speed', 'age']]\n",
    "\n",
    "temp = temp.where(pd.notna(temp), temp.mean(), axis='columns')\n",
    "temp = (temp - temp.mean())/temp.std()\n",
    "\n",
    "data[['Avg_Acceleration',\n",
    "       'std_Acceleration', 'Avg_speed', 'std_speed', 'max_speed',\n",
    "       'max_acceleration', '6_Avg_Acceleration', '6_std_Acceleration',\n",
    "       '6_Avg_speed', '6_std_speed', 'age']] = temp\n",
    "\n",
    "# Filling Qualtrics Varible with 1\n",
    "\n",
    "\n",
    "\n",
    "y = data[\"crashStatus\"]\n",
    "data = data.drop( 'crashStatus', axis=1)\n",
    "y[y==\"Balanced-Sample Baseline\"] = False\n",
    "y[y != False] = True\n",
    "y  = np.asarray(y,dtype=np.float64)\n",
    "\n",
    "filledData = data.fillna(1)\n",
    "\n",
    "print(\"Number of crashs events: \", sum(y))\n",
    "print(\"Class Balance with Crash and Baseline Condition: \", sum(y)/len(y))\n",
    "# from sklearn.feature_selection import SelectKBest,f_classif\n",
    "# selector = SelectKBest(f_classif, k=10).fit(filledData,y)\n",
    "# featurefilledData = selector.transform(filledData)\n",
    "\n",
    "selector = SelectKBest(f_classif, k=k).fit(filledData, y)\n",
    "columns = filledData.columns[selector.get_support()]\n",
    "filledData = filledData[np.array(columns)]\n",
    "\n",
    "X_train, X_test, y_train, y_test = train_test_split(filledData, y, train_size=0.7, random_state=42)"
   ]
  },
  {
   "cell_type": "code",
   "execution_count": null,
   "metadata": {},
   "outputs": [],
   "source": [
    "clf = LogisticRegression(max_iter=100, penalty='l1')\n",
    "Classifier_performance(clf, [\"Old driver not at risk\", \"Old drivers at risk\"], y, filledData=filledData, X_train=X_train, X_test=X_test, y_train=y_train, y_test=y_test )"
   ]
  },
  {
   "cell_type": "markdown",
   "metadata": {},
   "source": [
    "# SVM Based model to predict old driver at risk of crash or not:"
   ]
  },
  {
   "cell_type": "code",
   "execution_count": null,
   "metadata": {},
   "outputs": [],
   "source": [
    "parameters = {'kernel':('linear', 'rbf', 'poly'), 'C':[1, 5, 10, 0.5, 0.25, 0.125, 0.065], \"degree\":[3, 5, 7, 9, 15]}\n",
    "svc = svm.SVC()\n",
    "clf = GridSearchCV(svc, parameters, cv=3)\n",
    "Classifier_performance(clf, [\"Old driver not at risk\", \"Old drivers at risk\"], y, filledData=filledData, X_train=X_train, X_test=X_test, y_train=y_train, y_test=y_test )"
   ]
  },
  {
   "cell_type": "markdown",
   "metadata": {},
   "source": [
    "# Random Forest Based Machine Learning Models¶:\n",
    "    predict old driver at risk of crash or not:\n"
   ]
  },
  {
   "cell_type": "code",
   "execution_count": null,
   "metadata": {},
   "outputs": [],
   "source": [
    "parameters = {\"n_estimators\":[1, 5, 10, 25, 50, 100, 250], \"criterion\":[\"gini\", \"entropy\"], \"max_depth\":[5, 10, 26, 50, 100]}\n",
    "rf = RandomForestClassifier()\n",
    "clf = GridSearchCV(rf, parameters, cv=7)\n",
    "Classifier_performance(clf, [\"Old driver not at risk\", \"Old drivers at risk\"], y, filledData=filledData, X_train=X_train, X_test=X_test, y_train=y_train, y_test=y_test )"
   ]
  },
  {
   "cell_type": "code",
   "execution_count": null,
   "metadata": {},
   "outputs": [],
   "source": [
    "est = sm.OLS(y, filledData.astype(float))\n",
    "est2 = est.fit()\n",
    "print(est2.summary())"
   ]
  },
  {
   "cell_type": "markdown",
   "metadata": {},
   "source": [
    "# drivers 65 or less at the crash risk or not"
   ]
  },
  {
   "cell_type": "code",
   "execution_count": null,
   "metadata": {},
   "outputs": [],
   "source": [
    "leftTurn = pd.read_excel(\"leftturn_new.xlsx\")\n",
    "\n",
    "young_crash = leftTurn[(leftTurn[\"age\"]<=65) & ((leftTurn[\"crashStatus\"]==\"Crash\"))]\n",
    "young_baseline = leftTurn[(leftTurn[\"age\"]<=65) & (leftTurn[\"crashStatus\"]==\"Balanced-Sample Baseline\")][:20]\n",
    "leftTurn = pd.concat([young_crash, young_baseline])\n",
    "data = leftTurn.drop([\"File_id\",\"time_of_entering\",\"time_of_exiting\",\"precipitatingEvent\",\n",
    "                      \"preIncidentManeuver\", \"crash\", \"maneuverJudgment\", \"incomplete_video\", \n",
    "                      \"vehicle_movement\", 'intersection_type'], axis = 1)\n",
    "\n",
    "# Filling empty value in the questionary variable with zero\n",
    "temp = data[['hear', 'heart', 'resp',\n",
    "       'brain', 'vasc', 'nrvsandSlp', 'metab', 'limFlex', 'sevArthr', 'psych',\n",
    "       'multMedConds', 'multMeds', 'dhiVisual', 'dhiFOV', 'clockDrawaing',\n",
    "       'slpSched', 'slperTyp', 'nodOffWhlDrvng', 'qltyofSlp',\n",
    "       'driverRestriction', 'numViol', 'numCrash', 'passTrnVeh', 'rage',\n",
    "       'wrngWay', 'missLead', 'wrngLnInt']]\n",
    "temp.fillna(0, inplace = True)\n",
    "temp = temp.replace(\"(null)\", 0)\n",
    "data[['hear', 'heart', 'resp',\n",
    "       'brain', 'vasc', 'nrvsandSlp', 'metab', 'limFlex', 'sevArthr', 'psych',\n",
    "       'multMedConds', 'multMeds', 'dhiVisual', 'dhiFOV', 'clockDrawaing',\n",
    "       'slpSched', 'slperTyp', 'nodOffWhlDrvng', 'qltyofSlp',\n",
    "       'driverRestriction', 'numViol', 'numCrash', 'passTrnVeh', 'rage',\n",
    "       'wrngWay', 'missLead', 'wrngLnInt']] = temp\n",
    "# inputing Average value in the vehicle attributies\n",
    "temp = data[['Avg_Acceleration',\n",
    "       'std_Acceleration', 'Avg_speed', 'std_speed', 'max_speed',\n",
    "       'max_acceleration', '6_Avg_Acceleration', '6_std_Acceleration',\n",
    "       '6_Avg_speed', '6_std_speed']]\n",
    "\n",
    "temp = temp.where(pd.notna(temp), temp.mean(), axis='columns')\n",
    "temp = (temp - temp.mean())/temp.std()\n",
    "\n",
    "data[['Avg_Acceleration',\n",
    "       'std_Acceleration', 'Avg_speed', 'std_speed', 'max_speed',\n",
    "       'max_acceleration', '6_Avg_Acceleration', '6_std_Acceleration',\n",
    "       '6_Avg_speed', '6_std_speed']] = temp\n",
    "\n",
    "# Filling Qualtrics Varible with 1\n",
    "y = data[\"crashStatus\"]\n",
    "data = data.drop( 'crashStatus', axis=1)\n",
    "filledData = data.fillna(1)\n",
    "y[y==\"Balanced-Sample Baseline\"] = False\n",
    "y[y != False] = True\n",
    "y  = np.asarray(y,dtype=np.float64)\n",
    "\n",
    "\n",
    "print(\"Number of crashs events: \", sum(y))\n",
    "print(\"Class Balance with Crash and Baseline Condition: \", sum(y)/len(y))\n",
    "\n",
    "selector = SelectKBest(f_classif, k=k).fit(filledData, y)\n",
    "columns = filledData.columns[selector.get_support()]\n",
    "filledData = filledData[np.array(columns)]\n",
    "\n",
    "X_train, X_test, y_train, y_test = train_test_split(filledData, y, train_size=0.7, random_state=42)"
   ]
  },
  {
   "cell_type": "code",
   "execution_count": null,
   "metadata": {},
   "outputs": [],
   "source": [
    "clf = LogisticRegression(max_iter=100, penalty='l1')\n",
    "Classifier_performance(clf, [\"Old driver not at risk\", \"Old drivers at risk\"], y, filledData=filledData, X_train=X_train, X_test=X_test, y_train=y_train, y_test=y_test )"
   ]
  },
  {
   "cell_type": "markdown",
   "metadata": {},
   "source": [
    "# SVM Based model to predict drivers 65 or less at the crash risk or not¶\n"
   ]
  },
  {
   "cell_type": "code",
   "execution_count": null,
   "metadata": {},
   "outputs": [],
   "source": [
    "parameters = {'kernel':('linear', 'rbf', 'poly'), 'C':[1, 5, 10, 0.5, 0.25, 0.125, 0.065], \"degree\":[3, 5, 7, 9, 15]}\n",
    "svc = svm.SVC()\n",
    "clf = GridSearchCV(svc, parameters, cv=3)\n",
    "Classifier_performance(clf, [\"Old driver not at risk\", \"Old drivers at risk\"], y, filledData=filledData, X_train=X_train, X_test=X_test, y_train=y_train, y_test=y_test )"
   ]
  },
  {
   "cell_type": "markdown",
   "metadata": {},
   "source": [
    "# Random Forest Based Machine Learning Models¶:\n",
    "drivers 65 or less at the crash risk or not¶¶"
   ]
  },
  {
   "cell_type": "code",
   "execution_count": null,
   "metadata": {},
   "outputs": [],
   "source": [
    "parameters = {\"n_estimators\":[1, 5, 10, 25, 50, 100, 250], \"criterion\":[\"gini\", \"entropy\"], \"max_depth\":[5, 10, 26, 50, 100]}\n",
    "rf = RandomForestClassifier()\n",
    "clf = GridSearchCV(rf, parameters, cv=7)\n",
    "Classifier_performance(clf, [\"Old driver not at risk\", \"Old drivers at risk\"], y, filledData=filledData, X_train=X_train, X_test=X_test, y_train=y_train, y_test=y_test )"
   ]
  },
  {
   "cell_type": "code",
   "execution_count": null,
   "metadata": {},
   "outputs": [],
   "source": [
    "est = sm.OLS(y, filledData.astype(float))\n",
    "est2 = est.fit()\n",
    "print(est2.summary())"
   ]
  }
 ],
 "metadata": {
  "kernelspec": {
   "display_name": "Python 3",
   "language": "python",
   "name": "python3"
  },
  "language_info": {
   "codemirror_mode": {
    "name": "ipython",
    "version": 3
   },
   "file_extension": ".py",
   "mimetype": "text/x-python",
   "name": "python",
   "nbconvert_exporter": "python",
   "pygments_lexer": "ipython3",
   "version": "3.6.3"
  }
 },
 "nbformat": 4,
 "nbformat_minor": 2
}
