{
 "cells": [
  {
   "cell_type": "code",
   "execution_count": 2,
   "metadata": {},
   "outputs": [],
   "source": [
    "# import\n",
    "import pandas as pd\n",
    "import numpy as np\n",
    "import glob\n",
    "import warnings\n",
    "warnings.filterwarnings('ignore')\n",
    "#import matplotlib.pyplot as plt\n",
    "import itertools\n",
    "import numpy as np\n",
    "\n",
    "import seaborn as sns\n",
    "import matplotlib.pyplot as plt\n",
    "# Machine Learning libraries.\n",
    "from sklearn import preprocessing\n",
    "from sklearn.linear_model import LogisticRegression\n",
    "from sklearn.model_selection import train_test_split\n",
    "from sklearn.metrics import accuracy_score\n",
    "from sklearn.metrics import confusion_matrix\n",
    "from sklearn.metrics import precision_recall_fscore_support\n",
    "from sklearn.metrics import classification_report\n",
    "from sklearn.decomposition import PCA\n"
   ]
  },
  {
   "cell_type": "code",
   "execution_count": 3,
   "metadata": {},
   "outputs": [
    {
     "name": "stdout",
     "output_type": "stream",
     "text": [
      "example\n"
     ]
    },
    {
     "data": {
      "text/plain": [
       "'./csv/File_ID_819087_Index_33564154.csv'"
      ]
     },
     "execution_count": 3,
     "metadata": {},
     "output_type": "execute_result"
    }
   ],
   "source": [
    "# Helper function to locate full path of file with file_id\n",
    "files_lookup = {}\n",
    "for files in glob.glob(\"./csv/*.csv\"):\n",
    "    files_lookup[files.split(\"_\")[2]] = files\n",
    "print(\"example\")\n",
    "files_lookup[\"819087\"]"
   ]
  },
  {
   "cell_type": "code",
   "execution_count": 4,
   "metadata": {},
   "outputs": [],
   "source": [
    "#Files to be loaded\n",
    "driverDemo =  pd.read_excel(\"InSight Tables_Keys/DriverDemographic.xlsx\")\n",
    "tripsum =  pd.read_excel(\"InSight Tables_Keys/TripSummaryMeasures.xlsx\")\n",
    "event =  pd.read_excel(\"InSight Tables_Keys/eventDetails.xlsx\")\n",
    "eventUpdate = pd.read_excel(\"InSight Tables_Keys/eventDetailsUpdate.xlsx\")\n",
    "event.head()\n",
    "\n",
    "\n",
    "def getCrashStatus(ids):\n",
    "    crash_status = event[event.displayTripId==ids].eventSeverity1.values[0]\n",
    "    return crash_status\n"
   ]
  },
  {
   "cell_type": "code",
   "execution_count": 4,
   "metadata": {
    "scrolled": true
   },
   "outputs": [
    {
     "name": "stdout",
     "output_type": "stream",
     "text": [
      "Near Crash:  296\n",
      "Crash:  81\n"
     ]
    }
   ],
   "source": [
    "print(\"Near Crash: \", len(event[event.eventSeverity1 == \"Near-Crash\"]))\n",
    "print(\"Crash: \", len(event[event.eventSeverity1 == \"Crash\"]))"
   ]
  },
  {
   "cell_type": "code",
   "execution_count": 5,
   "metadata": {},
   "outputs": [
    {
     "name": "stdout",
     "output_type": "stream",
     "text": [
      "Age of the person is:  49\n"
     ]
    }
   ],
   "source": [
    "def get_age(id):\n",
    "    # Function to print the age of person\n",
    "    a = tripsum[tripsum[\"displayTripID\"] == id]['anonymousParticipantID']\n",
    "    a_string = driverDemo[driverDemo[\"anonymousParticipantID\"] == a.values[0]].ageGroup.values[0]\n",
    "    a_string = a_string.split(\"-\")\n",
    "    return int(max(a_string))\n",
    "print(\"Age of the person is: \", get_age(14767568))"
   ]
  },
  {
   "cell_type": "code",
   "execution_count": 6,
   "metadata": {},
   "outputs": [
    {
     "name": "stdout",
     "output_type": "stream",
     "text": [
      "('Starting in traffic lane', 'Safe and legal', 'Other vehicle ahead - slowed and stopped 2 seconds or less')\n"
     ]
    }
   ],
   "source": [
    "def getEventUpdate(tripid):\n",
    "    preIncedent = eventUpdate[eventUpdate.displayTripId == tripid]['preIncidentManeuver'].values[0]\n",
    "    maneuver  = eventUpdate[eventUpdate.displayTripId == tripid]['maneuverJudgment'].values[0]\n",
    "    precipiting = eventUpdate[eventUpdate.displayTripId == tripid]['precipitatingEvent'].values[0]\n",
    "    return preIncedent, maneuver, precipiting\n",
    "\n",
    "# Examples\n",
    "print(getEventUpdate(4952738))"
   ]
  },
  {
   "cell_type": "code",
   "execution_count": 7,
   "metadata": {},
   "outputs": [],
   "source": [
    "coded_files = pd.read_excel(\"SHRP2 Data Recording_File_download_from_Qualtric_May4_2018.xlsx\", header = 0)\n",
    "\n",
    "#Droping the unneccessary columns\n",
    "coded_files = coded_files.drop(['StartDate', 'EndDate', 'Status', 'IPAddress', 'Progress',\n",
    "       'Duration (in seconds)', 'Finished', 'RecordedDate', 'ResponseId',\n",
    "       'RecipientLastName', 'RecipientFirstName', 'RecipientEmail',\n",
    "       'ExternalReference', 'LocationLatitude', 'LocationLongitude',\n",
    "       'DistributionChannel', 'UserLanguage', 'Scorer', 'Scorer - Topics',  'comment'], axis = 1)\n"
   ]
  },
  {
   "cell_type": "code",
   "execution_count": 8,
   "metadata": {},
   "outputs": [
    {
     "name": "stdout",
     "output_type": "stream",
     "text": [
      "871\n"
     ]
    }
   ],
   "source": [
    "print(coded_files.shape[0])\n",
    "# Removing the initial test values\n",
    "coded_files = coded_files[8:]\n"
   ]
  },
  {
   "cell_type": "code",
   "execution_count": 9,
   "metadata": {},
   "outputs": [
    {
     "name": "stdout",
     "output_type": "stream",
     "text": [
      "Number of crashes:  (15, 20)\n"
     ]
    },
    {
     "data": {
      "text/plain": [
       "(733, 20)"
      ]
     },
     "execution_count": 9,
     "metadata": {},
     "output_type": "execute_result"
    }
   ],
   "source": [
    "\n",
    "# printing the number of crashes\n",
    "print(\"Number of crashes: \",coded_files[coded_files.crash == 2].shape)\n",
    "\n",
    "# Not Selecting incomplete videos\n",
    "coded_files = coded_files[(coded_files[\"incomplete_video\"] != 2)]\n",
    "coded_files.shape"
   ]
  },
  {
   "cell_type": "code",
   "execution_count": null,
   "metadata": {},
   "outputs": [],
   "source": [
    "# Few new column added\n",
    "coded_files[\"Avg_Acceleration\"]  = None\n",
    "coded_files[\"std_Acceleration\"]  = None\n",
    "coded_files[\"Avg_speed\"]  = None\n",
    "coded_files[\"std_speed\"]  = None\n",
    "coded_files[\"max_speed\"] = None\n",
    "coded_files[\"max_acceleration\"] = None\n",
    "\n",
    "\n",
    "coded_files[\"6_Avg_Acceleration\"]  = None\n",
    "coded_files[\"6_std_Acceleration\"]  = None\n",
    "coded_files[\"6_Avg_speed\"]  = None\n",
    "coded_files[\"6_std_speed\"]  = None\n",
    "\n",
    "coded_files[\"age\"] = None\n",
    "\n",
    "coded_files[\"crashStatus\"] = None\n",
    "\n",
    "# addding data from eventDetailsupdate\n",
    "coded_files['preIncidentManeuver'] = None\n",
    "coded_files['maneuverJudgment'] = None\n",
    "coded_files['precipitatingEvent'] = None\n",
    "\n",
    "#coded_files[\"gender\"] = None"
   ]
  },
  {
   "cell_type": "code",
   "execution_count": null,
   "metadata": {
    "scrolled": true
   },
   "outputs": [],
   "source": [
    "from tqdm import tqdm\n",
    "not_found = []\n",
    "for files in tqdm(coded_files.File_id):\n",
    "    # Reading time \n",
    "    time_enter = coded_files[coded_files.File_id==files][\"time_of_entering\"]\n",
    "    time_leave = coded_files[coded_files.File_id==files][\"time_of_exiting\"]\n",
    "\n",
    "    # Reading files\n",
    "    try:\n",
    "        current_vehicle_data = pd.read_csv(files_lookup[str(files)])\n",
    "    except:\n",
    "        not_found.append(files)\n",
    "        continue\n",
    "    coded_files[\"crashStatus\"][coded_files.File_id==files] = getCrashStatus(files)\n",
    "    coded_files[\"age\"][coded_files.File_id==files] = get_age(files)\n",
    "    \n",
    "    preIncedent, maneuver, precipiting = getEventUpdate(int(files))\n",
    "    \n",
    "    coded_files['preIncidentManeuver'][coded_files.File_id==files] = preIncedent\n",
    "    coded_files['maneuverJudgment'][coded_files.File_id==files] = maneuver\n",
    "    coded_files['precipitatingEvent'][coded_files.File_id==files] = precipiting\n",
    "    # Will update only if the time is not nan or other faulty file\n",
    "    if not (time_enter.isnull().values[0]) and (files != 16990196) and (files != 16990196):\n",
    "        # Converting the time to int\n",
    "        \n",
    "        time_enter = int(time_enter.values[0])\n",
    "        time_leave = int(time_leave.values[0])\n",
    "        \n",
    "        # Average and std in the intersection\n",
    "        average_curr_vech_data = current_vehicle_data[(current_vehicle_data['vtti.timestamp'] >= time_enter) & (current_vehicle_data['vtti.timestamp'] <= time_leave)].mean()\n",
    "        std_curr_vech_data = current_vehicle_data[(current_vehicle_data['vtti.timestamp'] >= time_enter) & (current_vehicle_data['vtti.timestamp'] <= time_leave)].std()\n",
    "        \n",
    "        # Max of speed and acceleration\n",
    "        max_curr_vech_data = current_vehicle_data[(current_vehicle_data['vtti.timestamp'] >= time_enter) & (current_vehicle_data['vtti.timestamp'] <= time_leave)].max()\n",
    "        \n",
    "        coded_files[\"Avg_Acceleration\"][coded_files.File_id==files] = abs(average_curr_vech_data[\"vtti.accel_x\"])\n",
    "        coded_files[\"std_Acceleration\"][coded_files.File_id==files] = abs(std_curr_vech_data[\"vtti.accel_x\"])\n",
    "        coded_files[\"Avg_speed\"][coded_files.File_id==files] = average_curr_vech_data[\"vtti.speed_network\"]\n",
    "        coded_files[\"std_speed\"][coded_files.File_id==files] = std_curr_vech_data[\"vtti.speed_network\"]\n",
    "\n",
    "        coded_files[\"max_speed\"][coded_files.File_id==files] =  max_curr_vech_data[\"vtti.speed_network\"]\n",
    "        coded_files[\"max_acceleration\"][coded_files.File_id==files] =  max_curr_vech_data[\"vtti.accel_x\"]\n",
    "        \n",
    "        # Average and std 6 second before the intersection and all the way to the end\n",
    "        larger_average_curr_vech_data = current_vehicle_data[(current_vehicle_data['vtti.timestamp'] >=(time_enter - 6000)) & (current_vehicle_data['vtti.timestamp'] <= time_leave)].mean()\n",
    "        larger_std_curr_vech_data = current_vehicle_data[(current_vehicle_data['vtti.timestamp'] >=(time_enter - 6000)) & (current_vehicle_data['vtti.timestamp'] <= time_leave)].std()\n",
    "        \n",
    "        coded_files[\"6_Avg_Acceleration\"][coded_files.File_id==files] = abs(larger_average_curr_vech_data[\"vtti.accel_x\"])\n",
    "        coded_files[\"6_std_Acceleration\"][coded_files.File_id==files] = abs(larger_std_curr_vech_data[\"vtti.accel_x\"])\n",
    "        coded_files[\"6_Avg_speed\"][coded_files.File_id==files] = larger_average_curr_vech_data[\"vtti.speed_network\"]\n",
    "        coded_files[\"6_std_speed\"][coded_files.File_id==files] = larger_std_curr_vech_data[\"vtti.speed_network\"]\n",
    "        \n",
    "        "
   ]
  },
  {
   "cell_type": "code",
   "execution_count": null,
   "metadata": {},
   "outputs": [],
   "source": [
    "not_found"
   ]
  },
  {
   "cell_type": "code",
   "execution_count": null,
   "metadata": {
    "scrolled": false
   },
   "outputs": [],
   "source": [
    "coded_files.columns"
   ]
  },
  {
   "cell_type": "code",
   "execution_count": null,
   "metadata": {},
   "outputs": [],
   "source": [
    "leftTurn = coded_files[coded_files.vehicle_movement==2]"
   ]
  },
  {
   "cell_type": "code",
   "execution_count": null,
   "metadata": {
    "scrolled": true
   },
   "outputs": [],
   "source": [
    "leftTurn.shape"
   ]
  },
  {
   "cell_type": "code",
   "execution_count": null,
   "metadata": {},
   "outputs": [],
   "source": [
    "leftTurn.to_excel(\"leftturn.xlsx\")"
   ]
  },
  {
   "cell_type": "code",
   "execution_count": 5,
   "metadata": {},
   "outputs": [],
   "source": [
    "leftTurn = pd.read_excel(\"leftturn.xlsx\")"
   ]
  },
  {
   "cell_type": "code",
   "execution_count": 6,
   "metadata": {
    "scrolled": false
   },
   "outputs": [
    {
     "data": {
      "text/html": [
       "<div>\n",
       "<style scoped>\n",
       "    .dataframe tbody tr th:only-of-type {\n",
       "        vertical-align: middle;\n",
       "    }\n",
       "\n",
       "    .dataframe tbody tr th {\n",
       "        vertical-align: top;\n",
       "    }\n",
       "\n",
       "    .dataframe thead th {\n",
       "        text-align: right;\n",
       "    }\n",
       "</style>\n",
       "<table border=\"1\" class=\"dataframe\">\n",
       "  <thead>\n",
       "    <tr style=\"text-align: right;\">\n",
       "      <th></th>\n",
       "      <th>File_id</th>\n",
       "      <th>Time_day</th>\n",
       "      <th>weather_conditions</th>\n",
       "      <th>intersection_type</th>\n",
       "      <th>Dedicated_turn</th>\n",
       "      <th>Wait_at_intersection</th>\n",
       "      <th>signalized_intersect</th>\n",
       "      <th>opposing_lanes</th>\n",
       "      <th>vehicle_movement</th>\n",
       "      <th>Signal_obscured</th>\n",
       "      <th>...</th>\n",
       "      <th>max_acceleration</th>\n",
       "      <th>6_Avg_Acceleration</th>\n",
       "      <th>6_std_Acceleration</th>\n",
       "      <th>6_Avg_speed</th>\n",
       "      <th>6_std_speed</th>\n",
       "      <th>age</th>\n",
       "      <th>crashStatus</th>\n",
       "      <th>preIncidentManeuver</th>\n",
       "      <th>maneuverJudgment</th>\n",
       "      <th>precipitatingEvent</th>\n",
       "    </tr>\n",
       "  </thead>\n",
       "  <tbody>\n",
       "    <tr>\n",
       "      <th>8</th>\n",
       "      <td>61469021</td>\n",
       "      <td>2</td>\n",
       "      <td>1.0</td>\n",
       "      <td>1.0</td>\n",
       "      <td>2.0</td>\n",
       "      <td>2</td>\n",
       "      <td>2</td>\n",
       "      <td>1</td>\n",
       "      <td>2</td>\n",
       "      <td>1.0</td>\n",
       "      <td>...</td>\n",
       "      <td>0.1595</td>\n",
       "      <td>0.100008</td>\n",
       "      <td>0.057583</td>\n",
       "      <td>15.769231</td>\n",
       "      <td>9.137813</td>\n",
       "      <td>34</td>\n",
       "      <td>Near-Crash</td>\n",
       "      <td>Negotiating a curve</td>\n",
       "      <td>Safe and legal</td>\n",
       "      <td>Other vehicle entering intersection - left tur...</td>\n",
       "    </tr>\n",
       "    <tr>\n",
       "      <th>9</th>\n",
       "      <td>61724116</td>\n",
       "      <td>2</td>\n",
       "      <td>1.0</td>\n",
       "      <td>2.0</td>\n",
       "      <td>2.0</td>\n",
       "      <td>1</td>\n",
       "      <td>2</td>\n",
       "      <td>2</td>\n",
       "      <td>2</td>\n",
       "      <td>1.0</td>\n",
       "      <td>...</td>\n",
       "      <td>0.0812</td>\n",
       "      <td>0.014693</td>\n",
       "      <td>0.053582</td>\n",
       "      <td>39.936923</td>\n",
       "      <td>1.570693</td>\n",
       "      <td>44</td>\n",
       "      <td>Balanced-Sample Baseline</td>\n",
       "      <td>Decelerating in traffic lane</td>\n",
       "      <td>Safe and legal</td>\n",
       "      <td>(null)</td>\n",
       "    </tr>\n",
       "    <tr>\n",
       "      <th>10</th>\n",
       "      <td>61823600</td>\n",
       "      <td>2</td>\n",
       "      <td>2.0</td>\n",
       "      <td>2.0</td>\n",
       "      <td>1.0</td>\n",
       "      <td>2</td>\n",
       "      <td>2</td>\n",
       "      <td>2</td>\n",
       "      <td>2</td>\n",
       "      <td>1.0</td>\n",
       "      <td>...</td>\n",
       "      <td>0.1537</td>\n",
       "      <td>0.012607</td>\n",
       "      <td>0.079653</td>\n",
       "      <td>10.952515</td>\n",
       "      <td>7.927092</td>\n",
       "      <td>34</td>\n",
       "      <td>Near-Crash</td>\n",
       "      <td>Turning left</td>\n",
       "      <td>Unsafe but legal</td>\n",
       "      <td>This vehicle lost control - excessive speed</td>\n",
       "    </tr>\n",
       "    <tr>\n",
       "      <th>15</th>\n",
       "      <td>62537802</td>\n",
       "      <td>2</td>\n",
       "      <td>1.0</td>\n",
       "      <td>1.0</td>\n",
       "      <td>1.0</td>\n",
       "      <td>1</td>\n",
       "      <td>2</td>\n",
       "      <td>2</td>\n",
       "      <td>2</td>\n",
       "      <td>1.0</td>\n",
       "      <td>...</td>\n",
       "      <td>-0.0087</td>\n",
       "      <td>0.089578</td>\n",
       "      <td>0.055144</td>\n",
       "      <td>37.314615</td>\n",
       "      <td>9.842376</td>\n",
       "      <td>79</td>\n",
       "      <td>Balanced-Sample Baseline</td>\n",
       "      <td>Turning right</td>\n",
       "      <td>Safe and legal</td>\n",
       "      <td>(null)</td>\n",
       "    </tr>\n",
       "    <tr>\n",
       "      <th>16</th>\n",
       "      <td>62572754</td>\n",
       "      <td>2</td>\n",
       "      <td>1.0</td>\n",
       "      <td>2.0</td>\n",
       "      <td>2.0</td>\n",
       "      <td>2</td>\n",
       "      <td>2</td>\n",
       "      <td>2</td>\n",
       "      <td>2</td>\n",
       "      <td>1.0</td>\n",
       "      <td>...</td>\n",
       "      <td>0.2668</td>\n",
       "      <td>0.054206</td>\n",
       "      <td>0.080610</td>\n",
       "      <td>10.640001</td>\n",
       "      <td>11.261587</td>\n",
       "      <td>84</td>\n",
       "      <td>Balanced-Sample Baseline</td>\n",
       "      <td>Decelerating in traffic lane</td>\n",
       "      <td>Safe and legal</td>\n",
       "      <td>(null)</td>\n",
       "    </tr>\n",
       "  </tbody>\n",
       "</table>\n",
       "<p>5 rows × 35 columns</p>\n",
       "</div>"
      ],
      "text/plain": [
       "     File_id  Time_day  weather_conditions  intersection_type  Dedicated_turn  \\\n",
       "8   61469021         2                 1.0                1.0             2.0   \n",
       "9   61724116         2                 1.0                2.0             2.0   \n",
       "10  61823600         2                 2.0                2.0             1.0   \n",
       "15  62537802         2                 1.0                1.0             1.0   \n",
       "16  62572754         2                 1.0                2.0             2.0   \n",
       "\n",
       "    Wait_at_intersection  signalized_intersect  opposing_lanes  \\\n",
       "8                      2                     2               1   \n",
       "9                      1                     2               2   \n",
       "10                     2                     2               2   \n",
       "15                     1                     2               2   \n",
       "16                     2                     2               2   \n",
       "\n",
       "    vehicle_movement  Signal_obscured  \\\n",
       "8                  2              1.0   \n",
       "9                  2              1.0   \n",
       "10                 2              1.0   \n",
       "15                 2              1.0   \n",
       "16                 2              1.0   \n",
       "\n",
       "                          ...                          max_acceleration  \\\n",
       "8                         ...                                    0.1595   \n",
       "9                         ...                                    0.0812   \n",
       "10                        ...                                    0.1537   \n",
       "15                        ...                                   -0.0087   \n",
       "16                        ...                                    0.2668   \n",
       "\n",
       "    6_Avg_Acceleration  6_std_Acceleration  6_Avg_speed  6_std_speed  age  \\\n",
       "8             0.100008            0.057583    15.769231     9.137813   34   \n",
       "9             0.014693            0.053582    39.936923     1.570693   44   \n",
       "10            0.012607            0.079653    10.952515     7.927092   34   \n",
       "15            0.089578            0.055144    37.314615     9.842376   79   \n",
       "16            0.054206            0.080610    10.640001    11.261587   84   \n",
       "\n",
       "                 crashStatus           preIncidentManeuver  maneuverJudgment  \\\n",
       "8                 Near-Crash           Negotiating a curve    Safe and legal   \n",
       "9   Balanced-Sample Baseline  Decelerating in traffic lane    Safe and legal   \n",
       "10                Near-Crash                  Turning left  Unsafe but legal   \n",
       "15  Balanced-Sample Baseline                 Turning right    Safe and legal   \n",
       "16  Balanced-Sample Baseline  Decelerating in traffic lane    Safe and legal   \n",
       "\n",
       "                                   precipitatingEvent  \n",
       "8   Other vehicle entering intersection - left tur...  \n",
       "9                                              (null)  \n",
       "10        This vehicle lost control - excessive speed  \n",
       "15                                             (null)  \n",
       "16                                             (null)  \n",
       "\n",
       "[5 rows x 35 columns]"
      ]
     },
     "execution_count": 6,
     "metadata": {},
     "output_type": "execute_result"
    }
   ],
   "source": [
    "leftTurn.head(5)"
   ]
  },
  {
   "cell_type": "code",
   "execution_count": 53,
   "metadata": {},
   "outputs": [],
   "source": [
    "data = leftTurn.drop([\"File_id\",\"time_of_entering\",\"time_of_exiting\",\"precipitatingEvent\",\"preIncidentManeuver\", \"crash\", \"maneuverJudgment\", \"incomplete_video\", \"vehicle_movement\", 'intersection_type'], axis = 1)"
   ]
  },
  {
   "cell_type": "code",
   "execution_count": 54,
   "metadata": {},
   "outputs": [
    {
     "data": {
      "text/plain": [
       "Index(['Time_day', 'weather_conditions', 'Dedicated_turn',\n",
       "       'Wait_at_intersection', 'signalized_intersect', 'opposing_lanes',\n",
       "       'Signal_obscured', 'signal_state', 'turn_signal', 'turn_phase',\n",
       "       'traffic_obscured', 'gap_decision', 'lead_vehicle', 'Avg_Acceleration',\n",
       "       'std_Acceleration', 'Avg_speed', 'std_speed', 'max_speed',\n",
       "       'max_acceleration', '6_Avg_Acceleration', '6_std_Acceleration',\n",
       "       '6_Avg_speed', '6_std_speed', 'age', 'crashStatus'],\n",
       "      dtype='object')"
      ]
     },
     "execution_count": 54,
     "metadata": {},
     "output_type": "execute_result"
    }
   ],
   "source": [
    "data.columns"
   ]
  },
  {
   "cell_type": "markdown",
   "metadata": {},
   "source": [
    "#  "
   ]
  },
  {
   "cell_type": "markdown",
   "metadata": {},
   "source": [
    "# Helper Function to fit to the classifier, print training and validation accuracy, precision, recall, f1 Score, Confusion Matrix."
   ]
  },
  {
   "cell_type": "markdown",
   "metadata": {},
   "source": [
    "#  "
   ]
  },
  {
   "cell_type": "code",
   "execution_count": 55,
   "metadata": {},
   "outputs": [
    {
     "name": "stdout",
     "output_type": "stream",
     "text": [
      "Number of crashs events:  140.0\n",
      "Class Balance with Crash and no Crash:  0.509090909091\n"
     ]
    }
   ],
   "source": [
    "y = data[\"crashStatus\"]\n",
    "data = data.drop( 'crashStatus', axis=1)\n",
    "y[y==\"Balanced-Sample Baseline\"] = False\n",
    "y[y != False] = True\n",
    "y  = np.asarray(y,dtype=np.float64)\n",
    "filledData = data.where(pd.notna(data), data.mean(), axis='columns')\n",
    "filledData = (filledData - filledData.mean())/filledData.std()\n",
    "print(\"Number of crashs events: \", sum(y))\n",
    "print(\"Class Balance with Crash and no Crash: \", sum(y)/len(y))\n",
    "# from sklearn.feature_selection import SelectKBest,f_classif\n",
    "# selector = SelectKBest(f_classif, k=10).fit(filledData,y)\n",
    "# featurefilledData = selector.transform(filledData)\n",
    "X_train, X_test, y_train, y_test = train_test_split(filledData, y, train_size=0.7)"
   ]
  },
  {
   "cell_type": "code",
   "execution_count": 10,
   "metadata": {},
   "outputs": [],
   "source": [
    "def plot_confusion_matrix(cm, classes,\n",
    "                          normalize=False,\n",
    "                          title='Confusion matrix',\n",
    "                          cmap=plt.cm.Blues):\n",
    "    \"\"\"\n",
    "    This function prints and plots the confusion matrix.\n",
    "    Normalization can be applied by setting `normalize=True`.\n",
    "    \"\"\"\n",
    "    if normalize:\n",
    "        cm = cm.astype('float') / cm.sum(axis=1)[:, np.newaxis]\n",
    "        print(\"Normalized confusion matrix\")\n",
    "    else:\n",
    "        print('Confusion matrix, without normalization')\n",
    "\n",
    "    print(cm)\n",
    "\n",
    "    plt.imshow(cm, interpolation='nearest', cmap=cmap)\n",
    "    plt.title(title)\n",
    "    plt.colorbar()\n",
    "    tick_marks = np.arange(len(classes))\n",
    "    plt.xticks(tick_marks, classes, rotation=45)\n",
    "    plt.yticks(tick_marks, classes)\n",
    "\n",
    "    fmt = '.2f' if normalize else 'd'\n",
    "    thresh = cm.max() / 2.\n",
    "    for i, j in itertools.product(range(cm.shape[0]), range(cm.shape[1])):\n",
    "        plt.text(j, i, format(cm[i, j], fmt),\n",
    "                 horizontalalignment=\"center\",\n",
    "                 color=\"white\" if cm[i, j] > thresh else \"black\")\n",
    "\n",
    "    plt.tight_layout()\n",
    "    plt.ylabel('True label')\n",
    "    plt.xlabel('Predicted label')\n",
    "\n",
    "    \n",
    "\n",
    "\n",
    "def Classifier_performance(clf, target_names, y, filledData=filledData, X_train=X_train, X_test=X_test, y_train=y_train, y_test=y_test, title=\"Prediction confusion matrix\"):\n",
    "    clf.fit(X_train, y_train)\n",
    "    y_pred = clf.predict(X_test)\n",
    "    Y_train_pred = clf.predict(X_train)\n",
    "    print(\"Training Accuracy Score: \", accuracy_score(Y_train_pred , y_train))\n",
    "    print(\"validation Accuracy Score:\", accuracy_score(y_pred, y_test))\n",
    "    print(\"Classification Report: \")\n",
    "    print(classification_report(y_test, y_pred, target_names=target_names))\n",
    "    cm = confusion_matrix(y_test, y_pred)\n",
    "    # Plot normalized confusion matrix\n",
    "    #plt.figure()\n",
    "    plot_confusion_matrix(cm, classes=target_names, normalize=False,\n",
    "                          title=title)\n",
    "\n",
    "    plt.show()\n",
    "    plt.close()\n",
    "    \n",
    "    pca = PCA(n_components=2)\n",
    "    filledData_lower = pca.fit_transform(filledData)\n",
    "    y = pd.Series(y)\n",
    "    filledData_lower = pd.DataFrame(filledData_lower)\n",
    "    filledData_lower['labels'] = y.values\n",
    "    X = filledData_lower\n",
    "    y = filledData_lower[\"labels\"]\n",
    "    y  = np.asarray(y,dtype=np.float64)\n",
    "    crash = filledData_lower[filledData_lower[\"labels\"] == 1]\n",
    "    no_crash = filledData_lower[filledData_lower[\"labels\"] == 0]\n",
    "    plt.plot(crash[0], crash[1], \"*\", label=target_names[0])\n",
    "    plt.plot(no_crash[0], no_crash[1], \"o\", label=target_names[1])\n",
    "    plt.legend()\n",
    "    plt.show()\n",
    "    plt.close()"
   ]
  },
  {
   "cell_type": "markdown",
   "metadata": {},
   "source": [
    "# Predicting Crash risk of all the drivers using oridinary least square penality considering crash and near crash as one entry."
   ]
  },
  {
   "cell_type": "code",
   "execution_count": 11,
   "metadata": {},
   "outputs": [],
   "source": [
    "clf = LogisticRegression(max_iter=1000, penalty='l1')"
   ]
  },
  {
   "cell_type": "code",
   "execution_count": 12,
   "metadata": {
    "scrolled": false
   },
   "outputs": [
    {
     "name": "stdout",
     "output_type": "stream",
     "text": [
      "Training Accuracy Score:  0.744791666667\n",
      "validation Accuracy Score: 0.746987951807\n",
      "Classification Report: \n",
      "             precision    recall  f1-score   support\n",
      "\n",
      "   No_crash       0.77      0.78      0.77        46\n",
      "      Crash       0.72      0.70      0.71        37\n",
      "\n",
      "avg / total       0.75      0.75      0.75        83\n",
      "\n",
      "Confusion matrix, without normalization\n",
      "[[36 10]\n",
      " [11 26]]\n"
     ]
    },
    {
     "data": {
      "image/png": "[encoded data removed]",
      "text/plain": [
       "<Figure size 432x288 with 2 Axes>"
      ]
     },
     "metadata": {},
     "output_type": "display_data"
    },
    {
     "data": {
      "image/png": "[encoded data removed]",
      "text/plain": [
       "<Figure size 432x288 with 1 Axes>"
      ]
     },
     "metadata": {},
     "output_type": "display_data"
    }
   ],
   "source": [
    "Classifier_performance(clf, [\"No_crash\", \"Crash\"], y, filledData=filledData, X_train=X_train, X_test=X_test, y_train=y_train, y_test=y_test )"
   ]
  },
  {
   "cell_type": "code",
   "execution_count": 13,
   "metadata": {
    "scrolled": false
   },
   "outputs": [
    {
     "name": "stdout",
     "output_type": "stream",
     "text": [
      "                            OLS Regression Results                            \n",
      "==============================================================================\n",
      "Dep. Variable:                      y   R-squared:                       0.142\n",
      "Model:                            OLS   Adj. R-squared:                  0.060\n",
      "Method:                 Least Squares   F-statistic:                     1.725\n",
      "Date:                Sat, 23 Jun 2018   Prob (F-statistic):             0.0215\n",
      "Time:                        12:46:10   Log-Likelihood:                -276.38\n",
      "No. Observations:                 275   AIC:                             600.8\n",
      "Df Residuals:                     251   BIC:                             687.6\n",
      "Df Model:                          24                                         \n",
      "Covariance Type:            nonrobust                                         \n",
      "========================================================================================\n",
      "                           coef    std err          t      P>|t|      [0.025      0.975]\n",
      "----------------------------------------------------------------------------------------\n",
      "Time_day                -0.0531      0.043     -1.229      0.220      -0.138       0.032\n",
      "weather_conditions       0.0360      0.044      0.818      0.414      -0.051       0.123\n",
      "Dedicated_turn          -0.0254      0.048     -0.531      0.596      -0.120       0.069\n",
      "Wait_at_intersection     0.0030      0.067      0.045      0.964      -0.129       0.135\n",
      "signalized_intersect     0.0026      0.055      0.048      0.962      -0.105       0.110\n",
      "opposing_lanes           0.0522      0.049      1.066      0.287      -0.044       0.149\n",
      "Signal_obscured          0.0374      0.044      0.856      0.393      -0.049       0.123\n",
      "signal_state             0.0423      0.052      0.806      0.421      -0.061       0.146\n",
      "turn_signal             -0.0165      0.054     -0.306      0.760      -0.123       0.090\n",
      "turn_phase               0.0687      0.062      1.106      0.270      -0.054       0.191\n",
      "traffic_obscured        -0.0254      0.045     -0.569      0.570      -0.113       0.062\n",
      "gap_decision             0.0474      0.055      0.856      0.393      -0.062       0.156\n",
      "lead_vehicle             0.0740      0.048      1.554      0.121      -0.020       0.168\n",
      "Avg_Acceleration        -0.0199      0.058     -0.342      0.733      -0.135       0.095\n",
      "std_Acceleration         0.1666      0.091      1.839      0.067      -0.012       0.345\n",
      "Avg_speed               -0.1099      0.148     -0.744      0.458      -0.401       0.181\n",
      "std_speed               -0.0993      0.101     -0.985      0.325      -0.298       0.099\n",
      "max_speed                0.1335      0.148      0.901      0.368      -0.158       0.425\n",
      "max_acceleration         0.0185      0.064      0.288      0.774      -0.108       0.145\n",
      "6_Avg_Acceleration       0.0206      0.064      0.324      0.746      -0.105       0.146\n",
      "6_std_Acceleration       0.0676      0.091      0.741      0.459      -0.112       0.247\n",
      "6_Avg_speed             -0.0202      0.097     -0.209      0.835      -0.211       0.170\n",
      "6_std_speed             -0.0201      0.070     -0.288      0.774      -0.158       0.118\n",
      "age                      0.0322      0.045      0.718      0.473      -0.056       0.120\n",
      "==============================================================================\n",
      "Omnibus:                      203.504   Durbin-Watson:                   0.878\n",
      "Prob(Omnibus):                  0.000   Jarque-Bera (JB):               22.851\n",
      "Skew:                           0.330   Prob(JB):                     1.09e-05\n",
      "Kurtosis:                       1.751   Cond. No.                         9.89\n",
      "==============================================================================\n",
      "\n",
      "Warnings:\n",
      "[1] Standard Errors assume that the covariance matrix of the errors is correctly specified.\n"
     ]
    }
   ],
   "source": [
    "import statsmodels.api as sm\n",
    "from scipy import stats\n",
    "est = sm.OLS(y, filledData.astype(float))\n",
    "est2 = est.fit()\n",
    "print(est2.summary())"
   ]
  },
  {
   "cell_type": "markdown",
   "metadata": {},
   "source": [
    "#  "
   ]
  },
  {
   "cell_type": "markdown",
   "metadata": {},
   "source": [
    "# Predicting Crash risk for including just crash and baseline condition. (Near crash not considered) using the vehicle profile from both young and old driver.\n"
   ]
  },
  {
   "cell_type": "code",
   "execution_count": 43,
   "metadata": {},
   "outputs": [
    {
     "name": "stdout",
     "output_type": "stream",
     "text": [
      "Number of crashs events:  35.0\n",
      "Class Balance with Crash and Baseline Condition:  0.205882352941\n"
     ]
    }
   ],
   "source": [
    "leftTurn = pd.read_excel(\"leftturn.xlsx\")\n",
    "\n",
    "# removing the near crash files.\n",
    "leftTurn = leftTurn[leftTurn[\"crashStatus\"] != 'Near-Crash'] \n",
    "\n",
    "data = leftTurn.drop([\"File_id\",\"time_of_entering\",\"time_of_exiting\",\"precipitatingEvent\",\n",
    "                      \"preIncidentManeuver\", \"crash\", \"maneuverJudgment\", \"incomplete_video\", \n",
    "                      \"vehicle_movement\", 'intersection_type'], axis = 1)\n",
    "\n",
    "# baselines = data[data[\"crashStatus\"]==\"Balanced-Sample Baseline\"][:60]\n",
    "# crash = data[data[\"crashStatus\"]==\"Crash\"]\n",
    "# data = pd.concat([baselines, crash])\n",
    "\n",
    "y = data[\"crashStatus\"]\n",
    "data = data.drop( 'crashStatus', axis=1)\n",
    "y[y==\"Balanced-Sample Baseline\"] = False\n",
    "y[y != False] = True\n",
    "y  = np.asarray(y,dtype=np.float64)\n",
    "filledData = data.where(pd.notna(data), data.mean(), axis='columns')\n",
    "filledData = (filledData - filledData.mean())/filledData.std()\n",
    "print(\"Number of crashs events: \", sum(y))\n",
    "print(\"Class Balance with Crash and Baseline Condition: \", sum(y)/len(y))\n",
    "# from sklearn.feature_selection import SelectKBest,f_classif\n",
    "# selector = SelectKBest(f_classif, k=10).fit(filledData,y)\n",
    "# featurefilledData = selector.transform(filledData)\n",
    "X_train, X_test, y_train, y_test = train_test_split(filledData, y, train_size=0.7)"
   ]
  },
  {
   "cell_type": "code",
   "execution_count": 44,
   "metadata": {},
   "outputs": [],
   "source": [
    "clf = LogisticRegression(max_iter=100, penalty='l1')"
   ]
  },
  {
   "cell_type": "code",
   "execution_count": 45,
   "metadata": {},
   "outputs": [
    {
     "name": "stdout",
     "output_type": "stream",
     "text": [
      "Training Accuracy Score:  0.838983050847\n",
      "validation Accuracy Score: 0.884615384615\n",
      "Classification Report: \n",
      "             precision    recall  f1-score   support\n",
      "\n",
      "   No_crash       0.91      0.95      0.93        42\n",
      "      Crash       0.75      0.60      0.67        10\n",
      "\n",
      "avg / total       0.88      0.88      0.88        52\n",
      "\n",
      "Confusion matrix, without normalization\n",
      "[[40  2]\n",
      " [ 4  6]]\n"
     ]
    },
    {
     "data": {
      "image/png": "[encoded data removed]",
      "text/plain": [
       "<Figure size 432x288 with 2 Axes>"
      ]
     },
     "metadata": {},
     "output_type": "display_data"
    },
    {
     "data": {
      "image/png": "[encoded data removed]",
      "text/plain": [
       "<Figure size 432x288 with 1 Axes>"
      ]
     },
     "metadata": {},
     "output_type": "display_data"
    }
   ],
   "source": [
    "Classifier_performance(clf, [\"No_crash\", \"Crash\"], y, filledData=filledData, X_train=X_train, X_test=X_test, y_train=y_train, y_test=y_test )"
   ]
  },
  {
   "cell_type": "markdown",
   "metadata": {},
   "source": [
    "#  "
   ]
  },
  {
   "cell_type": "code",
   "execution_count": 17,
   "metadata": {},
   "outputs": [
    {
     "name": "stdout",
     "output_type": "stream",
     "text": [
      "                            OLS Regression Results                            \n",
      "==============================================================================\n",
      "Dep. Variable:                      y   R-squared:                       0.288\n",
      "Model:                            OLS   Adj. R-squared:                  0.171\n",
      "Method:                 Least Squares   F-statistic:                     2.461\n",
      "Date:                Sat, 23 Jun 2018   Prob (F-statistic):           0.000549\n",
      "Time:                        12:46:23   Log-Likelihood:                -78.010\n",
      "No. Observations:                 170   AIC:                             204.0\n",
      "Df Residuals:                     146   BIC:                             279.3\n",
      "Df Model:                          24                                         \n",
      "Covariance Type:            nonrobust                                         \n",
      "========================================================================================\n",
      "                           coef    std err          t      P>|t|      [0.025      0.975]\n",
      "----------------------------------------------------------------------------------------\n",
      "Time_day                -0.0797      0.033     -2.409      0.017      -0.145      -0.014\n",
      "weather_conditions       0.0738      0.034      2.162      0.032       0.006       0.141\n",
      "Dedicated_turn          -0.0105      0.039     -0.271      0.787      -0.087       0.066\n",
      "Wait_at_intersection    -0.0280      0.053     -0.526      0.599      -0.133       0.077\n",
      "signalized_intersect    -0.0072      0.046     -0.157      0.875      -0.098       0.084\n",
      "opposing_lanes           0.0773      0.040      1.950      0.053      -0.001       0.156\n",
      "Signal_obscured         -0.0420      0.034     -1.228      0.221      -0.110       0.026\n",
      "signal_state             0.0598      0.042      1.413      0.160      -0.024       0.143\n",
      "turn_signal             -0.0624      0.042     -1.474      0.143      -0.146       0.021\n",
      "turn_phase               0.0697      0.052      1.349      0.179      -0.032       0.172\n",
      "traffic_obscured        -0.0384      0.034     -1.134      0.259      -0.105       0.029\n",
      "gap_decision             0.0335      0.044      0.767      0.445      -0.053       0.120\n",
      "lead_vehicle             0.0179      0.037      0.490      0.625      -0.054       0.090\n",
      "Avg_Acceleration        -0.0171      0.051     -0.338      0.736      -0.117       0.083\n",
      "std_Acceleration         0.1739      0.063      2.781      0.006       0.050       0.298\n",
      "Avg_speed               -0.0220      0.116     -0.190      0.850      -0.251       0.207\n",
      "std_speed               -0.0680      0.080     -0.845      0.399      -0.227       0.091\n",
      "max_speed                0.0729      0.114      0.637      0.525      -0.153       0.299\n",
      "max_acceleration         0.0467      0.047      0.989      0.324      -0.047       0.140\n",
      "6_Avg_Acceleration       0.0098      0.054      0.182      0.856      -0.096       0.116\n",
      "6_std_Acceleration       0.0228      0.066      0.348      0.729      -0.107       0.152\n",
      "6_Avg_speed             -0.0494      0.079     -0.624      0.534      -0.206       0.107\n",
      "6_std_speed             -0.0445      0.058     -0.761      0.448      -0.160       0.071\n",
      "age                      0.0335      0.036      0.935      0.351      -0.037       0.104\n",
      "==============================================================================\n",
      "Omnibus:                       33.675   Durbin-Watson:                   1.624\n",
      "Prob(Omnibus):                  0.000   Jarque-Bera (JB):               46.542\n",
      "Skew:                           1.176   Prob(JB):                     7.82e-11\n",
      "Kurtosis:                       4.017   Cond. No.                         10.1\n",
      "==============================================================================\n",
      "\n",
      "Warnings:\n",
      "[1] Standard Errors assume that the covariance matrix of the errors is correctly specified.\n"
     ]
    }
   ],
   "source": [
    "import statsmodels.api as sm\n",
    "from scipy import stats\n",
    "est = sm.OLS(y, filledData.astype(float))\n",
    "est2 = est.fit()\n",
    "print(est2.summary())"
   ]
  },
  {
   "cell_type": "markdown",
   "metadata": {},
   "source": [
    "#  "
   ]
  },
  {
   "cell_type": "markdown",
   "metadata": {},
   "source": [
    "# Predicting if the driver is young or old from their driving data all 275 data used"
   ]
  },
  {
   "cell_type": "code",
   "execution_count": 19,
   "metadata": {},
   "outputs": [],
   "source": [
    "# leftTurn = pd.read_excel(\"leftturn.xlsx\")\n",
    "data = leftTurn.drop([\"File_id\",\"time_of_entering\",\"time_of_exiting\",\"precipitatingEvent\",\n",
    "                      \"preIncidentManeuver\", \"crash\", \"maneuverJudgment\", \"incomplete_video\", \n",
    "                      \"vehicle_movement\", 'intersection_type', \"crashStatus\"], axis = 1)\n",
    "\n",
    "filledData = data.where(pd.notna(data), data.mean(), axis='columns')\n",
    "filledData = (filledData - filledData.mean())/filledData.std()\n",
    "y = leftTurn[\"age\"]\n",
    "y[y >= 65] = True\n",
    "y[y != True] = False\n",
    "y  = np.asarray(y,dtype=np.float64)"
   ]
  },
  {
   "cell_type": "code",
   "execution_count": 20,
   "metadata": {},
   "outputs": [],
   "source": [
    "filledData = filledData.drop([\"age\"], axis =1)"
   ]
  },
  {
   "cell_type": "code",
   "execution_count": 21,
   "metadata": {},
   "outputs": [
    {
     "name": "stdout",
     "output_type": "stream",
     "text": [
      "Number of old drivers:  105.0\n",
      "Class Balance with old drivers and young driver:  0.617647058824\n"
     ]
    }
   ],
   "source": [
    "print(\"Number of old drivers: \", sum(y))\n",
    "print(\"Class Balance with old drivers and young driver: \", sum(y)/len(y))"
   ]
  },
  {
   "cell_type": "code",
   "execution_count": 22,
   "metadata": {},
   "outputs": [],
   "source": [
    "# from sklearn.feature_selection import SelectKBest,f_classif\n",
    "# selector = SelectKBest(f_classif, k=\"all\").fit(filledData,y)\n",
    "# featurefilledData = selector.transform(filledData)\n",
    "#featurefilledData.shape"
   ]
  },
  {
   "cell_type": "code",
   "execution_count": 23,
   "metadata": {},
   "outputs": [],
   "source": [
    "X_train, X_test, y_train, y_test = train_test_split(filledData, y, train_size=0.7)"
   ]
  },
  {
   "cell_type": "code",
   "execution_count": 24,
   "metadata": {},
   "outputs": [],
   "source": [
    "clf = LogisticRegression(max_iter=1000, penalty='l1')"
   ]
  },
  {
   "cell_type": "code",
   "execution_count": 25,
   "metadata": {},
   "outputs": [
    {
     "name": "stdout",
     "output_type": "stream",
     "text": [
      "Training Accuracy Score:  0.728813559322\n",
      "validation Accuracy Score: 0.596153846154\n",
      "Classification Report: \n",
      "             precision    recall  f1-score   support\n",
      "\n",
      "      Young       0.67      0.17      0.28        23\n",
      "        Old       0.59      0.93      0.72        29\n",
      "\n",
      "avg / total       0.62      0.60      0.52        52\n",
      "\n",
      "Confusion matrix, without normalization\n",
      "[[ 4 19]\n",
      " [ 2 27]]\n"
     ]
    },
    {
     "data": {
      "image/png": "[encoded data removed]",
      "text/plain": [
       "<Figure size 432x288 with 2 Axes>"
      ]
     },
     "metadata": {},
     "output_type": "display_data"
    },
    {
     "data": {
      "image/png": "[encoded data removed]",
      "text/plain": [
       "<Figure size 432x288 with 1 Axes>"
      ]
     },
     "metadata": {},
     "output_type": "display_data"
    }
   ],
   "source": [
    "Classifier_performance(clf, [\"Young\", \"Old\"], y, filledData=filledData, X_train=X_train, X_test=X_test, y_train=y_train, y_test=y_test )"
   ]
  },
  {
   "cell_type": "code",
   "execution_count": 26,
   "metadata": {
    "scrolled": false
   },
   "outputs": [
    {
     "name": "stdout",
     "output_type": "stream",
     "text": [
      "                            OLS Regression Results                            \n",
      "==============================================================================\n",
      "Dep. Variable:                      y   R-squared:                       0.077\n",
      "Model:                            OLS   Adj. R-squared:                 -0.068\n",
      "Method:                 Least Squares   F-statistic:                    0.5319\n",
      "Date:                Sat, 23 Jun 2018   Prob (F-statistic):              0.961\n",
      "Time:                        12:47:02   Log-Likelihood:                -193.47\n",
      "No. Observations:                 170   AIC:                             432.9\n",
      "Df Residuals:                     147   BIC:                             505.1\n",
      "Df Model:                          23                                         \n",
      "Covariance Type:            nonrobust                                         \n",
      "========================================================================================\n",
      "                           coef    std err          t      P>|t|      [0.025      0.975]\n",
      "----------------------------------------------------------------------------------------\n",
      "Time_day                -0.0320      0.065     -0.492      0.623      -0.160       0.096\n",
      "weather_conditions      -0.0310      0.067     -0.462      0.645      -0.163       0.101\n",
      "Dedicated_turn          -0.0459      0.076     -0.606      0.545      -0.195       0.104\n",
      "Wait_at_intersection    -0.0036      0.104     -0.035      0.972      -0.210       0.203\n",
      "signalized_intersect     0.0440      0.090      0.487      0.627      -0.135       0.223\n",
      "opposing_lanes          -0.0279      0.078     -0.358      0.721      -0.182       0.126\n",
      "Signal_obscured         -0.0395      0.067     -0.590      0.556      -0.172       0.093\n",
      "signal_state             0.0014      0.083      0.017      0.986      -0.163       0.166\n",
      "turn_signal              0.0272      0.083      0.327      0.744      -0.137       0.192\n",
      "turn_phase              -0.0189      0.101     -0.186      0.853      -0.219       0.182\n",
      "traffic_obscured         0.0340      0.066      0.512      0.609      -0.097       0.165\n",
      "gap_decision             0.0778      0.084      0.922      0.358      -0.089       0.245\n",
      "lead_vehicle            -0.0775      0.071     -1.097      0.275      -0.217       0.062\n",
      "Avg_Acceleration         0.0187      0.100      0.188      0.851      -0.178       0.215\n",
      "std_Acceleration         0.1204      0.122      0.989      0.324      -0.120       0.361\n",
      "Avg_speed                0.5021      0.214      2.346      0.020       0.079       0.925\n",
      "std_speed                0.1324      0.156      0.847      0.398      -0.177       0.441\n",
      "max_speed               -0.4670      0.212     -2.201      0.029      -0.886      -0.048\n",
      "max_acceleration         0.0822      0.092      0.892      0.374      -0.100       0.264\n",
      "6_Avg_Acceleration       0.0147      0.105      0.140      0.889      -0.193       0.223\n",
      "6_std_Acceleration      -0.0890      0.128     -0.695      0.488      -0.342       0.164\n",
      "6_Avg_speed             -0.0977      0.155     -0.629      0.530      -0.405       0.209\n",
      "6_std_speed             -0.0340      0.115     -0.296      0.768      -0.261       0.193\n",
      "==============================================================================\n",
      "Omnibus:                       93.310   Durbin-Watson:                   0.580\n",
      "Prob(Omnibus):                  0.000   Jarque-Bera (JB):               14.218\n",
      "Skew:                          -0.346   Prob(JB):                     0.000818\n",
      "Kurtosis:                       1.763   Cond. No.                         9.48\n",
      "==============================================================================\n",
      "\n",
      "Warnings:\n",
      "[1] Standard Errors assume that the covariance matrix of the errors is correctly specified.\n"
     ]
    }
   ],
   "source": [
    "import statsmodels.api as sm\n",
    "from scipy import stats\n",
    "est = sm.OLS(y, filledData.astype(float))\n",
    "est2 = est.fit()\n",
    "print(est2.summary())"
   ]
  },
  {
   "cell_type": "markdown",
   "metadata": {},
   "source": [
    "#  "
   ]
  },
  {
   "cell_type": "markdown",
   "metadata": {},
   "source": [
    "#  Model to predict old driver at risk of crash or not"
   ]
  },
  {
   "cell_type": "code",
   "execution_count": 70,
   "metadata": {
    "scrolled": true
   },
   "outputs": [
    {
     "name": "stdout",
     "output_type": "stream",
     "text": [
      "Number of crashs events:  23.0\n",
      "Class Balance with Crash and Baseline Condition:  0.433962264151\n"
     ]
    }
   ],
   "source": [
    "leftTurn = pd.read_excel(\"leftturn.xlsx\")\n",
    "\n",
    "old_crash = leftTurn[(leftTurn[\"age\"]>=65) & ((leftTurn[\"crashStatus\"]==\"Crash\"))]\n",
    "old_baseline = leftTurn[(leftTurn[\"age\"]>=65) & (leftTurn[\"crashStatus\"]==\"Balanced-Sample Baseline\")][:30]\n",
    "leftTurn = pd.concat([old_crash, old_baseline])\n",
    "data = leftTurn.drop([\"File_id\",\"time_of_entering\",\"time_of_exiting\",\"precipitatingEvent\",\n",
    "                      \"preIncidentManeuver\", \"crash\", \"maneuverJudgment\", \"incomplete_video\", \n",
    "                      \"vehicle_movement\", 'intersection_type'], axis = 1)\n",
    "\n",
    "y = data[\"crashStatus\"]\n",
    "data = data.drop( 'crashStatus', axis=1)\n",
    "y[y==\"Balanced-Sample Baseline\"] = False\n",
    "y[y != False] = True\n",
    "y  = np.asarray(y,dtype=np.float64)\n",
    "filledData = data.where(pd.notna(data), data.mean(), axis='columns')\n",
    "filledData = (filledData - filledData.mean())/(filledData.std()+1e-4)\n",
    "print(\"Number of crashs events: \", sum(y))\n",
    "print(\"Class Balance with Crash and Baseline Condition: \", sum(y)/len(y))\n",
    "# from sklearn.feature_selection import SelectKBest,f_classif\n",
    "# selector = SelectKBest(f_classif, k=10).fit(filledData,y)\n",
    "# featurefilledData = selector.transform(filledData)\n",
    "X_train, X_test, y_train, y_test = train_test_split(filledData, y, train_size=0.7)"
   ]
  },
  {
   "cell_type": "code",
   "execution_count": 71,
   "metadata": {
    "scrolled": false
   },
   "outputs": [
    {
     "name": "stdout",
     "output_type": "stream",
     "text": [
      "Training Accuracy Score:  0.864864864865\n",
      "validation Accuracy Score: 0.625\n",
      "Classification Report: \n",
      "                        precision    recall  f1-score   support\n",
      "\n",
      "Old driver not at risk       0.73      0.73      0.73        11\n",
      "   Old drivers at risk       0.40      0.40      0.40         5\n",
      "\n",
      "           avg / total       0.62      0.62      0.62        16\n",
      "\n",
      "Confusion matrix, without normalization\n",
      "[[8 3]\n",
      " [3 2]]\n"
     ]
    },
    {
     "data": {
      "image/png": "[encoded data removed]",
      "text/plain": [
       "<Figure size 432x288 with 2 Axes>"
      ]
     },
     "metadata": {},
     "output_type": "display_data"
    },
    {
     "data": {
      "image/png": "[encoded data removed]",
      "text/plain": [
       "<Figure size 432x288 with 1 Axes>"
      ]
     },
     "metadata": {},
     "output_type": "display_data"
    }
   ],
   "source": [
    "clf = LogisticRegression(max_iter=100, penalty='l1')\n",
    "Classifier_performance(clf, [\"Old driver not at risk\", \"Old drivers at risk\"], y, filledData=filledData, X_train=X_train, X_test=X_test, y_train=y_train, y_test=y_test )"
   ]
  },
  {
   "cell_type": "code",
   "execution_count": 72,
   "metadata": {},
   "outputs": [
    {
     "name": "stdout",
     "output_type": "stream",
     "text": [
      "                            OLS Regression Results                            \n",
      "==============================================================================\n",
      "Dep. Variable:                      y   R-squared:                       0.298\n",
      "Model:                            OLS   Adj. R-squared:                 -0.200\n",
      "Method:                 Least Squares   F-statistic:                    0.5993\n",
      "Date:                Sat, 23 Jun 2018   Prob (F-statistic):              0.892\n",
      "Time:                        13:07:31   Log-Likelihood:                -43.691\n",
      "No. Observations:                  53   AIC:                             131.4\n",
      "Df Residuals:                      31   BIC:                             174.7\n",
      "Df Model:                          22                                         \n",
      "Covariance Type:            nonrobust                                         \n",
      "========================================================================================\n",
      "                           coef    std err          t      P>|t|      [0.025      0.975]\n",
      "----------------------------------------------------------------------------------------\n",
      "Time_day                -0.1675      0.121     -1.388      0.175      -0.414       0.079\n",
      "weather_conditions       0.0595      0.114      0.523      0.605      -0.172       0.292\n",
      "Dedicated_turn          -0.1321      0.183     -0.722      0.476      -0.506       0.241\n",
      "Wait_at_intersection    -0.0110      0.241     -0.046      0.964      -0.503       0.481\n",
      "signalized_intersect  1.377e-05      0.150   9.17e-05      1.000      -0.306       0.306\n",
      "opposing_lanes           0.1185      0.160      0.741      0.465      -0.208       0.445\n",
      "Signal_obscured      -3.203e-17   1.05e-16     -0.306      0.762   -2.46e-16    1.82e-16\n",
      "signal_state             0.2499      0.163      1.531      0.136      -0.083       0.583\n",
      "turn_signal             -0.1012      0.163     -0.621      0.539      -0.434       0.231\n",
      "turn_phase               0.2363      0.258      0.917      0.366      -0.289       0.762\n",
      "traffic_obscured      2.404e-16    5.8e-16      0.414      0.681   -9.43e-16    1.42e-15\n",
      "gap_decision             0.1387      0.193      0.720      0.477      -0.254       0.532\n",
      "lead_vehicle            -0.0481      0.136     -0.355      0.725      -0.325       0.229\n",
      "Avg_Acceleration         0.0074      0.192      0.038      0.970      -0.385       0.399\n",
      "std_Acceleration         0.0177      0.302      0.059      0.954      -0.598       0.633\n",
      "Avg_speed               -0.1602      0.446     -0.359      0.722      -1.070       0.750\n",
      "std_speed               -0.2067      0.236     -0.877      0.387      -0.687       0.274\n",
      "max_speed                0.3425      0.442      0.775      0.444      -0.559       1.245\n",
      "max_acceleration         0.0548      0.167      0.329      0.744      -0.285       0.395\n",
      "6_Avg_Acceleration       0.1239      0.196      0.632      0.532      -0.276       0.524\n",
      "6_std_Acceleration       0.2362      0.346      0.683      0.500      -0.469       0.942\n",
      "6_Avg_speed             -0.1047      0.305     -0.343      0.734      -0.727       0.517\n",
      "6_std_speed             -0.0937      0.185     -0.507      0.616      -0.471       0.283\n",
      "age                      0.1028      0.159      0.645      0.524      -0.222       0.428\n",
      "==============================================================================\n",
      "Omnibus:                        0.154   Durbin-Watson:                   0.404\n",
      "Prob(Omnibus):                  0.926   Jarque-Bera (JB):                0.144\n",
      "Skew:                           0.108   Prob(JB):                        0.930\n",
      "Kurtosis:                       2.863   Cond. No.                     2.59e+17\n",
      "==============================================================================\n",
      "\n",
      "Warnings:\n",
      "[1] Standard Errors assume that the covariance matrix of the errors is correctly specified.\n",
      "[2] The smallest eigenvalue is 3.03e-33. This might indicate that there are\n",
      "strong multicollinearity problems or that the design matrix is singular.\n"
     ]
    }
   ],
   "source": [
    "est = sm.OLS(y, filledData.astype(float))\n",
    "est2 = est.fit()\n",
    "print(est2.summary())"
   ]
  },
  {
   "cell_type": "markdown",
   "metadata": {},
   "source": [
    "#  "
   ]
  },
  {
   "cell_type": "markdown",
   "metadata": {},
   "source": [
    "#  Young drivers at the crash risk or not "
   ]
  },
  {
   "cell_type": "code",
   "execution_count": 75,
   "metadata": {},
   "outputs": [
    {
     "name": "stdout",
     "output_type": "stream",
     "text": [
      "Number of crashs events:  10.0\n",
      "Class Balance with Crash and Baseline Condition:  0.333333333333\n"
     ]
    }
   ],
   "source": [
    "leftTurn = pd.read_excel(\"leftturn.xlsx\")\n",
    "\n",
    "young_crash = leftTurn[(leftTurn[\"age\"]<=65) & ((leftTurn[\"crashStatus\"]==\"Crash\"))]\n",
    "young_baseline = leftTurn[(leftTurn[\"age\"]<=65) & (leftTurn[\"crashStatus\"]==\"Balanced-Sample Baseline\")][:20]\n",
    "leftTurn = pd.concat([young_crash, young_baseline])\n",
    "data = leftTurn.drop([\"File_id\",\"time_of_entering\",\"time_of_exiting\",\"precipitatingEvent\",\n",
    "                      \"preIncidentManeuver\", \"crash\", \"maneuverJudgment\", \"incomplete_video\", \n",
    "                      \"vehicle_movement\", 'intersection_type'], axis = 1)\n",
    "\n",
    "y = data[\"crashStatus\"]\n",
    "data = data.drop( 'crashStatus', axis=1)\n",
    "y[y==\"Balanced-Sample Baseline\"] = False\n",
    "y[y != False] = True\n",
    "y  = np.asarray(y,dtype=np.float64)\n",
    "filledData = data.where(pd.notna(data), data.mean(), axis='columns')\n",
    "filledData = (filledData - filledData.mean())/(filledData.std()+1e-8)\n",
    "print(\"Number of crashs events: \", sum(y))\n",
    "print(\"Class Balance with Crash and Baseline Condition: \", sum(y)/len(y))\n",
    "# from sklearn.feature_selection import SelectKBest,f_classif\n",
    "# selector = SelectKBest(f_classif, k=10).fit(filledData,y)\n",
    "# featurefilledData = selector.transform(filledData)\n",
    "X_train, X_test, y_train, y_test = train_test_split(filledData, y, train_size=0.7)"
   ]
  },
  {
   "cell_type": "code",
   "execution_count": 76,
   "metadata": {},
   "outputs": [
    {
     "name": "stdout",
     "output_type": "stream",
     "text": [
      "Training Accuracy Score:  1.0\n",
      "validation Accuracy Score: 0.666666666667\n",
      "Classification Report: \n",
      "                        precision    recall  f1-score   support\n",
      "\n",
      "Old driver not at risk       0.83      0.71      0.77         7\n",
      "   Old drivers at risk       0.33      0.50      0.40         2\n",
      "\n",
      "           avg / total       0.72      0.67      0.69         9\n",
      "\n",
      "Confusion matrix, without normalization\n",
      "[[5 2]\n",
      " [1 1]]\n"
     ]
    },
    {
     "data": {
      "image/png": "[encoded data removed]",
      "text/plain": [
       "<Figure size 432x288 with 2 Axes>"
      ]
     },
     "metadata": {},
     "output_type": "display_data"
    },
    {
     "data": {
      "image/png": "[encoded data removed]",
      "text/plain": [
       "<Figure size 432x288 with 1 Axes>"
      ]
     },
     "metadata": {},
     "output_type": "display_data"
    }
   ],
   "source": [
    "clf = LogisticRegression(max_iter=100, penalty='l1')\n",
    "Classifier_performance(clf, [\"Old driver not at risk\", \"Old drivers at risk\"], y, filledData=filledData, X_train=X_train, X_test=X_test, y_train=y_train, y_test=y_test )"
   ]
  },
  {
   "cell_type": "code",
   "execution_count": 74,
   "metadata": {},
   "outputs": [
    {
     "name": "stdout",
     "output_type": "stream",
     "text": [
      "                            OLS Regression Results                            \n",
      "==============================================================================\n",
      "Dep. Variable:                      y   R-squared:                       0.815\n",
      "Model:                            OLS   Adj. R-squared:                  0.104\n",
      "Method:                 Least Squares   F-statistic:                     1.147\n",
      "Date:                Thu, 24 May 2018   Prob (F-statistic):              0.470\n",
      "Time:                        21:53:03   Log-Likelihood:                 5.2761\n",
      "No. Observations:                  30   AIC:                             37.45\n",
      "Df Residuals:                       6   BIC:                             71.08\n",
      "Df Model:                          23                                         \n",
      "Covariance Type:            nonrobust                                         \n",
      "========================================================================================\n",
      "                           coef    std err          t      P>|t|      [0.025      0.975]\n",
      "----------------------------------------------------------------------------------------\n",
      "Time_day                -0.5623      0.305     -1.846      0.114      -1.308       0.183\n",
      "weather_conditions       0.6995      0.428      1.636      0.153      -0.347       1.746\n",
      "Dedicated_turn          -0.3020      0.500     -0.604      0.568      -1.525       0.921\n",
      "Wait_at_intersection    -0.3925      0.507     -0.775      0.468      -1.632       0.847\n",
      "signalized_intersect    -1.9024      1.192     -1.595      0.162      -4.820       1.016\n",
      "opposing_lanes           0.2351      0.509      0.462      0.660      -1.010       1.480\n",
      "Signal_obscured         -0.8235      0.933     -0.882      0.412      -3.107       1.461\n",
      "signal_state             1.2137      0.791      1.534      0.176      -0.723       3.150\n",
      "turn_signal              0.0175      0.190      0.092      0.930      -0.448       0.484\n",
      "turn_phase               0.0500      0.396      0.126      0.904      -0.918       1.018\n",
      "traffic_obscured         4.2053      4.463      0.942      0.382      -6.715      15.125\n",
      "gap_decision            -0.1165      0.808     -0.144      0.890      -2.093       1.860\n",
      "lead_vehicle             0.1449      0.298      0.487      0.644      -0.584       0.874\n",
      "Avg_Acceleration        -0.8192      6.224     -0.132      0.900     -16.048      14.410\n",
      "std_Acceleration         7.1415      8.107      0.881      0.412     -12.696      26.979\n",
      "Avg_speed               -0.0446      0.068     -0.653      0.538      -0.212       0.122\n",
      "std_speed               -0.1947      0.166     -1.172      0.286      -0.601       0.212\n",
      "max_speed                0.0442      0.069      0.643      0.544      -0.124       0.213\n",
      "max_acceleration         3.9529      2.344      1.687      0.143      -1.781       9.687\n",
      "6_Avg_Acceleration      -0.6159      5.587     -0.110      0.916     -14.287      13.055\n",
      "6_std_Acceleration     -10.2033      9.250     -1.103      0.312     -32.837      12.430\n",
      "6_Avg_speed             -0.0066      0.025     -0.267      0.798      -0.067       0.054\n",
      "6_std_speed              0.0671      0.054      1.238      0.262      -0.066       0.200\n",
      "age                     -0.0274      0.037     -0.743      0.486      -0.117       0.063\n",
      "==============================================================================\n",
      "Omnibus:                        1.252   Durbin-Watson:                   1.820\n",
      "Prob(Omnibus):                  0.535   Jarque-Bera (JB):                1.108\n",
      "Skew:                          -0.438   Prob(JB):                        0.575\n",
      "Kurtosis:                       2.654   Cond. No.                     9.07e+03\n",
      "==============================================================================\n",
      "\n",
      "Warnings:\n",
      "[1] Standard Errors assume that the covariance matrix of the errors is correctly specified.\n",
      "[2] The condition number is large, 9.07e+03. This might indicate that there are\n",
      "strong multicollinearity or other numerical problems.\n"
     ]
    }
   ],
   "source": [
    "est = sm.OLS(y, filledData.astype(float))\n",
    "est2 = est.fit()\n",
    "print(est2.summary())"
   ]
  },
  {
   "cell_type": "markdown",
   "metadata": {},
   "source": [
    "#  "
   ]
  }
 ],
 "metadata": {
  "kernelspec": {
   "display_name": "Python 3",
   "language": "python",
   "name": "python3"
  },
  "language_info": {
   "codemirror_mode": {
    "name": "ipython",
    "version": 3
   },
   "file_extension": ".py",
   "mimetype": "text/x-python",
   "name": "python",
   "nbconvert_exporter": "python",
   "pygments_lexer": "ipython3",
   "version": "3.6.3"
  }
 },
 "nbformat": 4,
 "nbformat_minor": 2
}
