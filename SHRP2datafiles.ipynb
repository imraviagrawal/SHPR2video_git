{
 "cells": [
  {
   "cell_type": "code",
   "execution_count": 1,
   "metadata": {},
   "outputs": [],
   "source": [
    "# import\n",
    "import pandas as pd\n",
    "import numpy as np\n",
    "import glob\n",
    "import warnings\n",
    "warnings.filterwarnings('ignore')\n",
    "#import matplotlib.pyplot as plt\n",
    "import itertools\n",
    "import numpy as np\n",
    "\n",
    "import seaborn as sns\n",
    "import matplotlib.pyplot as plt\n",
    "# Machine Learning libraries.\n",
    "from sklearn import preprocessing\n",
    "from sklearn.linear_model import LogisticRegression\n",
    "from sklearn.model_selection import train_test_split\n",
    "from sklearn.metrics import accuracy_score\n",
    "from sklearn.metrics import confusion_matrix\n",
    "from sklearn.metrics import precision_recall_fscore_support\n",
    "from sklearn.metrics import classification_report\n",
    "from sklearn.decomposition import PCA\n"
   ]
  },
  {
   "cell_type": "code",
   "execution_count": 2,
   "metadata": {},
   "outputs": [
    {
     "name": "stdout",
     "output_type": "stream",
     "text": [
      "example\n"
     ]
    },
    {
     "data": {
      "text/plain": [
       "'./csv/File_ID_819087_Index_33564154.csv'"
      ]
     },
     "execution_count": 2,
     "metadata": {},
     "output_type": "execute_result"
    }
   ],
   "source": [
    "# Helper function to locate full path of file with file_id\n",
    "files_lookup = {}\n",
    "for files in glob.glob(\"./csv/*.csv\"):\n",
    "    files_lookup[files.split(\"_\")[2]] = files\n",
    "print(\"example\")\n",
    "files_lookup[\"819087\"]"
   ]
  },
  {
   "cell_type": "code",
   "execution_count": 3,
   "metadata": {},
   "outputs": [],
   "source": [
    "#Files to be loaded\n",
    "driverDemo =  pd.read_excel(\"InSight Tables_Keys/DriverDemographic.xlsx\")\n",
    "tripsum =  pd.read_excel(\"InSight Tables_Keys/TripSummaryMeasures.xlsx\")\n",
    "event =  pd.read_excel(\"InSight Tables_Keys/eventDetails.xlsx\")\n",
    "eventUpdate = pd.read_excel(\"InSight Tables_Keys/eventDetailsUpdate.xlsx\")\n",
    "event.head()\n",
    "\n",
    "\n",
    "def getCrashStatus(ids):\n",
    "    crash_status = event[event.displayTripId==ids].eventSeverity1.values[0]\n",
    "    return crash_status\n"
   ]
  },
  {
   "cell_type": "code",
   "execution_count": 4,
   "metadata": {
    "scrolled": true
   },
   "outputs": [
    {
     "name": "stdout",
     "output_type": "stream",
     "text": [
      "Near Crash:  296\n",
      "Crash:  81\n"
     ]
    }
   ],
   "source": [
    "print(\"Near Crash: \", len(event[event.eventSeverity1 == \"Near-Crash\"]))\n",
    "print(\"Crash: \", len(event[event.eventSeverity1 == \"Crash\"]))"
   ]
  },
  {
   "cell_type": "code",
   "execution_count": 5,
   "metadata": {},
   "outputs": [
    {
     "name": "stdout",
     "output_type": "stream",
     "text": [
      "Age of the person is:  49\n"
     ]
    }
   ],
   "source": [
    "def get_age(id):\n",
    "    # Function to print the age of person\n",
    "    a = tripsum[tripsum[\"displayTripID\"] == id]['anonymousParticipantID']\n",
    "    a_string = driverDemo[driverDemo[\"anonymousParticipantID\"] == a.values[0]].ageGroup.values[0]\n",
    "    a_string = a_string.split(\"-\")\n",
    "    return int(max(a_string))\n",
    "print(\"Age of the person is: \", get_age(14767568))"
   ]
  },
  {
   "cell_type": "code",
   "execution_count": 6,
   "metadata": {},
   "outputs": [
    {
     "name": "stdout",
     "output_type": "stream",
     "text": [
      "('Starting in traffic lane', 'Safe and legal', 'Other vehicle ahead - slowed and stopped 2 seconds or less')\n"
     ]
    }
   ],
   "source": [
    "def getEventUpdate(tripid):\n",
    "    preIncedent = eventUpdate[eventUpdate.displayTripId == tripid]['preIncidentManeuver'].values[0]\n",
    "    maneuver  = eventUpdate[eventUpdate.displayTripId == tripid]['maneuverJudgment'].values[0]\n",
    "    precipiting = eventUpdate[eventUpdate.displayTripId == tripid]['precipitatingEvent'].values[0]\n",
    "    return preIncedent, maneuver, precipiting\n",
    "\n",
    "# Examples\n",
    "print(getEventUpdate(4952738))"
   ]
  },
  {
   "cell_type": "code",
   "execution_count": 7,
   "metadata": {},
   "outputs": [],
   "source": [
    "coded_files = pd.read_excel(\"SHRP2 Data Recording_File_download_from_Qualtric_May4_2018.xlsx\", header = 0)\n",
    "\n",
    "#Droping the unneccessary columns\n",
    "coded_files = coded_files.drop(['StartDate', 'EndDate', 'Status', 'IPAddress', 'Progress',\n",
    "       'Duration (in seconds)', 'Finished', 'RecordedDate', 'ResponseId',\n",
    "       'RecipientLastName', 'RecipientFirstName', 'RecipientEmail',\n",
    "       'ExternalReference', 'LocationLatitude', 'LocationLongitude',\n",
    "       'DistributionChannel', 'UserLanguage', 'Scorer', 'Scorer - Topics',  'comment'], axis = 1)\n"
   ]
  },
  {
   "cell_type": "code",
   "execution_count": 8,
   "metadata": {},
   "outputs": [
    {
     "name": "stdout",
     "output_type": "stream",
     "text": [
      "871\n"
     ]
    }
   ],
   "source": [
    "print(coded_files.shape[0])\n",
    "# Removing the initial test values\n",
    "coded_files = coded_files[8:]\n"
   ]
  },
  {
   "cell_type": "code",
   "execution_count": 9,
   "metadata": {},
   "outputs": [
    {
     "name": "stdout",
     "output_type": "stream",
     "text": [
      "Number of crashes:  (15, 20)\n"
     ]
    },
    {
     "data": {
      "text/plain": [
       "(733, 20)"
      ]
     },
     "execution_count": 9,
     "metadata": {},
     "output_type": "execute_result"
    }
   ],
   "source": [
    "\n",
    "# printing the number of crashes\n",
    "print(\"Number of crashes: \",coded_files[coded_files.crash == 2].shape)\n",
    "\n",
    "# Not Selecting incomplete videos\n",
    "coded_files = coded_files[(coded_files[\"incomplete_video\"] != 2)]\n",
    "coded_files.shape"
   ]
  },
  {
   "cell_type": "code",
   "execution_count": 23,
   "metadata": {},
   "outputs": [],
   "source": [
    "# Few new column added\n",
    "coded_files[\"Avg_Acceleration\"]  = None\n",
    "coded_files[\"std_Acceleration\"]  = None\n",
    "coded_files[\"Avg_speed\"]  = None\n",
    "coded_files[\"std_speed\"]  = None\n",
    "coded_files[\"max_speed\"] = None\n",
    "coded_files[\"max_acceleration\"] = None\n",
    "\n",
    "\n",
    "coded_files[\"6_Avg_Acceleration\"]  = None\n",
    "coded_files[\"6_std_Acceleration\"]  = None\n",
    "coded_files[\"6_Avg_speed\"]  = None\n",
    "coded_files[\"6_std_speed\"]  = None\n",
    "\n",
    "coded_files[\"age\"] = None\n",
    "\n",
    "coded_files[\"crashStatus\"] = None\n",
    "\n",
    "# addding data from eventDetailsupdate\n",
    "coded_files['preIncidentManeuver'] = None\n",
    "coded_files['maneuverJudgment'] = None\n",
    "coded_files['precipitatingEvent'] = None\n",
    "\n",
    "#coded_files[\"gender\"] = None"
   ]
  },
  {
   "cell_type": "code",
   "execution_count": 24,
   "metadata": {
    "scrolled": true
   },
   "outputs": [
    {
     "name": "stderr",
     "output_type": "stream",
     "text": [
      "100%|██████████| 733/733 [00:37<00:00, 19.44it/s]\n"
     ]
    }
   ],
   "source": [
    "from tqdm import tqdm\n",
    "not_found = []\n",
    "for files in tqdm(coded_files.File_id):\n",
    "    # Reading time \n",
    "    time_enter = coded_files[coded_files.File_id==files][\"time_of_entering\"]\n",
    "    time_leave = coded_files[coded_files.File_id==files][\"time_of_exiting\"]\n",
    "\n",
    "    # Reading files\n",
    "    try:\n",
    "        current_vehicle_data = pd.read_csv(files_lookup[str(files)])\n",
    "    except:\n",
    "        not_found.append(files)\n",
    "        continue\n",
    "    coded_files[\"crashStatus\"][coded_files.File_id==files] = getCrashStatus(files)\n",
    "    coded_files[\"age\"][coded_files.File_id==files] = get_age(files)\n",
    "    \n",
    "    preIncedent, maneuver, precipiting = getEventUpdate(int(files))\n",
    "    \n",
    "    coded_files['preIncidentManeuver'][coded_files.File_id==files] = preIncedent\n",
    "    coded_files['maneuverJudgment'][coded_files.File_id==files] = maneuver\n",
    "    coded_files['precipitatingEvent'][coded_files.File_id==files] = precipiting\n",
    "    # Will update only if the time is not nan or other faulty file\n",
    "    if not (time_enter.isnull().values[0]) and (files != 16990196) and (files != 16990196):\n",
    "        # Converting the time to int\n",
    "        \n",
    "        time_enter = int(time_enter.values[0])\n",
    "        time_leave = int(time_leave.values[0])\n",
    "        \n",
    "        # Average and std in the intersection\n",
    "        average_curr_vech_data = current_vehicle_data[(current_vehicle_data['vtti.timestamp'] >= time_enter) & (current_vehicle_data['vtti.timestamp'] <= time_leave)].mean()\n",
    "        std_curr_vech_data = current_vehicle_data[(current_vehicle_data['vtti.timestamp'] >= time_enter) & (current_vehicle_data['vtti.timestamp'] <= time_leave)].std()\n",
    "        \n",
    "        # Max of speed and acceleration\n",
    "        max_curr_vech_data = current_vehicle_data[(current_vehicle_data['vtti.timestamp'] >= time_enter) & (current_vehicle_data['vtti.timestamp'] <= time_leave)].max()\n",
    "        \n",
    "        coded_files[\"Avg_Acceleration\"][coded_files.File_id==files] = abs(average_curr_vech_data[\"vtti.accel_x\"])\n",
    "        coded_files[\"std_Acceleration\"][coded_files.File_id==files] = abs(std_curr_vech_data[\"vtti.accel_x\"])\n",
    "        coded_files[\"Avg_speed\"][coded_files.File_id==files] = average_curr_vech_data[\"vtti.speed_network\"]\n",
    "        coded_files[\"std_speed\"][coded_files.File_id==files] = std_curr_vech_data[\"vtti.speed_network\"]\n",
    "\n",
    "        coded_files[\"max_speed\"][coded_files.File_id==files] =  max_curr_vech_data[\"vtti.speed_network\"]\n",
    "        coded_files[\"max_acceleration\"][coded_files.File_id==files] =  max_curr_vech_data[\"vtti.accel_x\"]\n",
    "        \n",
    "        # Average and std 6 second before the intersection and all the way to the end\n",
    "        larger_average_curr_vech_data = current_vehicle_data[(current_vehicle_data['vtti.timestamp'] >=(time_enter - 6000)) & (current_vehicle_data['vtti.timestamp'] <= time_leave)].mean()\n",
    "        larger_std_curr_vech_data = current_vehicle_data[(current_vehicle_data['vtti.timestamp'] >=(time_enter - 6000)) & (current_vehicle_data['vtti.timestamp'] <= time_leave)].std()\n",
    "        \n",
    "        coded_files[\"6_Avg_Acceleration\"][coded_files.File_id==files] = abs(larger_average_curr_vech_data[\"vtti.accel_x\"])\n",
    "        coded_files[\"6_std_Acceleration\"][coded_files.File_id==files] = abs(larger_std_curr_vech_data[\"vtti.accel_x\"])\n",
    "        coded_files[\"6_Avg_speed\"][coded_files.File_id==files] = larger_average_curr_vech_data[\"vtti.speed_network\"]\n",
    "        coded_files[\"6_std_speed\"][coded_files.File_id==files] = larger_std_curr_vech_data[\"vtti.speed_network\"]\n",
    "        \n",
    "        "
   ]
  },
  {
   "cell_type": "code",
   "execution_count": 25,
   "metadata": {},
   "outputs": [
    {
     "data": {
      "text/plain": [
       "[]"
      ]
     },
     "execution_count": 25,
     "metadata": {},
     "output_type": "execute_result"
    }
   ],
   "source": [
    "not_found"
   ]
  },
  {
   "cell_type": "code",
   "execution_count": 26,
   "metadata": {
    "scrolled": false
   },
   "outputs": [
    {
     "data": {
      "text/plain": [
       "Index(['File_id', 'Time_day', 'weather_conditions', 'intersection_type',\n",
       "       'Dedicated_turn', 'Wait_at_intersection', 'signalized_intersect',\n",
       "       'opposing_lanes', 'vehicle_movement', 'Signal_obscured', 'signal_state',\n",
       "       'turn_signal', 'turn_phase', 'traffic_obscured', 'time_of_entering',\n",
       "       'gap_decision', 'time_of_exiting', 'lead_vehicle', 'crash',\n",
       "       'incomplete_video', 'Avg_Acceleration', 'std_Acceleration', 'Avg_speed',\n",
       "       'std_speed', 'max_speed', 'max_acceleration', '6_Avg_Acceleration',\n",
       "       '6_std_Acceleration', '6_Avg_speed', '6_std_speed', 'age',\n",
       "       'crashStatus', 'preIncidentManeuver', 'maneuverJudgment',\n",
       "       'precipitatingEvent'],\n",
       "      dtype='object')"
      ]
     },
     "execution_count": 26,
     "metadata": {},
     "output_type": "execute_result"
    }
   ],
   "source": [
    "coded_files.columns"
   ]
  },
  {
   "cell_type": "code",
   "execution_count": 27,
   "metadata": {},
   "outputs": [],
   "source": [
    "leftTurn = coded_files[coded_files.vehicle_movement==2]"
   ]
  },
  {
   "cell_type": "code",
   "execution_count": 28,
   "metadata": {
    "scrolled": true
   },
   "outputs": [
    {
     "data": {
      "text/plain": [
       "(275, 35)"
      ]
     },
     "execution_count": 28,
     "metadata": {},
     "output_type": "execute_result"
    }
   ],
   "source": [
    "leftTurn.shape"
   ]
  },
  {
   "cell_type": "code",
   "execution_count": 29,
   "metadata": {},
   "outputs": [],
   "source": [
    "leftTurn.to_excel(\"leftturn.xlsx\")"
   ]
  },
  {
   "cell_type": "code",
   "execution_count": 41,
   "metadata": {},
   "outputs": [],
   "source": [
    "leftTurn = pd.read_excel(\"leftturn.xlsx\")"
   ]
  },
  {
   "cell_type": "code",
   "execution_count": 42,
   "metadata": {
    "scrolled": false
   },
   "outputs": [
    {
     "data": {
      "text/html": [
       "<div>\n",
       "<style scoped>\n",
       "    .dataframe tbody tr th:only-of-type {\n",
       "        vertical-align: middle;\n",
       "    }\n",
       "\n",
       "    .dataframe tbody tr th {\n",
       "        vertical-align: top;\n",
       "    }\n",
       "\n",
       "    .dataframe thead th {\n",
       "        text-align: right;\n",
       "    }\n",
       "</style>\n",
       "<table border=\"1\" class=\"dataframe\">\n",
       "  <thead>\n",
       "    <tr style=\"text-align: right;\">\n",
       "      <th></th>\n",
       "      <th>File_id</th>\n",
       "      <th>Time_day</th>\n",
       "      <th>weather_conditions</th>\n",
       "      <th>intersection_type</th>\n",
       "      <th>Dedicated_turn</th>\n",
       "      <th>Wait_at_intersection</th>\n",
       "      <th>signalized_intersect</th>\n",
       "      <th>opposing_lanes</th>\n",
       "      <th>vehicle_movement</th>\n",
       "      <th>Signal_obscured</th>\n",
       "      <th>...</th>\n",
       "      <th>max_acceleration</th>\n",
       "      <th>6_Avg_Acceleration</th>\n",
       "      <th>6_std_Acceleration</th>\n",
       "      <th>6_Avg_speed</th>\n",
       "      <th>6_std_speed</th>\n",
       "      <th>age</th>\n",
       "      <th>crashStatus</th>\n",
       "      <th>preIncidentManeuver</th>\n",
       "      <th>maneuverJudgment</th>\n",
       "      <th>precipitatingEvent</th>\n",
       "    </tr>\n",
       "  </thead>\n",
       "  <tbody>\n",
       "    <tr>\n",
       "      <th>8</th>\n",
       "      <td>61469021</td>\n",
       "      <td>2</td>\n",
       "      <td>1.0</td>\n",
       "      <td>1.0</td>\n",
       "      <td>2.0</td>\n",
       "      <td>2</td>\n",
       "      <td>2</td>\n",
       "      <td>1</td>\n",
       "      <td>2</td>\n",
       "      <td>1.0</td>\n",
       "      <td>...</td>\n",
       "      <td>0.1595</td>\n",
       "      <td>0.100008</td>\n",
       "      <td>0.057583</td>\n",
       "      <td>15.769231</td>\n",
       "      <td>9.137813</td>\n",
       "      <td>34</td>\n",
       "      <td>Near-Crash</td>\n",
       "      <td>Negotiating a curve</td>\n",
       "      <td>Safe and legal</td>\n",
       "      <td>Other vehicle entering intersection - left tur...</td>\n",
       "    </tr>\n",
       "    <tr>\n",
       "      <th>9</th>\n",
       "      <td>61724116</td>\n",
       "      <td>2</td>\n",
       "      <td>1.0</td>\n",
       "      <td>2.0</td>\n",
       "      <td>2.0</td>\n",
       "      <td>1</td>\n",
       "      <td>2</td>\n",
       "      <td>2</td>\n",
       "      <td>2</td>\n",
       "      <td>1.0</td>\n",
       "      <td>...</td>\n",
       "      <td>0.0812</td>\n",
       "      <td>0.014693</td>\n",
       "      <td>0.053582</td>\n",
       "      <td>39.936923</td>\n",
       "      <td>1.570693</td>\n",
       "      <td>44</td>\n",
       "      <td>Balanced-Sample Baseline</td>\n",
       "      <td>Decelerating in traffic lane</td>\n",
       "      <td>Safe and legal</td>\n",
       "      <td>(null)</td>\n",
       "    </tr>\n",
       "    <tr>\n",
       "      <th>10</th>\n",
       "      <td>61823600</td>\n",
       "      <td>2</td>\n",
       "      <td>2.0</td>\n",
       "      <td>2.0</td>\n",
       "      <td>1.0</td>\n",
       "      <td>2</td>\n",
       "      <td>2</td>\n",
       "      <td>2</td>\n",
       "      <td>2</td>\n",
       "      <td>1.0</td>\n",
       "      <td>...</td>\n",
       "      <td>0.1537</td>\n",
       "      <td>0.012607</td>\n",
       "      <td>0.079653</td>\n",
       "      <td>10.952515</td>\n",
       "      <td>7.927092</td>\n",
       "      <td>34</td>\n",
       "      <td>Near-Crash</td>\n",
       "      <td>Turning left</td>\n",
       "      <td>Unsafe but legal</td>\n",
       "      <td>This vehicle lost control - excessive speed</td>\n",
       "    </tr>\n",
       "    <tr>\n",
       "      <th>15</th>\n",
       "      <td>62537802</td>\n",
       "      <td>2</td>\n",
       "      <td>1.0</td>\n",
       "      <td>1.0</td>\n",
       "      <td>1.0</td>\n",
       "      <td>1</td>\n",
       "      <td>2</td>\n",
       "      <td>2</td>\n",
       "      <td>2</td>\n",
       "      <td>1.0</td>\n",
       "      <td>...</td>\n",
       "      <td>-0.0087</td>\n",
       "      <td>0.089578</td>\n",
       "      <td>0.055144</td>\n",
       "      <td>37.314615</td>\n",
       "      <td>9.842376</td>\n",
       "      <td>79</td>\n",
       "      <td>Balanced-Sample Baseline</td>\n",
       "      <td>Turning right</td>\n",
       "      <td>Safe and legal</td>\n",
       "      <td>(null)</td>\n",
       "    </tr>\n",
       "    <tr>\n",
       "      <th>16</th>\n",
       "      <td>62572754</td>\n",
       "      <td>2</td>\n",
       "      <td>1.0</td>\n",
       "      <td>2.0</td>\n",
       "      <td>2.0</td>\n",
       "      <td>2</td>\n",
       "      <td>2</td>\n",
       "      <td>2</td>\n",
       "      <td>2</td>\n",
       "      <td>1.0</td>\n",
       "      <td>...</td>\n",
       "      <td>0.2668</td>\n",
       "      <td>0.054206</td>\n",
       "      <td>0.080610</td>\n",
       "      <td>10.640001</td>\n",
       "      <td>11.261587</td>\n",
       "      <td>84</td>\n",
       "      <td>Balanced-Sample Baseline</td>\n",
       "      <td>Decelerating in traffic lane</td>\n",
       "      <td>Safe and legal</td>\n",
       "      <td>(null)</td>\n",
       "    </tr>\n",
       "  </tbody>\n",
       "</table>\n",
       "<p>5 rows × 35 columns</p>\n",
       "</div>"
      ],
      "text/plain": [
       "     File_id  Time_day  weather_conditions  intersection_type  Dedicated_turn  \\\n",
       "8   61469021         2                 1.0                1.0             2.0   \n",
       "9   61724116         2                 1.0                2.0             2.0   \n",
       "10  61823600         2                 2.0                2.0             1.0   \n",
       "15  62537802         2                 1.0                1.0             1.0   \n",
       "16  62572754         2                 1.0                2.0             2.0   \n",
       "\n",
       "    Wait_at_intersection  signalized_intersect  opposing_lanes  \\\n",
       "8                      2                     2               1   \n",
       "9                      1                     2               2   \n",
       "10                     2                     2               2   \n",
       "15                     1                     2               2   \n",
       "16                     2                     2               2   \n",
       "\n",
       "    vehicle_movement  Signal_obscured  \\\n",
       "8                  2              1.0   \n",
       "9                  2              1.0   \n",
       "10                 2              1.0   \n",
       "15                 2              1.0   \n",
       "16                 2              1.0   \n",
       "\n",
       "                          ...                          max_acceleration  \\\n",
       "8                         ...                                    0.1595   \n",
       "9                         ...                                    0.0812   \n",
       "10                        ...                                    0.1537   \n",
       "15                        ...                                   -0.0087   \n",
       "16                        ...                                    0.2668   \n",
       "\n",
       "    6_Avg_Acceleration  6_std_Acceleration  6_Avg_speed  6_std_speed  age  \\\n",
       "8             0.100008            0.057583    15.769231     9.137813   34   \n",
       "9             0.014693            0.053582    39.936923     1.570693   44   \n",
       "10            0.012607            0.079653    10.952515     7.927092   34   \n",
       "15            0.089578            0.055144    37.314615     9.842376   79   \n",
       "16            0.054206            0.080610    10.640001    11.261587   84   \n",
       "\n",
       "                 crashStatus           preIncidentManeuver  maneuverJudgment  \\\n",
       "8                 Near-Crash           Negotiating a curve    Safe and legal   \n",
       "9   Balanced-Sample Baseline  Decelerating in traffic lane    Safe and legal   \n",
       "10                Near-Crash                  Turning left  Unsafe but legal   \n",
       "15  Balanced-Sample Baseline                 Turning right    Safe and legal   \n",
       "16  Balanced-Sample Baseline  Decelerating in traffic lane    Safe and legal   \n",
       "\n",
       "                                   precipitatingEvent  \n",
       "8   Other vehicle entering intersection - left tur...  \n",
       "9                                              (null)  \n",
       "10        This vehicle lost control - excessive speed  \n",
       "15                                             (null)  \n",
       "16                                             (null)  \n",
       "\n",
       "[5 rows x 35 columns]"
      ]
     },
     "execution_count": 42,
     "metadata": {},
     "output_type": "execute_result"
    }
   ],
   "source": [
    "leftTurn.head(5)"
   ]
  },
  {
   "cell_type": "code",
   "execution_count": 44,
   "metadata": {},
   "outputs": [],
   "source": [
    "data = leftTurn.drop([\"File_id\",\"time_of_entering\",\"time_of_exiting\",\"precipitatingEvent\",\"preIncidentManeuver\",\"crashStatus\", \"crash\", \"maneuverJudgment\", \"incomplete_video\", \"vehicle_movement\", 'intersection_type'], axis = 1)"
   ]
  },
  {
   "cell_type": "code",
   "execution_count": 45,
   "metadata": {},
   "outputs": [
    {
     "data": {
      "text/plain": [
       "Index(['Time_day', 'weather_conditions', 'Dedicated_turn',\n",
       "       'Wait_at_intersection', 'signalized_intersect', 'opposing_lanes',\n",
       "       'Signal_obscured', 'signal_state', 'turn_signal', 'turn_phase',\n",
       "       'traffic_obscured', 'gap_decision', 'lead_vehicle', 'Avg_Acceleration',\n",
       "       'std_Acceleration', 'Avg_speed', 'std_speed', 'max_speed',\n",
       "       'max_acceleration', '6_Avg_Acceleration', '6_std_Acceleration',\n",
       "       '6_Avg_speed', '6_std_speed', 'age'],\n",
       "      dtype='object')"
      ]
     },
     "execution_count": 45,
     "metadata": {},
     "output_type": "execute_result"
    }
   ],
   "source": [
    "data.columns"
   ]
  },
  {
   "cell_type": "markdown",
   "metadata": {},
   "source": [
    "#  "
   ]
  },
  {
   "cell_type": "markdown",
   "metadata": {},
   "source": [
    "# Helper Function to fit to the classifier, print training and validation accuracy, precision, recall, f1 Score, Confusion Matrix."
   ]
  },
  {
   "cell_type": "markdown",
   "metadata": {},
   "source": [
    "#  "
   ]
  },
  {
   "cell_type": "code",
   "execution_count": 46,
   "metadata": {},
   "outputs": [
    {
     "name": "stdout",
     "output_type": "stream",
     "text": [
      "Number of crashs events:  140.0\n",
      "Class Balance with Crash and no Crash:  0.509090909091\n"
     ]
    }
   ],
   "source": [
    "filledData = data.where(pd.notna(data), data.mean(), axis='columns')\n",
    "y = leftTurn[\"crashStatus\"]\n",
    "y[y==\"Balanced-Sample Baseline\"] = False\n",
    "y[y != False] = True\n",
    "y  = np.asarray(y,dtype=np.float64)\n",
    "print(\"Number of crashs events: \", sum(y))\n",
    "print(\"Class Balance with Crash and no Crash: \", sum(y)/len(y))\n",
    "# from sklearn.feature_selection import SelectKBest,f_classif\n",
    "# selector = SelectKBest(f_classif, k=10).fit(filledData,y)\n",
    "# featurefilledData = selector.transform(filledData)\n",
    "X_train, X_test, y_train, y_test = train_test_split(filledData, y, train_size=0.8)"
   ]
  },
  {
   "cell_type": "code",
   "execution_count": 47,
   "metadata": {},
   "outputs": [],
   "source": [
    "def plot_confusion_matrix(cm, classes,\n",
    "                          normalize=False,\n",
    "                          title='Confusion matrix',\n",
    "                          cmap=plt.cm.Blues):\n",
    "    \"\"\"\n",
    "    This function prints and plots the confusion matrix.\n",
    "    Normalization can be applied by setting `normalize=True`.\n",
    "    \"\"\"\n",
    "    if normalize:\n",
    "        cm = cm.astype('float') / cm.sum(axis=1)[:, np.newaxis]\n",
    "        print(\"Normalized confusion matrix\")\n",
    "    else:\n",
    "        print('Confusion matrix, without normalization')\n",
    "\n",
    "    print(cm)\n",
    "\n",
    "    plt.imshow(cm, interpolation='nearest', cmap=cmap)\n",
    "    plt.title(title)\n",
    "    plt.colorbar()\n",
    "    tick_marks = np.arange(len(classes))\n",
    "    plt.xticks(tick_marks, classes, rotation=45)\n",
    "    plt.yticks(tick_marks, classes)\n",
    "\n",
    "    fmt = '.2f' if normalize else 'd'\n",
    "    thresh = cm.max() / 2.\n",
    "    for i, j in itertools.product(range(cm.shape[0]), range(cm.shape[1])):\n",
    "        plt.text(j, i, format(cm[i, j], fmt),\n",
    "                 horizontalalignment=\"center\",\n",
    "                 color=\"white\" if cm[i, j] > thresh else \"black\")\n",
    "\n",
    "    plt.tight_layout()\n",
    "    plt.ylabel('True label')\n",
    "    plt.xlabel('Predicted label')\n",
    "\n",
    "    \n",
    "\n",
    "\n",
    "def Classifier_performance(clf, target_names, y, filledData=filledData, X_train=X_train, X_test=X_test, y_train=y_train, y_test=y_test, title=\"confusion matrix\"):\n",
    "    clf.fit(X_train, y_train)\n",
    "    y_pred = clf.predict(X_test)\n",
    "    Y_train_pred = clf.predict(X_train)\n",
    "    print(\"Training Accuracy Score: \", accuracy_score(Y_train_pred , y_train))\n",
    "    print(\"validation Accuracy Score:\", accuracy_score(y_pred, y_test))\n",
    "    print(\"Classification Report: \")\n",
    "    print(classification_report(y_test, y_pred, target_names=target_names))\n",
    "    cm = confusion_matrix(y_test, y_pred)\n",
    "    # Plot normalized confusion matrix\n",
    "    #plt.figure()\n",
    "    plot_confusion_matrix(cm, classes=target_names, normalize=False,\n",
    "                          title=title)\n",
    "\n",
    "    plt.show()\n",
    "    plt.close()\n",
    "    \n",
    "    pca = PCA(n_components=2)\n",
    "    filledData_lower = pca.fit_transform(filledData)\n",
    "    y = pd.Series(y)\n",
    "    filledData_lower = pd.DataFrame(filledData_lower)\n",
    "    filledData_lower['labels'] = y.values\n",
    "    X = filledData_lower\n",
    "    y = filledData_lower[\"labels\"]\n",
    "    y  = np.asarray(y,dtype=np.float64)\n",
    "    crash = filledData_lower[filledData_lower[\"labels\"] == 1]\n",
    "    no_crash = filledData_lower[filledData_lower[\"labels\"] == 0]\n",
    "    plt.plot(crash[0], crash[1], \"*\", label=target_names[0])\n",
    "    plt.plot(no_crash[0], no_crash[1], \"o\", label=target_names[1])\n",
    "    plt.legend()\n",
    "    plt.show()\n",
    "    plt.close()"
   ]
  },
  {
   "cell_type": "markdown",
   "metadata": {},
   "source": [
    "# Predicting Crash risk of all the drivers using oridinary least square penality considering crash and near crash as one entry."
   ]
  },
  {
   "cell_type": "code",
   "execution_count": 50,
   "metadata": {},
   "outputs": [],
   "source": [
    "clf = LogisticRegression(max_iter=1000, penalty='l1')"
   ]
  },
  {
   "cell_type": "code",
   "execution_count": 51,
   "metadata": {
    "scrolled": false
   },
   "outputs": [
    {
     "name": "stdout",
     "output_type": "stream",
     "text": [
      "Training Accuracy Score:  0.718181818182\n",
      "validation Accuracy Score: 0.654545454545\n",
      "Classification Report: \n",
      "             precision    recall  f1-score   support\n",
      "\n",
      "   No_crash       0.65      0.71      0.68        28\n",
      "      Crash       0.67      0.59      0.63        27\n",
      "\n",
      "avg / total       0.66      0.65      0.65        55\n",
      "\n",
      "Confusion matrix, without normalization\n",
      "[[20  8]\n",
      " [11 16]]\n"
     ]
    },
    {
     "data": {
      "image/png": "[encoded data removed]",
      "text/plain": [
       "<Figure size 432x288 with 2 Axes>"
      ]
     },
     "metadata": {},
     "output_type": "display_data"
    },
    {
     "data": {
      "image/png": "[encoded data removed]",
      "text/plain": [
       "<Figure size 432x288 with 1 Axes>"
      ]
     },
     "metadata": {},
     "output_type": "display_data"
    }
   ],
   "source": [
    "Classifier_performance(clf, [\"No_crash\", \"Crash\"], y, filledData=filledData, X_train=X_train, X_test=X_test, y_train=y_train, y_test=y_test )"
   ]
  },
  {
   "cell_type": "code",
   "execution_count": 52,
   "metadata": {
    "scrolled": false
   },
   "outputs": [
    {
     "name": "stdout",
     "output_type": "stream",
     "text": [
      "                            OLS Regression Results                            \n",
      "==============================================================================\n",
      "Dep. Variable:                      y   R-squared:                       0.646\n",
      "Model:                            OLS   Adj. R-squared:                  0.612\n",
      "Method:                 Least Squares   F-statistic:                     19.10\n",
      "Date:                Wed, 23 May 2018   Prob (F-statistic):           1.03e-43\n",
      "Time:                        21:39:05   Log-Likelihood:                -154.52\n",
      "No. Observations:                 275   AIC:                             357.0\n",
      "Df Residuals:                     251   BIC:                             443.8\n",
      "Df Model:                          24                                         \n",
      "Covariance Type:            nonrobust                                         \n",
      "========================================================================================\n",
      "                           coef    std err          t      P>|t|      [0.025      0.975]\n",
      "----------------------------------------------------------------------------------------\n",
      "Time_day                -0.1879      0.074     -2.553      0.011      -0.333      -0.043\n",
      "weather_conditions       0.0796      0.084      0.946      0.345      -0.086       0.245\n",
      "Dedicated_turn          -0.0476      0.070     -0.681      0.497      -0.185       0.090\n",
      "Wait_at_intersection    -0.0341      0.085     -0.403      0.687      -0.201       0.132\n",
      "signalized_intersect    -0.1114      0.164     -0.679      0.498      -0.435       0.212\n",
      "opposing_lanes           0.0926      0.076      1.211      0.227      -0.058       0.243\n",
      "Signal_obscured          0.1670      0.219      0.762      0.447      -0.265       0.599\n",
      "signal_state             0.0882      0.074      1.190      0.235      -0.058       0.234\n",
      "turn_signal             -0.0055      0.039     -0.142      0.887      -0.082       0.071\n",
      "turn_phase               0.0782      0.073      1.065      0.288      -0.066       0.223\n",
      "traffic_obscured        -0.2082      0.139     -1.497      0.136      -0.482       0.066\n",
      "gap_decision             0.0584      0.081      0.723      0.470      -0.101       0.218\n",
      "lead_vehicle             0.1490      0.066      2.272      0.024       0.020       0.278\n",
      "Avg_Acceleration        -0.5241      0.769     -0.681      0.496      -2.039       0.991\n",
      "std_Acceleration         2.4128      0.771      3.128      0.002       0.894       3.932\n",
      "Avg_speed               -0.0103      0.011     -0.938      0.349      -0.032       0.011\n",
      "std_speed               -0.0314      0.021     -1.464      0.145      -0.074       0.011\n",
      "max_speed                0.0133      0.011      1.227      0.221      -0.008       0.035\n",
      "max_acceleration         0.1929      0.427      0.452      0.652      -0.647       1.033\n",
      "6_Avg_Acceleration       0.6257      1.081      0.579      0.563      -1.503       2.754\n",
      "6_std_Acceleration       1.1499      1.129      1.018      0.310      -1.074       3.374\n",
      "6_Avg_speed             -0.0041      0.006     -0.723      0.470      -0.015       0.007\n",
      "6_std_speed             -0.0041      0.011     -0.395      0.693      -0.025       0.017\n",
      "age                      0.0012      0.002      0.781      0.435      -0.002       0.004\n",
      "==============================================================================\n",
      "Omnibus:                      496.719   Durbin-Watson:                   2.138\n",
      "Prob(Omnibus):                  0.000   Jarque-Bera (JB):               25.653\n",
      "Skew:                           0.321   Prob(JB):                     2.69e-06\n",
      "Kurtosis:                       1.649   Cond. No.                     3.95e+03\n",
      "==============================================================================\n",
      "\n",
      "Warnings:\n",
      "[1] Standard Errors assume that the covariance matrix of the errors is correctly specified.\n",
      "[2] The condition number is large, 3.95e+03. This might indicate that there are\n",
      "strong multicollinearity or other numerical problems.\n"
     ]
    }
   ],
   "source": [
    "import statsmodels.api as sm\n",
    "from scipy import stats\n",
    "est = sm.OLS(y, filledData.astype(float))\n",
    "est2 = est.fit()\n",
    "print(est2.summary())"
   ]
  },
  {
   "cell_type": "markdown",
   "metadata": {},
   "source": [
    "#  "
   ]
  },
  {
   "cell_type": "markdown",
   "metadata": {},
   "source": [
    "#  Performing Analysis for older driver prediction using "
   ]
  },
  {
   "cell_type": "markdown",
   "metadata": {},
   "source": [
    "#  "
   ]
  },
  {
   "cell_type": "code",
   "execution_count": 53,
   "metadata": {
    "scrolled": false
   },
   "outputs": [],
   "source": [
    "filledData = data.where(pd.notna(data), data.mean(), axis='columns')\n",
    "y = leftTurn[\"age\"]\n",
    "y[y >= 65] = True\n",
    "y[y != True] = False\n",
    "y  = np.asarray(y,dtype=np.float64)"
   ]
  },
  {
   "cell_type": "code",
   "execution_count": 54,
   "metadata": {},
   "outputs": [],
   "source": [
    "filledData = filledData.drop([\"age\"], axis =1)"
   ]
  },
  {
   "cell_type": "code",
   "execution_count": 55,
   "metadata": {},
   "outputs": [
    {
     "name": "stdout",
     "output_type": "stream",
     "text": [
      "Number of old drivers:  172.0\n",
      "Class Balance with old drivers and young driver:  0.625454545455\n"
     ]
    }
   ],
   "source": [
    "print(\"Number of old drivers: \", sum(y))\n",
    "print(\"Class Balance with old drivers and young driver: \", sum(y)/len(y))"
   ]
  },
  {
   "cell_type": "code",
   "execution_count": 56,
   "metadata": {},
   "outputs": [],
   "source": [
    "# from sklearn.feature_selection import SelectKBest,f_classif\n",
    "# selector = SelectKBest(f_classif, k=\"all\").fit(filledData,y)\n",
    "# featurefilledData = selector.transform(filledData)\n",
    "#featurefilledData.shape"
   ]
  },
  {
   "cell_type": "code",
   "execution_count": 57,
   "metadata": {},
   "outputs": [],
   "source": [
    "X_train, X_test, y_train, y_test = train_test_split(filledData, y, train_size=0.7)"
   ]
  },
  {
   "cell_type": "code",
   "execution_count": 58,
   "metadata": {},
   "outputs": [],
   "source": [
    "clf = LogisticRegression(max_iter=1000, penalty='l1')"
   ]
  },
  {
   "cell_type": "code",
   "execution_count": 59,
   "metadata": {},
   "outputs": [
    {
     "name": "stdout",
     "output_type": "stream",
     "text": [
      "Training Accuracy Score:  0.671875\n",
      "validation Accuracy Score: 0.578313253012\n",
      "Classification Report: \n",
      "             precision    recall  f1-score   support\n",
      "\n",
      "        Old       0.60      0.16      0.26        37\n",
      "      Young       0.58      0.91      0.71        46\n",
      "\n",
      "avg / total       0.59      0.58      0.51        83\n",
      "\n",
      "Confusion matrix, without normalization\n",
      "[[ 6 31]\n",
      " [ 4 42]]\n"
     ]
    },
    {
     "data": {
      "image/png": "[encoded data removed]",
      "text/plain": [
       "<Figure size 432x288 with 2 Axes>"
      ]
     },
     "metadata": {},
     "output_type": "display_data"
    },
    {
     "data": {
      "image/png": "[encoded data removed]",
      "text/plain": [
       "<Figure size 432x288 with 1 Axes>"
      ]
     },
     "metadata": {},
     "output_type": "display_data"
    }
   ],
   "source": [
    "Classifier_performance(clf, [\"Old\", \"Young\"], y, filledData=filledData, X_train=X_train, X_test=X_test, y_train=y_train, y_test=y_test )"
   ]
  },
  {
   "cell_type": "code",
   "execution_count": 60,
   "metadata": {
    "scrolled": false
   },
   "outputs": [
    {
     "name": "stdout",
     "output_type": "stream",
     "text": [
      "                            OLS Regression Results                            \n",
      "==============================================================================\n",
      "Dep. Variable:                      y   R-squared:                       0.666\n",
      "Model:                            OLS   Adj. R-squared:                  0.635\n",
      "Method:                 Least Squares   F-statistic:                     21.83\n",
      "Date:                Wed, 23 May 2018   Prob (F-statistic):           2.29e-47\n",
      "Time:                        21:39:53   Log-Likelihood:                -174.96\n",
      "No. Observations:                 275   AIC:                             395.9\n",
      "Df Residuals:                     252   BIC:                             479.1\n",
      "Df Model:                          23                                         \n",
      "Covariance Type:            nonrobust                                         \n",
      "========================================================================================\n",
      "                           coef    std err          t      P>|t|      [0.025      0.975]\n",
      "----------------------------------------------------------------------------------------\n",
      "Time_day                 0.0314      0.079      0.399      0.691      -0.124       0.187\n",
      "weather_conditions      -0.0809      0.090     -0.895      0.372      -0.259       0.097\n",
      "Dedicated_turn           0.0266      0.075      0.354      0.723      -0.121       0.175\n",
      "Wait_at_intersection     0.0062      0.091      0.068      0.945      -0.173       0.185\n",
      "signalized_intersect     0.1478      0.176      0.841      0.401      -0.198       0.494\n",
      "opposing_lanes           0.0015      0.082      0.018      0.985      -0.160       0.163\n",
      "Signal_obscured          0.1211      0.235      0.515      0.607      -0.342       0.584\n",
      "signal_state             0.0436      0.080      0.548      0.584      -0.113       0.200\n",
      "turn_signal              0.0160      0.042      0.383      0.702      -0.066       0.098\n",
      "turn_phase              -0.0066      0.079     -0.084      0.933      -0.161       0.148\n",
      "traffic_obscured         0.2618      0.148      1.765      0.079      -0.030       0.554\n",
      "gap_decision             0.1774      0.085      2.076      0.039       0.009       0.346\n",
      "lead_vehicle            -0.1016      0.070     -1.450      0.148      -0.240       0.036\n",
      "Avg_Acceleration        -0.2583      0.827     -0.312      0.755      -1.886       1.370\n",
      "std_Acceleration         0.6276      0.828      0.758      0.449      -1.004       2.259\n",
      "Avg_speed                0.0464      0.011      4.052      0.000       0.024       0.069\n",
      "std_speed                0.0557      0.023      2.458      0.015       0.011       0.100\n",
      "max_speed               -0.0457      0.011     -4.058      0.000      -0.068      -0.024\n",
      "max_acceleration         0.1272      0.459      0.277      0.782      -0.776       1.030\n",
      "6_Avg_Acceleration       0.3122      1.162      0.269      0.788      -1.976       2.601\n",
      "6_std_Acceleration      -0.6132      1.212     -0.506      0.613      -3.001       1.774\n",
      "6_Avg_speed             -0.0039      0.006     -0.637      0.524      -0.016       0.008\n",
      "6_std_speed             -0.0145      0.011     -1.284      0.200      -0.037       0.008\n",
      "==============================================================================\n",
      "Omnibus:                     1610.600   Durbin-Watson:                   1.831\n",
      "Prob(Omnibus):                  0.000   Jarque-Bera (JB):               28.474\n",
      "Skew:                          -0.345   Prob(JB):                     6.56e-07\n",
      "Kurtosis:                       1.583   Cond. No.                     2.29e+03\n",
      "==============================================================================\n",
      "\n",
      "Warnings:\n",
      "[1] Standard Errors assume that the covariance matrix of the errors is correctly specified.\n",
      "[2] The condition number is large, 2.29e+03. This might indicate that there are\n",
      "strong multicollinearity or other numerical problems.\n"
     ]
    }
   ],
   "source": [
    "import statsmodels.api as sm\n",
    "from scipy import stats\n",
    "est = sm.OLS(y, filledData.astype(float))\n",
    "est2 = est.fit()\n",
    "print(est2.summary())"
   ]
  },
  {
   "cell_type": "code",
   "execution_count": null,
   "metadata": {},
   "outputs": [],
   "source": []
  }
 ],
 "metadata": {
  "kernelspec": {
   "display_name": "Python 3",
   "language": "python",
   "name": "python3"
  },
  "language_info": {
   "codemirror_mode": {
    "name": "ipython",
    "version": 3
   },
   "file_extension": ".py",
   "mimetype": "text/x-python",
   "name": "python",
   "nbconvert_exporter": "python",
   "pygments_lexer": "ipython3",
   "version": "3.6.3"
  }
 },
 "nbformat": 4,
 "nbformat_minor": 2
}
