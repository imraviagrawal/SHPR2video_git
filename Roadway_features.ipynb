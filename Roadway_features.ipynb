{
 "cells": [
  {
   "cell_type": "code",
   "execution_count": 1,
   "metadata": {},
   "outputs": [
    {
     "name": "stderr",
     "output_type": "stream",
     "text": [
      "/Users/raviagrawal/miniconda3/lib/python3.6/importlib/_bootstrap.py:219: RuntimeWarning: numpy.dtype size changed, may indicate binary incompatibility. Expected 96, got 88\n",
      "  return f(*args, **kwds)\n",
      "/Users/raviagrawal/miniconda3/lib/python3.6/importlib/_bootstrap.py:219: RuntimeWarning: numpy.dtype size changed, may indicate binary incompatibility. Expected 96, got 88\n",
      "  return f(*args, **kwds)\n"
     ]
    }
   ],
   "source": [
    "# imports \n",
    "import numpy as np \n",
    "import pandas as pd\n",
    "import matplotlib.pyplot as plt\n"
   ]
  },
  {
   "cell_type": "code",
   "execution_count": 2,
   "metadata": {},
   "outputs": [],
   "source": [
    "# Reading the data\n",
    "leftTurn = pd.read_excel(\"leftturn.xlsx\")"
   ]
  },
  {
   "cell_type": "code",
   "execution_count": 4,
   "metadata": {},
   "outputs": [
    {
     "data": {
      "text/plain": [
       "Index(['File_id', 'Time_day', 'weather_conditions', 'intersection_type',\n",
       "       'Dedicated_turn', 'Wait_at_intersection', 'signalized_intersect',\n",
       "       'opposing_lanes', 'vehicle_movement', 'Signal_obscured', 'signal_state',\n",
       "       'turn_signal', 'turn_phase', 'traffic_obscured', 'time_of_entering',\n",
       "       'gap_decision', 'time_of_exiting', 'lead_vehicle', 'crash',\n",
       "       'incomplete_video', 'Avg_Acceleration', 'std_Acceleration', 'Avg_speed',\n",
       "       'std_speed', 'max_speed', 'max_acceleration', '6_Avg_Acceleration',\n",
       "       '6_std_Acceleration', '6_Avg_speed', '6_std_speed', 'age',\n",
       "       'crashStatus', 'preIncidentManeuver', 'maneuverJudgment',\n",
       "       'precipitatingEvent'],\n",
       "      dtype='object')"
      ]
     },
     "execution_count": 4,
     "metadata": {},
     "output_type": "execute_result"
    }
   ],
   "source": []
  },
  {
   "cell_type": "code",
   "execution_count": null,
   "metadata": {},
   "outputs": [],
   "source": []
  }
 ],
 "metadata": {
  "kernelspec": {
   "display_name": "Python 3",
   "language": "python",
   "name": "python3"
  },
  "language_info": {
   "codemirror_mode": {
    "name": "ipython",
    "version": 3
   },
   "file_extension": ".py",
   "mimetype": "text/x-python",
   "name": "python",
   "nbconvert_exporter": "python",
   "pygments_lexer": "ipython3",
   "version": "3.6.3"
  }
 },
 "nbformat": 4,
 "nbformat_minor": 2
}
